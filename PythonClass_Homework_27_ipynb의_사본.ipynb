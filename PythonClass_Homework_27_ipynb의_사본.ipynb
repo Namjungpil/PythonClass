{
  "nbformat": 4,
  "nbformat_minor": 0,
  "metadata": {
    "colab": {
      "provenance": [],
      "authorship_tag": "ABX9TyMIqyNvLuoEp/SCVdOiYtd9",
      "include_colab_link": true
    },
    "kernelspec": {
      "name": "python3",
      "display_name": "Python 3"
    },
    "language_info": {
      "name": "python"
    }
  },
  "cells": [
    {
      "cell_type": "markdown",
      "metadata": {
        "id": "view-in-github",
        "colab_type": "text"
      },
      "source": [
        "<a href=\"https://colab.research.google.com/github/Namjungpil/PythonClass/blob/main/PythonClass_Homework_27_ipynb%EC%9D%98_%EC%82%AC%EB%B3%B8.ipynb\" target=\"_parent\"><img src=\"https://colab.research.google.com/assets/colab-badge.svg\" alt=\"Open In Colab\"/></a>"
      ]
    },
    {
      "cell_type": "code",
      "execution_count": null,
      "metadata": {
        "colab": {
          "base_uri": "https://localhost:8080/",
          "height": 136
        },
        "id": "ElYzEw46ENix",
        "outputId": "5001d63d-df0d-46a2-c35e-a4095e14e4e8"
      },
      "outputs": [
        {
          "output_type": "error",
          "ename": "SyntaxError",
          "evalue": "ignored",
          "traceback": [
            "\u001b[0;36m  File \u001b[0;32m\"<ipython-input-9-94901378025d>\"\u001b[0;36m, line \u001b[0;32m3\u001b[0m\n\u001b[0;31m    pip install selenium\u001b[0m\n\u001b[0m        ^\u001b[0m\n\u001b[0;31mSyntaxError\u001b[0m\u001b[0;31m:\u001b[0m invalid syntax\n"
          ]
        }
      ],
      "source": [
        "# Naver 영화 사이트 크롤링해서 순위, 영화명, 평점을 100위까지 엑셀로 추출하기\n",
        "\n",
        "pip install selenium\n"
      ]
    },
    {
      "cell_type": "code",
      "source": [
        "pip install pandas"
      ],
      "metadata": {
        "colab": {
          "base_uri": "https://localhost:8080/"
        },
        "id": "VQCkR4NlHXVC",
        "outputId": "2972bd84-97bf-489d-d673-548c616fea07"
      },
      "execution_count": null,
      "outputs": [
        {
          "output_type": "stream",
          "name": "stdout",
          "text": [
            "Looking in indexes: https://pypi.org/simple, https://us-python.pkg.dev/colab-wheels/public/simple/\n",
            "Requirement already satisfied: pandas in /usr/local/lib/python3.8/dist-packages (1.3.5)\n",
            "Requirement already satisfied: numpy>=1.17.3 in /usr/local/lib/python3.8/dist-packages (from pandas) (1.21.6)\n",
            "Requirement already satisfied: python-dateutil>=2.7.3 in /usr/local/lib/python3.8/dist-packages (from pandas) (2.8.2)\n",
            "Requirement already satisfied: pytz>=2017.3 in /usr/local/lib/python3.8/dist-packages (from pandas) (2022.6)\n",
            "Requirement already satisfied: six>=1.5 in /usr/local/lib/python3.8/dist-packages (from python-dateutil>=2.7.3->pandas) (1.15.0)\n"
          ]
        }
      ]
    },
    {
      "cell_type": "code",
      "source": [
        "pip install openpyxl"
      ],
      "metadata": {
        "colab": {
          "base_uri": "https://localhost:8080/"
        },
        "id": "s-SQJEVOHagf",
        "outputId": "7e09b803-86ad-423f-9ebc-39d28e4d17ca"
      },
      "execution_count": null,
      "outputs": [
        {
          "output_type": "stream",
          "name": "stdout",
          "text": [
            "Looking in indexes: https://pypi.org/simple, https://us-python.pkg.dev/colab-wheels/public/simple/\n",
            "Requirement already satisfied: openpyxl in /usr/local/lib/python3.8/dist-packages (3.0.10)\n",
            "Requirement already satisfied: et-xmlfile in /usr/local/lib/python3.8/dist-packages (from openpyxl) (1.1.0)\n"
          ]
        }
      ]
    },
    {
      "cell_type": "code",
      "source": [
        "# url = https://movie.naver.com/movie/sdb/rank/rmovie.naver?sel=cur&date=20221211\n",
        "\n"
      ],
      "metadata": {
        "id": "7-DqCxrALdY-"
      },
      "execution_count": null,
      "outputs": []
    },
    {
      "cell_type": "code",
      "source": [
        "import requests\n",
        "from bs4 import BeautifulSoup as bs    # 인터넷으로 긁어온 데이터 정제\n",
        "\n",
        "url = \"https://movie.naver.com/movie/sdb/rank/rmovie.naver?sel=cur&date=20221211\"\n",
        "html = requests.get(url)\n",
        "\n",
        "print(html)"
      ],
      "metadata": {
        "colab": {
          "base_uri": "https://localhost:8080/"
        },
        "id": "JCtcglB2MQ2m",
        "outputId": "9e10c700-0661-4518-9dcd-6498304697e7"
      },
      "execution_count": null,
      "outputs": [
        {
          "output_type": "stream",
          "name": "stdout",
          "text": [
            "<Response [200]>\n"
          ]
        }
      ]
    },
    {
      "cell_type": "code",
      "source": [
        "soup = bs(html.text)\n",
        "print(soup)"
      ],
      "metadata": {
        "id": "SIOf_AGVM0e5"
      },
      "execution_count": null,
      "outputs": []
    },
    {
      "cell_type": "code",
      "source": [
        "len(soup.select('table.list_ranking > tbody > tr > td.title'))"
      ],
      "metadata": {
        "colab": {
          "base_uri": "https://localhost:8080/"
        },
        "id": "lVn9rFJiNXAG",
        "outputId": "9c826e43-d4e7-47f1-ce7a-7c544f0e7dda"
      },
      "execution_count": null,
      "outputs": [
        {
          "output_type": "execute_result",
          "data": {
            "text/plain": [
              "50"
            ]
          },
          "metadata": {},
          "execution_count": 39
        }
      ]
    },
    {
      "cell_type": "code",
      "source": [
        "title = soup.select('table.list_ranking > tbody > tr > td.title > div.tit5 > a ')\n",
        "print(title[0])\n",
        "print()\n",
        "star = soup.select('table.list_ranking > tbody > tr > td.point')\n",
        "print(star[0])"
      ],
      "metadata": {
        "colab": {
          "base_uri": "https://localhost:8080/"
        },
        "id": "rnXVMe9CPYe6",
        "outputId": "3adbb632-a5d8-4173-b671-89a6f54d22bf"
      },
      "execution_count": null,
      "outputs": [
        {
          "output_type": "stream",
          "name": "stdout",
          "text": [
            "<a href=\"/movie/bi/mi/basic.naver?code=81888\" title=\"탑건: 매버릭\">탑건: 매버릭</a>\n",
            "\n",
            "<td class=\"point\">9.76</td>\n"
          ]
        }
      ]
    },
    {
      "cell_type": "code",
      "source": [
        "print(title[0].text)\n",
        "print()\n",
        "print(star[0].text)"
      ],
      "metadata": {
        "colab": {
          "base_uri": "https://localhost:8080/"
        },
        "id": "OPc62BQoWIfy",
        "outputId": "b6e2e9f1-75ca-4e3f-c9a5-0d55066d8879"
      },
      "execution_count": null,
      "outputs": [
        {
          "output_type": "stream",
          "name": "stdout",
          "text": [
            "탑건: 매버릭\n",
            "\n",
            "9.76\n"
          ]
        }
      ]
    },
    {
      "cell_type": "code",
      "source": [
        "# Naver 영화 사이트 크롤링해서 순위, 영화명, 평점을 100위까지 엑셀로 추출하기\n",
        "import requests\n",
        "from bs4 import BeautifulSoup as bs    # 인터넷으로 긁어온 데이터 정제\n",
        "import pandas as pd\n",
        "\n",
        "url = \"https://movie.naver.com/movie/sdb/rank/rmovie.naver?sel=cur&date=20221211\"\n",
        "html = requests.get(url)\n",
        "movies = bs(html.text)\n",
        "\n",
        "titles = movies.select('table.list_ranking > tbody > tr > td.title > div.tit5 > a ')\n",
        "stars = movies.select('table.list_ranking > tbody > tr > td.point ')\n",
        "\n",
        "movie_data = []\n",
        "rank = 1\n",
        "for i in range(len(titles)) : \n",
        "    title = titles[i].text\n",
        "    star_score = stars[i].text\n",
        "    # print(f\"순위 {rank}    영화명 {title},   평점 {star_score}\") \n",
        "    movie_data.append([\"Naver 영화\", rank, title, star_score])\n",
        "    rank += 1\n",
        "\n",
        "df = pd.DataFrame(movie_data, columns = ['서비스','순위','영화','평점'])\n",
        "print(df)   \n",
        "\n",
        "df.to_excel('Naver_movie.xlsx', index=False)   # 엑셀로 추출\n",
        "\n"
      ],
      "metadata": {
        "colab": {
          "base_uri": "https://localhost:8080/"
        },
        "id": "OfgqwEUjYF5-",
        "outputId": "141a77c4-d863-4efc-817c-22b67d09d5fc"
      },
      "execution_count": null,
      "outputs": [
        {
          "output_type": "stream",
          "name": "stdout",
          "text": [
            "         서비스  순위                             영화    평점\n",
            "0   Naver 영화   1                        탑건: 매버릭  9.76\n",
            "1   Naver 영화   2                            올빼미  9.38\n",
            "2   Naver 영화   3  극장판 짱구는 못말려: 수수께끼! 꽃피는 천하떡잎학교  9.31\n",
            "3   Naver 영화   4                    바람과 함께 사라지다  9.25\n",
            "4   Naver 영화   5                     극장판 주술회전 0  9.23\n",
            "5   Naver 영화   6                             벤허  9.23\n",
            "6   Naver 영화   7                       인생은 아름다워  9.22\n",
            "7   Naver 영화   8                       너에게 가는 길  9.19\n",
            "8   Naver 영화   9                         어바웃 타임  9.18\n",
            "9   Naver 영화  10                             귀향  9.16\n",
            "10  Naver 영화  11                           러브레터  9.13\n",
            "11  Naver 영화  12                             코다  9.13\n",
            "12  Naver 영화  13                        오즈의 마법사  9.11\n",
            "13  Naver 영화  14                             탄생  9.09\n",
            "14  Naver 영화  15                         비긴 어게인  9.04\n",
            "15  Naver 영화  16                    타오르는 여인의 초상  9.03\n",
            "16  Naver 영화  17                           보디가드  9.01\n",
            "17  Naver 영화  18                           윤희에게  8.95\n",
            "18  Naver 영화  19                              시  8.95\n",
            "19  Naver 영화  20                        러브 액츄얼리  8.92\n",
            "20  Naver 영화  21                   매드맥스: 분노의 도로  8.81\n",
            "21  Naver 영화  22                        너의 이름은.  8.81\n",
            "22  Naver 영화  23                     찬실이는 복도 많지  8.77\n",
            "23  Naver 영화  24                      한산: 용의 출현  8.75\n",
            "24  Naver 영화  25                             벌새  8.74\n",
            "25  Naver 영화  26       오늘 밤, 세계에서 이 사랑이 사라진다 해도  8.72\n",
            "26  Naver 영화  27                         헤어질 결심  8.68\n",
            "27  Naver 영화  28                           라라랜드  8.62\n",
            "28  Naver 영화  29                             캐롤  8.61\n",
            "29  Naver 영화  30                             명량  8.44\n",
            "30  Naver 영화  31                             자백  8.39\n",
            "31  Naver 영화  32                   너의 췌장을 먹고 싶어  8.38\n",
            "32  Naver 영화  33                        초속5센티미터  8.36\n",
            "33  Naver 영화  34                       폴: 600미터  8.35\n",
            "34  Naver 영화  35                           모가디슈  8.34\n",
            "35  Naver 영화  36                           그래비티  8.31\n",
            "36  Naver 영화  37                         본즈 앤 올  8.31\n",
            "37  Naver 영화  38              에브리씽 에브리웨어 올 앳 원스  8.30\n",
            "38  Naver 영화  39                         우연과 상상  8.14\n",
            "39  Naver 영화  40                   너의 췌장을 먹고 싶어  8.12\n",
            "40  Naver 영화  41                    릴리 슈슈의 모든 것  8.11\n",
            "41  Naver 영화  42                         날씨의 아이  7.97\n",
            "42  Naver 영화  43                      하우스 오브 구찌  7.89\n",
            "43  Naver 영화  44                       크리스마스 캐럴  7.86\n",
            "44  Naver 영화  45                            데시벨  7.84\n",
            "45  Naver 영화  46               사랑할 땐 누구나 최악이 된다  7.73\n",
            "46  Naver 영화  47                            스펜서  7.68\n",
            "47  Naver 영화  48                            스마일  7.60\n",
            "48  Naver 영화  49                        리코리쉬 피자  7.58\n",
            "49  Naver 영화  50                         홀리 모터스  7.48\n"
          ]
        }
      ]
    }
  ]
}