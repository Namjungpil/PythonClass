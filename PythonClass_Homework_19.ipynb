{
  "nbformat": 4,
  "nbformat_minor": 0,
  "metadata": {
    "colab": {
      "provenance": [],
      "authorship_tag": "ABX9TyN66WFStxAHseRevaWBR8OF",
      "include_colab_link": true
    },
    "kernelspec": {
      "name": "python3",
      "display_name": "Python 3"
    },
    "language_info": {
      "name": "python"
    }
  },
  "cells": [
    {
      "cell_type": "markdown",
      "metadata": {
        "id": "view-in-github",
        "colab_type": "text"
      },
      "source": [
        "<a href=\"https://colab.research.google.com/github/Namjungpil/PythonClass/blob/main/PythonClass_Homework_19.ipynb\" target=\"_parent\"><img src=\"https://colab.research.google.com/assets/colab-badge.svg\" alt=\"Open In Colab\"/></a>"
      ]
    },
    {
      "cell_type": "code",
      "execution_count": 11,
      "metadata": {
        "colab": {
          "base_uri": "https://localhost:8080/"
        },
        "id": "AXWAe4dfWeH7",
        "outputId": "42379808-823f-4599-e35b-30d5e203c4d8"
      },
      "outputs": [
        {
          "output_type": "stream",
          "name": "stdout",
          "text": [
            "enter your name :  hong\n",
            "hong\n",
            "hong\n",
            "hong\n"
          ]
        }
      ],
      "source": [
        "# 35\n",
        "name = input(\"enter your name :  \")\n",
        "#print(name)\n",
        "#print(name)\n",
        "#print(name)\n",
        "\n",
        "for i in range(3) :\n",
        "  print(name)\n"
      ]
    },
    {
      "cell_type": "code",
      "source": [
        "# 36\n",
        "name = input(\"enter your name :  \")\n",
        "number = int(input(\"enter number of times :  \"))\n",
        "\n",
        "for i in range(number) :\n",
        "  print(name)\n",
        "  "
      ],
      "metadata": {
        "colab": {
          "base_uri": "https://localhost:8080/"
        },
        "id": "g74XTyu7Yepn",
        "outputId": "974b582b-ba4f-4e51-ebe7-073cb126ada5"
      },
      "execution_count": 12,
      "outputs": [
        {
          "output_type": "stream",
          "name": "stdout",
          "text": [
            "enter your name :  hong\n",
            "enter number of times :  5\n",
            "hong\n",
            "hong\n",
            "hong\n",
            "hong\n",
            "hong\n"
          ]
        }
      ]
    },
    {
      "cell_type": "code",
      "source": [
        "# 37\n",
        "name = input(\"enter your name :  \")\n",
        "\n",
        "for letter in name :\n",
        "  print(letter)"
      ],
      "metadata": {
        "colab": {
          "base_uri": "https://localhost:8080/"
        },
        "id": "lEEB_OtsY6-h",
        "outputId": "9c52c120-7c08-4014-8ede-a45a801e6bdc"
      },
      "execution_count": 15,
      "outputs": [
        {
          "output_type": "stream",
          "name": "stdout",
          "text": [
            "enter your name :  Hong\n",
            "H\n",
            "o\n",
            "n\n",
            "g\n"
          ]
        }
      ]
    },
    {
      "cell_type": "code",
      "source": [
        "# 38\n",
        "name = input(\"enter your name :  \")\n",
        "num = int(input(\"enter a number for repeat times : \"))\n",
        "\n",
        "for i in range(num) :\n",
        "  for letter in name :\n",
        "      print(letter)"
      ],
      "metadata": {
        "colab": {
          "base_uri": "https://localhost:8080/"
        },
        "id": "q0nCxpM4ZiDd",
        "outputId": "7de94d3e-3f17-4bdc-9593-b118cab7c52e"
      },
      "execution_count": 16,
      "outputs": [
        {
          "output_type": "stream",
          "name": "stdout",
          "text": [
            "enter your name :  Hong\n",
            "enter a number for repeat times : 3\n",
            "H\n",
            "o\n",
            "n\n",
            "g\n",
            "H\n",
            "o\n",
            "n\n",
            "g\n",
            "H\n",
            "o\n",
            "n\n",
            "g\n"
          ]
        }
      ]
    },
    {
      "cell_type": "code",
      "source": [
        "# 39\n",
        "num = int(input(\"enter a number between 1 and 12 : \"))\n",
        "\n",
        "# display times table for the number ?\n",
        "print(\"table \" * num)\n"
      ],
      "metadata": {
        "colab": {
          "base_uri": "https://localhost:8080/"
        },
        "id": "0uzXzIOgaOyN",
        "outputId": "73baba44-d33f-4497-d2a1-733b67a07556"
      },
      "execution_count": 19,
      "outputs": [
        {
          "output_type": "stream",
          "name": "stdout",
          "text": [
            "enter a number between 1 and 12 : 3\n",
            "table table table \n"
          ]
        }
      ]
    },
    {
      "cell_type": "code",
      "source": [
        "# 40\n",
        "num = int(input(\"enter a number below 50: \"))\n",
        "for i in range(50,num,-1) :\n",
        "  print(f\"entered number is {num}, & Count down from {i} to {i-1}\")\n"
      ],
      "metadata": {
        "colab": {
          "base_uri": "https://localhost:8080/"
        },
        "id": "23yuqM5hbedD",
        "outputId": "c3ddfdd2-fbdb-435b-9ad9-fbf2f3fd5e11"
      },
      "execution_count": 26,
      "outputs": [
        {
          "output_type": "stream",
          "name": "stdout",
          "text": [
            "enter a number below 50: 45\n",
            "entered number is 45, & Count down from 50 to 49\n",
            "entered number is 45, & Count down from 49 to 48\n",
            "entered number is 45, & Count down from 48 to 47\n",
            "entered number is 45, & Count down from 47 to 46\n",
            "entered number is 45, & Count down from 46 to 45\n"
          ]
        }
      ]
    },
    {
      "cell_type": "code",
      "source": [
        "# 41\n",
        "name = input(\"enter your name :  \")\n",
        "num = int(input(\"enter a number : \"))\n",
        "\n",
        "if num < 10 :\n",
        "  for i in range(num) :\n",
        "    print(name)\n",
        "\n",
        "else :\n",
        "  for i in range(3) :\n",
        "    print(\"Too high\")\n"
      ],
      "metadata": {
        "colab": {
          "base_uri": "https://localhost:8080/"
        },
        "id": "NGB0YCfpdfwm",
        "outputId": "e1b8e15b-3600-4e27-b3ac-02f2943d3eae"
      },
      "execution_count": 30,
      "outputs": [
        {
          "output_type": "stream",
          "name": "stdout",
          "text": [
            "enter your name :  Hong\n",
            "enter a number : 11\n",
            "Too high\n",
            "Too high\n",
            "Too high\n"
          ]
        }
      ]
    },
    {
      "cell_type": "code",
      "source": [
        "# 42\n",
        "total = 0\n",
        "\n",
        "for i in range(5) :\n",
        "  num = int(input(\"enter a number :  \"))\n",
        "  want = input(\"enter Yes to add this number to total, otherwise enter No: \")\n",
        "  if want == \"Yes\" :\n",
        "    total += num\n",
        "\n",
        "print(\"total number is \",total)"
      ],
      "metadata": {
        "colab": {
          "base_uri": "https://localhost:8080/"
        },
        "id": "fvR8g8MvfqqW",
        "outputId": "26c3170f-8b4d-42fb-f0cd-a4e0a1051e3d"
      },
      "execution_count": 42,
      "outputs": [
        {
          "output_type": "stream",
          "name": "stdout",
          "text": [
            "enter a number :  10\n",
            "enter Yes to add this number to total, otherwise enter No: Yes\n",
            "enter a number :  10\n",
            "enter Yes to add this number to total, otherwise enter No: Yes\n",
            "enter a number :  10\n",
            "enter Yes to add this number to total, otherwise enter No: No\n",
            "enter a number :  10\n",
            "enter Yes to add this number to total, otherwise enter No: No\n",
            "enter a number :  10\n",
            "enter Yes to add this number to total, otherwise enter No: Yes\n",
            "total number is  30\n"
          ]
        }
      ]
    },
    {
      "cell_type": "code",
      "source": [
        "# 43\n",
        "direct = input(\"which direction do you want, up or down?  \")\n",
        "if direct == \"up\" :\n",
        "   num = int(input(\"what top number do you want? \"))\n",
        "   for i in range(1,num+1) :\n",
        "     print(i)\n",
        "elif direct == \"down\" :\n",
        "   num = int(input(\"enter a number below 20  \"))\n",
        "   for i in range(20,num-1,-1) :\n",
        "     print(i)\n",
        "else : \n",
        "   print(\"I don't understand\")\n"
      ],
      "metadata": {
        "colab": {
          "base_uri": "https://localhost:8080/"
        },
        "id": "eq_AbuvcjAJQ",
        "outputId": "c7aa1c2f-6cd2-4c1a-bbb0-9569e92a290c"
      },
      "execution_count": 8,
      "outputs": [
        {
          "output_type": "stream",
          "name": "stdout",
          "text": [
            "which direction do you want, up or down?  down\n",
            "enter a number below 20  15\n",
            "20\n",
            "19\n",
            "18\n",
            "17\n",
            "16\n",
            "15\n"
          ]
        }
      ]
    },
    {
      "cell_type": "code",
      "source": [
        "# 44\n",
        "count = int(input(\"How many people you want to invite to a party?  \"))\n",
        "if count < 10 :\n",
        "  for i in range(count) :\n",
        "    name = input(\"who will be invited?  \")\n",
        "    print(f\"[{name}] has been invited\")\n",
        "else :\n",
        "  print(\"Too many peaple\")"
      ],
      "metadata": {
        "colab": {
          "base_uri": "https://localhost:8080/"
        },
        "id": "UD2Xhin1-Qze",
        "outputId": "10e4ee2d-2c82-4eea-e838-7151229dcb58"
      },
      "execution_count": 12,
      "outputs": [
        {
          "output_type": "stream",
          "name": "stdout",
          "text": [
            "How many people you want to invite to a party?  1\n",
            "who will be invited?  Hong Gildong\n",
            "[Hong Gildong] has been invited\n"
          ]
        }
      ]
    }
  ]
}