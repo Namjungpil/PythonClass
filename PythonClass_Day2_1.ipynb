{
  "cells": [
    {
      "cell_type": "markdown",
      "metadata": {
        "id": "view-in-github",
        "colab_type": "text"
      },
      "source": [
        "<a href=\"https://colab.research.google.com/github/Namjungpil/PythonClass/blob/main/PythonClass_Day2_1.ipynb\" target=\"_parent\"><img src=\"https://colab.research.google.com/assets/colab-badge.svg\" alt=\"Open In Colab\"/></a>"
      ]
    },
    {
      "cell_type": "code",
      "execution_count": null,
      "id": "088aa348",
      "metadata": {
        "id": "088aa348",
        "outputId": "7e6b7427-4592-4965-840a-bc8fe2394113"
      },
      "outputs": [
        {
          "name": "stdout",
          "output_type": "stream",
          "text": [
            "Hello World!!!\n"
          ]
        }
      ],
      "source": [
        "print(\"Hello World!!!\")"
      ]
    },
    {
      "cell_type": "code",
      "execution_count": null,
      "id": "c77f696d",
      "metadata": {
        "id": "c77f696d",
        "outputId": "72bee13b-6481-4f01-e4d5-f66fc01d35fb"
      },
      "outputs": [
        {
          "name": "stdout",
          "output_type": "stream",
          "text": [
            "택시를 타자\n"
          ]
        }
      ],
      "source": [
        "money = True\n",
        "if money == True :\n",
        "    print(\"택시를 타자\")\n",
        "else :\n",
        "    print(\"걸어 가자\")\n"
      ]
    },
    {
      "cell_type": "code",
      "execution_count": null,
      "id": "0e935e01",
      "metadata": {
        "id": "0e935e01",
        "outputId": "a6a48664-7d6a-42b6-bb25-f5dfba8cd0b3"
      },
      "outputs": [
        {
          "name": "stdout",
          "output_type": "stream",
          "text": [
            "버스를 타자\n"
          ]
        }
      ],
      "source": [
        "money = 3000\n",
        "\n",
        "if money >= 5000:\n",
        "    print(\"택시를 타자\")\n",
        "elif money >= 1000:\n",
        "    print(\"버스를 타자\")\n",
        "else:\n",
        "    print(\"걸어 가자\")\n",
        "    "
      ]
    },
    {
      "cell_type": "code",
      "execution_count": null,
      "id": "99619a57",
      "metadata": {
        "id": "99619a57",
        "outputId": "7fd90818-1f1a-4a0e-de08-2c1ac4922d00"
      },
      "outputs": [
        {
          "name": "stdout",
          "output_type": "stream",
          "text": [
            "학생의 점수는 몇 점입니까?50\n",
            "F 학점입니다\n"
          ]
        }
      ],
      "source": [
        "# 학생의 성적을 입력 받아서\n",
        "# 점수가 90 이상이면 \"A 학점입니다\"\n",
        "# 점수가 80 이상이면 \"B 학점입니다\"\n",
        "# 점수가 70 이상이면 \"C 학점입니다\"\n",
        "# 점수가 60 이상이면 \"D 학점입니다\"\n",
        "# 나머지는 모두 \"F 학점입니다\"\n",
        "\n",
        "score = int(input(\"학생의 점수는 몇 점입니까?\"))\n",
        "\n",
        "if score >= 90:\n",
        "    print(\"A 학점입니다\")\n",
        "    \n",
        "elif score >= 80:\n",
        "    print(\"B 학점입니다\")\n",
        "    \n",
        "elif score >= 70:\n",
        "    print(\"C 학점입니다\")\n",
        "    \n",
        "elif score >= 60:\n",
        "    print(\"D 학점입니다\")\n",
        "    \n",
        "else:\n",
        "    print(\"F 학점입니다\")\n"
      ]
    },
    {
      "cell_type": "code",
      "execution_count": null,
      "id": "a417a848",
      "metadata": {
        "id": "a417a848",
        "outputId": "e7c6a253-31e9-4fa4-8745-77ddc7963285"
      },
      "outputs": [
        {
          "name": "stdout",
          "output_type": "stream",
          "text": [
            "10\n",
            "9\n",
            "8\n",
            "7\n",
            "6\n",
            "5\n",
            "4\n",
            "3\n",
            "2\n",
            "1\n",
            "0\n"
          ]
        }
      ],
      "source": [
        "# while\n",
        "\n",
        "no = 10\n",
        "\n",
        "while no >= 0 :\n",
        "    print(no)\n",
        "    no = no -1\n",
        "    \n"
      ]
    },
    {
      "cell_type": "code",
      "execution_count": null,
      "id": "c2a23bb9",
      "metadata": {
        "id": "c2a23bb9",
        "outputId": "1ea001c0-3ddc-4e39-8e6b-655c233b314a"
      },
      "outputs": [
        {
          "name": "stdout",
          "output_type": "stream",
          "text": [
            "1.덧셈 / 2.뺄셈 / 3.곱셈 / 4.나눗셈 / 5.종료\n",
            "1\n",
            "1.덧셈 / 2.뺄셈 / 3.곱셈 / 4.나눗셈 / 5.종료\n",
            "5\n"
          ]
        }
      ],
      "source": [
        "prompt = \"1.덧셈 / 2.뺄셈 / 3.곱셈 / 4.나눗셈 / 5.종료\"\n",
        "no = 0\n",
        "\n",
        "while no <= 4:\n",
        "    print(prompt)\n",
        "    no = int(input())\n",
        "    "
      ]
    },
    {
      "cell_type": "code",
      "execution_count": null,
      "id": "f577a66c",
      "metadata": {
        "id": "f577a66c",
        "outputId": "37e7c6da-faeb-4a94-8b70-5181b0018c27"
      },
      "outputs": [
        {
          "name": "stdout",
          "output_type": "stream",
          "text": [
            "0\n",
            "1\n",
            "2\n",
            "3\n",
            "4\n",
            "5\n",
            "6\n",
            "7\n",
            "8\n",
            "9\n",
            "10\n",
            "11\n",
            "12\n",
            "13\n",
            "14\n",
            "15\n"
          ]
        }
      ],
      "source": [
        "# while 문의 경우에는 반복 횟수가 정확하지 않을 경우가 많기 때문에 조건에서 뿐만이 아니라 중간에 반복을 종료 시키는 방법 도 필요하다. \n",
        "\n",
        "no = 0\n",
        "\n",
        "while no <= 15 :\n",
        "    print(no)\n",
        "    no = no + 1\n",
        "    "
      ]
    },
    {
      "cell_type": "code",
      "execution_count": null,
      "id": "5c3c3b78",
      "metadata": {
        "collapsed": true,
        "id": "5c3c3b78",
        "outputId": "af04ef11-29ce-4b6a-fe6b-a9ee2780def4"
      },
      "outputs": [
        {
          "name": "stdout",
          "output_type": "stream",
          "text": [
            "0\n",
            "1\n",
            "2\n",
            "3\n",
            "4\n",
            "5\n",
            "6\n",
            "7\n",
            "8\n",
            "9\n",
            "10\n"
          ]
        }
      ],
      "source": [
        "no = 0\n",
        "\n",
        "while True :\n",
        "    print(no)\n",
        "    no = no + 1\n",
        "    \n",
        "    if no > 10 :\n",
        "        break\n",
        "        \n",
        "    "
      ]
    },
    {
      "cell_type": "code",
      "execution_count": null,
      "id": "50932218",
      "metadata": {
        "id": "50932218",
        "outputId": "3c75edd3-2108-413b-9c72-9a861bb8c829"
      },
      "outputs": [
        {
          "name": "stdout",
          "output_type": "stream",
          "text": [
            "1부터 100 까지 3의 배수의 합은 1683\n"
          ]
        }
      ],
      "source": [
        "no = 1\n",
        "sum = 0\n",
        "\n",
        "while no < 100 :\n",
        "    if no%3 == 0 :\n",
        "        sum = sum + no\n",
        "        no = no + 1\n",
        "\n",
        "    else :\n",
        "        no = no + 1\n",
        "    \n",
        "print(\"1부터 100 까지 3의 배수의 합은\", sum)\n"
      ]
    },
    {
      "cell_type": "code",
      "execution_count": null,
      "id": "b243d904",
      "metadata": {
        "id": "b243d904",
        "outputId": "b6e365b4-487e-493a-a39e-c47f622b264d"
      },
      "outputs": [
        {
          "name": "stdout",
          "output_type": "stream",
          "text": [
            "1부터 100 까지 3의 배수의 합은 1683\n"
          ]
        }
      ],
      "source": [
        "no = 1\n",
        "sum = 0\n",
        "\n",
        "while no < 100 :\n",
        "    if no%3 == 0 :\n",
        "        sum = sum + no\n",
        "        \n",
        "    no = no + 1  # no += 1\n",
        "    \n",
        "print(\"1부터 100 까지 3의 배수의 합은\", sum)"
      ]
    },
    {
      "cell_type": "code",
      "execution_count": null,
      "id": "42c64664",
      "metadata": {
        "id": "42c64664",
        "outputId": "8949d580-67e6-47c5-8c7d-2ea2fbdfda95"
      },
      "outputs": [
        {
          "name": "stdout",
          "output_type": "stream",
          "text": [
            "1\n",
            "2\n",
            "3\n",
            "4\n",
            "5\n",
            "6\n",
            "7\n",
            "8\n",
            "9\n",
            "10\n"
          ]
        }
      ],
      "source": [
        "for i in [1,2,3,4,5,6,7,8,9, 10] :\n",
        "    print(i)"
      ]
    },
    {
      "cell_type": "code",
      "execution_count": null,
      "id": "89bd3043",
      "metadata": {
        "id": "89bd3043",
        "outputId": "e4282e52-d5e7-4624-db82-11c9aeb40804"
      },
      "outputs": [
        {
          "name": "stdout",
          "output_type": "stream",
          "text": [
            "1 번째 학생은 불합격입니다.\n",
            "2 번째 학생은 합격입니다.\n",
            "3 번째 학생은 불합격입니다.\n",
            "4 번째 학생은 불합격입니다.\n",
            "5 번째 학생은 합격입니다.\n"
          ]
        }
      ],
      "source": [
        "math = [80,90,70, 70, 100]\n",
        "\n",
        "j = 1\n",
        "for i in math :\n",
        "    if i>= 90 :\n",
        "        print(j, \"번째 학생은 합격입니다.\")\n",
        "    else :\n",
        "        print(j, \"번째 학생은 불합격입니다.\")\n",
        "    j += 1"
      ]
    },
    {
      "cell_type": "code",
      "execution_count": null,
      "id": "6dffa4d2",
      "metadata": {
        "id": "6dffa4d2",
        "outputId": "43a13efd-2caf-477e-e8e3-d69acce29a4d"
      },
      "outputs": [
        {
          "name": "stdout",
          "output_type": "stream",
          "text": [
            "2\n",
            "4\n",
            "6\n",
            "8\n",
            "10\n"
          ]
        }
      ],
      "source": [
        "for i in [1,2,3,4,5,6,7,8,9,10] :\n",
        "    if i%2 == 0:\n",
        "        \n",
        "        print(i)\n",
        "    "
      ]
    },
    {
      "cell_type": "code",
      "execution_count": null,
      "id": "8cb6d8fc",
      "metadata": {
        "id": "8cb6d8fc",
        "outputId": "da086974-3aba-4e84-954f-b3dbe9119177"
      },
      "outputs": [
        {
          "name": "stdout",
          "output_type": "stream",
          "text": [
            "2\n",
            "4\n",
            "6\n",
            "8\n",
            "10\n"
          ]
        }
      ],
      "source": [
        "for i in [1,2,3,4,5,6,7,8,9,10] :\n",
        "    if i%2 != 0:\n",
        "        continue\n",
        "        \n",
        "    print(i)\n",
        "    "
      ]
    },
    {
      "cell_type": "code",
      "execution_count": null,
      "id": "631dcefd",
      "metadata": {
        "id": "631dcefd",
        "outputId": "f6fa2fd3-2795-4595-fddf-e6ee576ae703"
      },
      "outputs": [
        {
          "name": "stdout",
          "output_type": "stream",
          "text": [
            "0\n",
            "2\n",
            "4\n",
            "6\n",
            "8\n"
          ]
        }
      ],
      "source": [
        "for i in range(10) :\n",
        "    if i%2 == 0: \n",
        "        print(i)\n",
        "    "
      ]
    },
    {
      "cell_type": "code",
      "execution_count": null,
      "id": "f42ae86b",
      "metadata": {
        "id": "f42ae86b",
        "outputId": "495b0098-b792-4c76-c810-beeb72427906"
      },
      "outputs": [
        {
          "name": "stdout",
          "output_type": "stream",
          "text": [
            "1\n",
            "2\n",
            "3\n",
            "4\n",
            "5\n",
            "6\n",
            "7\n",
            "8\n",
            "9\n",
            "10\n"
          ]
        }
      ],
      "source": [
        "for i in range(1,11):    # 두번쩨 수는 미만\n",
        "    print(i)\n",
        "    "
      ]
    },
    {
      "cell_type": "code",
      "execution_count": null,
      "id": "611d9310",
      "metadata": {
        "id": "611d9310",
        "outputId": "1eda7220-25f8-4bca-93ce-6aabb1be50be"
      },
      "outputs": [
        {
          "name": "stdout",
          "output_type": "stream",
          "text": [
            "2 * 1 = 2\t2 * 2 = 4\t2 * 3 = 6\t2 * 4 = 8\t2 * 5 = 10\t2 * 6 = 12\t2 * 7 = 14\t2 * 8 = 16\t2 * 9 = 18\t\n",
            "3 * 1 = 3\t3 * 2 = 6\t3 * 3 = 9\t3 * 4 = 12\t3 * 5 = 15\t3 * 6 = 18\t3 * 7 = 21\t3 * 8 = 24\t3 * 9 = 27\t\n",
            "4 * 1 = 4\t4 * 2 = 8\t4 * 3 = 12\t4 * 4 = 16\t4 * 5 = 20\t4 * 6 = 24\t4 * 7 = 28\t4 * 8 = 32\t4 * 9 = 36\t\n",
            "5 * 1 = 5\t5 * 2 = 10\t5 * 3 = 15\t5 * 4 = 20\t5 * 5 = 25\t5 * 6 = 30\t5 * 7 = 35\t5 * 8 = 40\t5 * 9 = 45\t\n",
            "6 * 1 = 6\t6 * 2 = 12\t6 * 3 = 18\t6 * 4 = 24\t6 * 5 = 30\t6 * 6 = 36\t6 * 7 = 42\t6 * 8 = 48\t6 * 9 = 54\t\n",
            "7 * 1 = 7\t7 * 2 = 14\t7 * 3 = 21\t7 * 4 = 28\t7 * 5 = 35\t7 * 6 = 42\t7 * 7 = 49\t7 * 8 = 56\t7 * 9 = 63\t\n",
            "8 * 1 = 8\t8 * 2 = 16\t8 * 3 = 24\t8 * 4 = 32\t8 * 5 = 40\t8 * 6 = 48\t8 * 7 = 56\t8 * 8 = 64\t8 * 9 = 72\t\n",
            "9 * 1 = 9\t9 * 2 = 18\t9 * 3 = 27\t9 * 4 = 36\t9 * 5 = 45\t9 * 6 = 54\t9 * 7 = 63\t9 * 8 = 72\t9 * 9 = 81\t\n"
          ]
        }
      ],
      "source": [
        "# for 문으로 구구단 표현하기\n",
        "\n",
        "for i in range(2,10):   # i 는 단을 표헌\n",
        "    for j in range(1,10):  # j 는 곱하는 수를 표현\n",
        "        print(i,\"*\",j,\"=\",i*j,end=\"\\t\")\n",
        "    print()\n",
        "        "
      ]
    },
    {
      "cell_type": "code",
      "execution_count": null,
      "id": "56a9b0f4",
      "metadata": {
        "id": "56a9b0f4",
        "outputId": "4514b399-2e1d-4833-8dd2-32657f5edd74"
      },
      "outputs": [
        {
          "name": "stdout",
          "output_type": "stream",
          "text": [
            "2 * 1 = 2\t3 * 1 = 3\t4 * 1 = 4\t5 * 1 = 5\t6 * 1 = 6\t7 * 1 = 7\t8 * 1 = 8\t9 * 1 = 9\t\n",
            "2 * 2 = 4\t3 * 2 = 6\t4 * 2 = 8\t5 * 2 = 10\t6 * 2 = 12\t7 * 2 = 14\t8 * 2 = 16\t9 * 2 = 18\t\n",
            "2 * 3 = 6\t3 * 3 = 9\t4 * 3 = 12\t5 * 3 = 15\t6 * 3 = 18\t7 * 3 = 21\t8 * 3 = 24\t9 * 3 = 27\t\n",
            "2 * 4 = 8\t3 * 4 = 12\t4 * 4 = 16\t5 * 4 = 20\t6 * 4 = 24\t7 * 4 = 28\t8 * 4 = 32\t9 * 4 = 36\t\n",
            "2 * 5 = 10\t3 * 5 = 15\t4 * 5 = 20\t5 * 5 = 25\t6 * 5 = 30\t7 * 5 = 35\t8 * 5 = 40\t9 * 5 = 45\t\n",
            "2 * 6 = 12\t3 * 6 = 18\t4 * 6 = 24\t5 * 6 = 30\t6 * 6 = 36\t7 * 6 = 42\t8 * 6 = 48\t9 * 6 = 54\t\n",
            "2 * 7 = 14\t3 * 7 = 21\t4 * 7 = 28\t5 * 7 = 35\t6 * 7 = 42\t7 * 7 = 49\t8 * 7 = 56\t9 * 7 = 63\t\n",
            "2 * 8 = 16\t3 * 8 = 24\t4 * 8 = 32\t5 * 8 = 40\t6 * 8 = 48\t7 * 8 = 56\t8 * 8 = 64\t9 * 8 = 72\t\n",
            "2 * 9 = 18\t3 * 9 = 27\t4 * 9 = 36\t5 * 9 = 45\t6 * 9 = 54\t7 * 9 = 63\t8 * 9 = 72\t9 * 9 = 81\t\n"
          ]
        }
      ],
      "source": [
        "# for 문으로 구구단 표현하기\n",
        "\n",
        "for i in range(1,10):   # i 는 단을 표헌\n",
        "    for j in range(2,10):  # j 는 곱하는 수를 표현\n",
        "        print(j,\"*\",i,\"=\",j*i,end=\"\\t\")\n",
        "    print()"
      ]
    },
    {
      "cell_type": "code",
      "execution_count": null,
      "id": "2c5a8dec",
      "metadata": {
        "id": "2c5a8dec",
        "outputId": "e6817f81-aa8a-43ad-a1b2-192e3422e4f8"
      },
      "outputs": [
        {
          "name": "stdout",
          "output_type": "stream",
          "text": [
            "2550\n"
          ]
        }
      ],
      "source": [
        "# range 를 사용, 100 이하의 수중 짝수의 합을 구하시오\n",
        "\n",
        "sum = 0\n",
        "for i in range(101):\n",
        "    if i%2 == 0:\n",
        "        sum += i\n",
        "print(sum)"
      ]
    },
    {
      "cell_type": "code",
      "execution_count": null,
      "id": "cc6edf4e",
      "metadata": {
        "id": "cc6edf4e",
        "outputId": "8de33e32-a45a-4f52-a1c8-074bb526171a"
      },
      "outputs": [
        {
          "name": "stdout",
          "output_type": "stream",
          "text": [
            "2550\n"
          ]
        }
      ],
      "source": [
        "sum = 0\n",
        "for i in range(0,101,2):\n",
        "     sum += i\n",
        "print(sum)"
      ]
    },
    {
      "cell_type": "code",
      "execution_count": null,
      "id": "58713903",
      "metadata": {
        "id": "58713903",
        "outputId": "72eb033d-01da-4da1-9277-290316628730"
      },
      "outputs": [
        {
          "name": "stdout",
          "output_type": "stream",
          "text": [
            "list1 =  [1, 2, 3, 4, 5]\n",
            "list2 =  [1, 2, 3, 4, 5]\n",
            "list3 =  [2, 4, 6, 8, 10]\n",
            "list4 =  [2, 4]\n"
          ]
        }
      ],
      "source": [
        "# 리스트 축약/내포  List Comprehension\n",
        "# 리스트를 보다 편리하고 직관적으로 만드는 방업이다\n",
        "\n",
        "list1 = [1,2,3,4,5]\n",
        "print(\"list1 = \",list1)\n",
        "\n",
        "list2 = [num for num in list1]\n",
        "print(\"list2 = \",list2)\n",
        "\n",
        "list3 = [num*2 for num in list1]\n",
        "print(\"list3 = \",list3)\n",
        "\n",
        "list4 = [num for num in list1 if num%2==0]\n",
        "print(\"list4 = \",list4)"
      ]
    },
    {
      "cell_type": "code",
      "execution_count": null,
      "id": "22bd8836",
      "metadata": {
        "id": "22bd8836",
        "outputId": "b15e3902-f003-4da3-a606-356f85a5618e"
      },
      "outputs": [
        {
          "name": "stdout",
          "output_type": "stream",
          "text": [
            "점수는?90\n",
            "합격입니다\n"
          ]
        }
      ],
      "source": [
        "no = int(input(\"점수는?\"))\n",
        "\n",
        "if no >= 80 :\n",
        "    print(\"합격입니다\")\n",
        "else :\n",
        "    print(\"불합격입니다\")"
      ]
    },
    {
      "cell_type": "code",
      "execution_count": null,
      "id": "9ffc5f62",
      "metadata": {
        "id": "9ffc5f62",
        "outputId": "9773b1d0-1a81-4b78-9ddf-eb237e8124c1"
      },
      "outputs": [
        {
          "name": "stdout",
          "output_type": "stream",
          "text": [
            "점수는?70\n",
            "불합격입니다\n"
          ]
        }
      ],
      "source": [
        "no = int(input(\"점수는?\"))\n",
        "\n",
        "print(\"합격입니다\" if no >=80 else \"불합격입니다\")"
      ]
    }
  ],
  "metadata": {
    "kernelspec": {
      "display_name": "Python 3 (ipykernel)",
      "language": "python",
      "name": "python3"
    },
    "language_info": {
      "codemirror_mode": {
        "name": "ipython",
        "version": 3
      },
      "file_extension": ".py",
      "mimetype": "text/x-python",
      "name": "python",
      "nbconvert_exporter": "python",
      "pygments_lexer": "ipython3",
      "version": "3.9.13"
    },
    "colab": {
      "provenance": [],
      "include_colab_link": true
    }
  },
  "nbformat": 4,
  "nbformat_minor": 5
}