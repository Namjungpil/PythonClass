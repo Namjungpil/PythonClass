{
 "cells": [
  {
   "cell_type": "code",
   "execution_count": 1,
   "id": "5b81ea8c",
   "metadata": {},
   "outputs": [
    {
     "name": "stdout",
     "output_type": "stream",
     "text": [
      "숫자를 입력하세요10\n",
      "숫자를 입력하세요20\n",
      "숫자를 입력하세요30\n",
      "30\n"
     ]
    }
   ],
   "source": [
    "# 사용자로부터 세 개의 숫자를 입력 받은 후 가장 큰 숫자를 출력하라\n",
    "a = input(\"숫자를 입력하세요\")\n",
    "b= input(\"숫자를 입력하세요\")\n",
    "c = input(\"숫자를 입력하세요\")\n",
    "\n",
    "if a > b and a > c :\n",
    "    print(a)\n",
    "elif b > a and b > c :\n",
    "    print(b)\n",
    "else :\n",
    "    print(c)\n",
    "    \n"
   ]
  },
  {
   "cell_type": "markdown",
   "id": "f2aec258",
   "metadata": {},
   "source": [
    "a = input(\"주민등록번호를 입력하세요\")\n",
    "\n",
    "if a[0] == 1:\n",
    "    print(\"남자입니다\")\n",
    "elif a[6] == 3:\n",
    "    print(\"남자입니다\")\n",
    "else:\n",
    "    print(\"여자입니다\")\n",
    "\n",
    "print(a)\n"
   ]
  },
  {
   "cell_type": "code",
   "execution_count": 11,
   "id": "1bc3f267",
   "metadata": {
    "scrolled": true
   },
   "outputs": [
    {
     "name": "stdout",
     "output_type": "stream",
     "text": [
      "주민등록번호를 입력하세요111111-3111111\n",
      "남자입니다\n"
     ]
    }
   ],
   "source": [
    "a = input(\"주민등록번호를 입력하세요\")\n",
    "\n",
    "if a[7] == \"1\" or a[7] == \"3\": \n",
    "    print(\"남자입니다\") \n",
    "    \n",
    "else: \n",
    "    print(\"여자입니다\")\n"
   ]
  },
  {
   "cell_type": "code",
   "execution_count": 13,
   "id": "48be3526",
   "metadata": {},
   "outputs": [
    {
     "name": "stdout",
     "output_type": "stream",
     "text": [
      "d\n",
      "c\n",
      "p\n"
     ]
    }
   ],
   "source": [
    "list = [\"dog\", \"cat\", \"parrot\"]\n",
    "\n",
    "# for 문을 사용해서 리스트의 동물이름 첫글짜를 출력하라\n",
    "\n",
    "for animal in list:\n",
    "    print(animal[0])\n",
    "    "
   ]
  },
  {
   "cell_type": "code",
   "execution_count": 17,
   "id": "adeba632",
   "metadata": {},
   "outputs": [
    {
     "name": "stdout",
     "output_type": "stream",
     "text": [
      "100\n",
      "190\n",
      "310\n"
     ]
    }
   ],
   "source": [
    "# ohic 리스트에서 화면의 종가를 출력하라, for 문을 사용하세요\n",
    "ohic = [[\"open\",\"high\",\"low\",\"close\"],\n",
    "        [100,110,70,100],\n",
    "        [200,210,180,190],\n",
    "        [300,310,300,310]]\n",
    "\n",
    "for i in range(1,4):\n",
    "    print(ohic[i][3])"
   ]
  },
  {
   "cell_type": "code",
   "execution_count": 19,
   "id": "8ca091c3",
   "metadata": {},
   "outputs": [
    {
     "name": "stdout",
     "output_type": "stream",
     "text": [
      "100\n",
      "310\n"
     ]
    }
   ],
   "source": [
    "ohic = [[\"open\",\"high\",\"low\",\"close\"],\n",
    "        [100,110,70,100],\n",
    "        [200,210,180,190],\n",
    "        [300,310,300,310]]\n",
    "# 종가가 시가보다 크거나 같은 경우에만 종가를 출력하라\n",
    "\n",
    "for i in range(1,4):\n",
    "    if ohic[i][3] < ohic[i][0]:\n",
    "        continue\n",
    "    print(ohic[i][3])\n",
    "    \n"
   ]
  },
  {
   "cell_type": "code",
   "execution_count": 23,
   "id": "fa77299d",
   "metadata": {},
   "outputs": [
    {
     "name": "stdout",
     "output_type": "stream",
     "text": [
      "몇단 트리를 그릴까요7\n",
      "*\n",
      "**\n",
      "***\n",
      "****\n",
      "*****\n",
      "******\n",
      "*******\n"
     ]
    }
   ],
   "source": [
    "# while 을 사용하여 * 표시\n",
    "# print(\"*\"*i)\n",
    "\n",
    "i = 1\n",
    "a = int(input(\"몇단 트리를 그릴까요\"))\n",
    "while i <= a :\n",
    "    print(\"*\"*i)\n",
    "    i +=1\n",
    "    "
   ]
  },
  {
   "cell_type": "code",
   "execution_count": 24,
   "id": "3f43c8b2",
   "metadata": {},
   "outputs": [
    {
     "name": "stdout",
     "output_type": "stream",
     "text": [
      "*\n",
      "**\n",
      "***\n",
      "****\n",
      "*****\n"
     ]
    }
   ],
   "source": [
    "# while 을 사용하여 * 표시\n",
    "# print(\"*\"*i)\n",
    "\n",
    "i = 1\n",
    "while i <= 5 :\n",
    "    print(\"*\"*i)\n",
    "    i +=1\n",
    "    "
   ]
  },
  {
   "cell_type": "code",
   "execution_count": 27,
   "id": "64c7a009",
   "metadata": {},
   "outputs": [
    {
     "ename": "SyntaxError",
     "evalue": "invalid syntax (2752639865.py, line 22)",
     "output_type": "error",
     "traceback": [
      "\u001b[1;36m  File \u001b[1;32m\"C:\\Users\\EZEN\\AppData\\Local\\Temp\\ipykernel_6912\\2752639865.py\"\u001b[1;36m, line \u001b[1;32m22\u001b[0m\n\u001b[1;33m    print(\"정답입니다,b,\"번째 시도만에 맞추셨습니다. 축하합니다!!\")\u001b[0m\n\u001b[1;37m                    ^\u001b[0m\n\u001b[1;31mSyntaxError\u001b[0m\u001b[1;31m:\u001b[0m invalid syntax\n"
     ]
    }
   ],
   "source": [
    "# 두자리 숫자를 정하고 .. 수자를 입력받아 정한 숫자를 맞힐 수 있도록 하시요.\n",
    "\n",
    "# import random\n",
    "# num = rnadom.randragne(1,101)   # 미만 중의\n",
    "# print(num)\n",
    "\n",
    "import random\n",
    "num = rnadom.randragne(1,100)   # 미만 중의\n",
    "\n",
    "a = int(input(\"두자리 숫자를 입력하세요 >>> \"))\n",
    "b=1\n",
    "while a != num :\n",
    "    if a < num :\n",
    "        print(\"더 큰 숫자를 입력하세요\")\n",
    "        a = int(input(\"두자리 숫자를 입력하세요 >>> \"))\n",
    "    else :\n",
    "         print(\"더 작은 숫자를 입력하세요\")\n",
    "         a = int(input(\"두자리 숫자를 입력하세요 >>> \"))\n",
    "    \n",
    "    b +=1\n",
    "\n",
    "    print(\"정답입니다,b,\"번째 시도만에 맞추셨습니다. 축하합니다!!\")\n",
    "print(num)"
   ]
  }
 ],
 "metadata": {
  "kernelspec": {
   "display_name": "Python 3 (ipykernel)",
   "language": "python",
   "name": "python3"
  },
  "language_info": {
   "codemirror_mode": {
    "name": "ipython",
    "version": 3
   },
   "file_extension": ".py",
   "mimetype": "text/x-python",
   "name": "python",
   "nbconvert_exporter": "python",
   "pygments_lexer": "ipython3",
   "version": "3.9.13"
  }
 },
 "nbformat": 4,
 "nbformat_minor": 5
}
