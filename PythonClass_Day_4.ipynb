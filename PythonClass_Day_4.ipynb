{
  "nbformat": 4,
  "nbformat_minor": 0,
  "metadata": {
    "colab": {
      "provenance": [],
      "authorship_tag": "ABX9TyNXQPaYwRk88YpWDNsBZ80w",
      "include_colab_link": true
    },
    "kernelspec": {
      "name": "python3",
      "display_name": "Python 3"
    },
    "language_info": {
      "name": "python"
    }
  },
  "cells": [
    {
      "cell_type": "markdown",
      "metadata": {
        "id": "view-in-github",
        "colab_type": "text"
      },
      "source": [
        "<a href=\"https://colab.research.google.com/github/Namjungpil/PythonClass/blob/main/PythonClass_Day_4.ipynb\" target=\"_parent\"><img src=\"https://colab.research.google.com/assets/colab-badge.svg\" alt=\"Open In Colab\"/></a>"
      ]
    },
    {
      "cell_type": "code",
      "execution_count": null,
      "metadata": {
        "id": "srleyaDXlDJp",
        "colab": {
          "base_uri": "https://localhost:8080/"
        },
        "outputId": "c3b1fa49-3c7d-4713-fc68-b5e5e733a821"
      },
      "outputs": [
        {
          "output_type": "stream",
          "name": "stdout",
          "text": [
            "base ?10\n",
            "height ?5\n",
            "25.0\n"
          ]
        }
      ],
      "source": [
        "base = int(input(\"base ?\"))\n",
        "height = int(input(\"height ?\"))\n",
        "area = base * height / 2\n",
        "print(area)"
      ]
    },
    {
      "cell_type": "code",
      "source": [
        "a = int(input(\"a =\"))\n",
        "b = int(input(\"b =\"))\n",
        "\n",
        "if a > b :\n",
        "  print(a)\n",
        "elif a < b :\n",
        "  print(b)\n",
        "else :\n",
        "  print(\"same\")\n"
      ],
      "metadata": {
        "colab": {
          "base_uri": "https://localhost:8080/"
        },
        "id": "7YsrCmteCjyA",
        "outputId": "fc837e35-f9c3-4d13-fee7-763ca3c1376b"
      },
      "execution_count": 3,
      "outputs": [
        {
          "output_type": "stream",
          "name": "stdout",
          "text": [
            "a =3\n",
            "b =3\n",
            "same\n"
          ]
        }
      ]
    },
    {
      "cell_type": "code",
      "source": [
        "a = 3\n",
        "b = 5\n",
        "print(\"a, b 의 값은\", a,\",\", b)\n",
        "\n",
        "a, b = b, a\n",
        "print(\"a, b 의 값은\", a,\",\", b)"
      ],
      "metadata": {
        "colab": {
          "base_uri": "https://localhost:8080/"
        },
        "id": "zTc6j11wFCSy",
        "outputId": "c32c67fb-a091-4162-ae0d-560629e467a6"
      },
      "execution_count": 7,
      "outputs": [
        {
          "output_type": "stream",
          "name": "stdout",
          "text": [
            "a, b 의 값은 3 , 5\n",
            "a, b 의 값은 5 , 3\n"
          ]
        }
      ]
    },
    {
      "cell_type": "code",
      "source": [
        "a = 3\n",
        "b = 5\n",
        "\n",
        "print(\"a, b 의 값은\", a,\",\", b)\n",
        "t = a\n",
        "a = b\n",
        "b = t\n",
        "\n",
        "print(\"a, b 의 값은\", a,\",\", b)"
      ],
      "metadata": {
        "colab": {
          "base_uri": "https://localhost:8080/"
        },
        "id": "bz-Afvi1Eilq",
        "outputId": "b8934d21-dd50-4d8a-cec6-cb8a6f34375d"
      },
      "execution_count": 8,
      "outputs": [
        {
          "output_type": "stream",
          "name": "stdout",
          "text": [
            "a, b 의 값은 3 , 5\n",
            "a, b 의 값은 5 , 3\n"
          ]
        }
      ]
    },
    {
      "cell_type": "code",
      "source": [
        "i = 0\n",
        "sum = 0\n",
        "arr = [2,3,4,5,6]\n",
        "while i < 5 :\n",
        "  sum = sum + arr[i]\n",
        "  i = i + 1\n",
        "print(sum)\n"
      ],
      "metadata": {
        "colab": {
          "base_uri": "https://localhost:8080/"
        },
        "id": "RxokD_wtdBFm",
        "outputId": "fc361540-aeda-43f0-8f8d-806a9b4bc932"
      },
      "execution_count": 11,
      "outputs": [
        {
          "output_type": "stream",
          "name": "stdout",
          "text": [
            "20\n"
          ]
        }
      ]
    },
    {
      "cell_type": "code",
      "source": [
        "arr = [2, 4, 3, 5, 1]\n",
        "i = 1\n",
        "max = arr[0]\n",
        "while i < 5 :\n",
        "  if arr[i] > max :\n",
        "    max = arr[i]\n",
        "  i += 1\n",
        "print(max)\n"
      ],
      "metadata": {
        "colab": {
          "base_uri": "https://localhost:8080/"
        },
        "id": "OAgy-xTjllzL",
        "outputId": "71cf2e58-e9a4-4d4d-97e4-9be984a0fc3f"
      },
      "execution_count": 16,
      "outputs": [
        {
          "output_type": "stream",
          "name": "stdout",
          "text": [
            "5\n"
          ]
        }
      ]
    },
    {
      "cell_type": "code",
      "source": [
        "i = 0\n",
        "arr = [4,2,3,2,5]\n",
        "while i < 5 :\n",
        "   if arr[i] == 5 :\n",
        "      print(\"5는\",i,\"번째 방에 있습니다\")\n",
        "      break\n",
        "   else :\n",
        "    i += 1\n",
        "if i == 5 :\n",
        "  print(\"찾는 값이 없습니다\")\n"
      ],
      "metadata": {
        "colab": {
          "base_uri": "https://localhost:8080/"
        },
        "id": "K0sdrP-nzYF_",
        "outputId": "2717de28-c0bf-4262-a3fa-bee54ab4012a"
      },
      "execution_count": 22,
      "outputs": [
        {
          "output_type": "stream",
          "name": "stdout",
          "text": [
            "5는 4 번째 방에 있습니다\n"
          ]
        }
      ]
    }
  ]
}