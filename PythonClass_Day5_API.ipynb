{
 "cells": [
  {
   "cell_type": "code",
   "execution_count": null,
   "metadata": {},
   "outputs": [],
   "source": [
    "# 파이썬을 이용한 비트코인 가격 조회 윈도우 프로그램 만들기\n",
    "# PyQt 를 이용한 윈도우 앱 만들기\n",
    "# QT Designer 로 쉽고 편하게 윈도우를 구성할 수 있다. Anacoda 가 이미 설치해 놓았디.\n",
    "# designer.exe 를 검색해서 실행"
   ]
  },
  {
   "cell_type": "code",
   "execution_count": null,
   "metadata": {},
   "outputs": [],
   "source": [
    "# 윈도우 창 만들기\n",
    "\n",
    "import sys                             # 윈도우 시스템 접근\n",
    "from PyQt5.QtWidgets import *           # PyQt5 모듈 읽어 오기\n",
    "\n",
    "class MyWindow(QMainWindow):\n",
    "    def __init__(self) :\n",
    "        super().__init__()\n",
    "        self.setGeometry(100, 200, 300, 400)\n",
    "        self.setWindowTitle(\"헬로우 월드 !!!\")\n",
    "\n",
    "\n",
    "app = QApplication(sys.argv)           # 윈도우 창 띄우기\n",
    "# label = QLabel(\"Hello World\")          # 창에 글자 넣기\n",
    "# label.show()                           # 글자 보여주기\n",
    "window = MyWindow()\n",
    "window.show()\n",
    "\n",
    "app.exec_()                            # 윈도우 창을 계속 유지 시켜주는 코드"
   ]
  },
  {
   "cell_type": "code",
   "execution_count": 1,
   "metadata": {},
   "outputs": [
    {
     "data": {
      "text/plain": [
       "0"
      ]
     },
     "execution_count": 1,
     "metadata": {},
     "output_type": "execute_result"
    }
   ],
   "source": [
    "# 윈도우 창에 버튼 추가하기\n",
    "\n",
    "import sys                             # 윈도우 시스템 접근\n",
    "from PyQt5.QtWidgets import *          # PyQt5 모듈 읽어 오기\n",
    "from PyQt5.QtGui import *              # 다양한 윈도우 도구 사용 (단추 ...)\n",
    "\n",
    "class MyWindow(QMainWindow):\n",
    "    def __init__(self) :\n",
    "        super().__init__()\n",
    "        self.setGeometry(100, 200, 300, 400)\n",
    "        self.setWindowTitle(\"헬로우 월드 !!!\")\n",
    "\n",
    "        btn = QPushButton(\"버튼\", self)\n",
    "\n",
    "\n",
    "app = QApplication(sys.argv)           # 윈도우 창 띄우기\n",
    "# label = QLabel(\"Hello World\")          # 창에 글자 넣기\n",
    "# label.show()                           # 글자 보여주기\n",
    "window = MyWindow()\n",
    "window.show()\n",
    "\n",
    "app.exec_()                            # 윈도우 창을 계속 유지 시켜주는 코드"
   ]
  },
  {
   "cell_type": "code",
   "execution_count": null,
   "metadata": {},
   "outputs": [],
   "source": [
    "pip install pykorbit             # korbit 에서 만든 API 를 사용하기 위한 모듈 설치(처음 한번만 설치하면 됨)"
   ]
  },
  {
   "cell_type": "code",
   "execution_count": 1,
   "metadata": {},
   "outputs": [
    {
     "data": {
      "text/plain": [
       "0"
      ]
     },
     "execution_count": 1,
     "metadata": {},
     "output_type": "execute_result"
    }
   ],
   "source": [
    "# Qt Designer 사용하기\n",
    "# 버턴을 클릭하면 몇개의 데이터를 조회해서 각 지정 란에 결과를 보여주기\n",
    "\n",
    "\n",
    "import sys                             # 윈도우 시스템 접근\n",
    "from PyQt5.QtWidgets import *          # PyQt5 모듈 읽어 오기\n",
    "from PyQt5 import uic                  # Designer 로 만든 창을 사용하기   \n",
    "import pykorbit\n",
    "\n",
    "\n",
    "form_class = uic.loadUiType(\"mywindow2.ui\")[0]   # Designer 로 만든 창을 사용하기   \n",
    "\n",
    "class MyWindow(QMainWindow, form_class) :\n",
    "    def __init__(self) :\n",
    "        super().__init__()\n",
    "        self.setupUi(self)\n",
    "        self.pushButton.clicked.connect(self.btn_clicked)            # 버튼을 클릭하면 btn_click 함수 실행\n",
    "\n",
    "    def btn_clicked(self) :\n",
    "        price1 = pykorbit.get_current_price(\"BTC\")\n",
    "        price2 = pykorbit.get_current_price(\"ETH\")\n",
    "        price3 = pykorbit.get_current_price(\"XRP\")\n",
    "        #print(f\"비트코인 가격은 {price}\")\n",
    "        #print(f\"이더리움 가격은 {price2}\")\n",
    "        #print(f\"리플 가격은 {price2}\")\n",
    "        self.lineEdit.setText(str(price1))\n",
    "        self.lineEdit_2.setText(str(price2))\n",
    "        self.lineEdit_3.setText(str(price3))\n",
    "\n",
    "\n",
    "#       self.setGeometry(100, 200, 300, 400)\n",
    "#       self.setWindowTitle(\"헬로우 월드 !!!\")\n",
    "\n",
    "#       btn = QPushButton(\"버튼\", self)\n",
    "\n",
    "\n",
    "app = QApplication(sys.argv)           # 윈도우 창 띄우기\n",
    "# label = QLabel(\"Hello World\")          # 창에 글자 넣기\n",
    "# label.show()                           # 글자 보여주기\n",
    "window = MyWindow()\n",
    "window.show()\n",
    "\n",
    "app.exec_()                            # 윈도우 창을 계속 유지 시켜주는 코드"
   ]
  },
  {
   "cell_type": "code",
   "execution_count": null,
   "metadata": {},
   "outputs": [],
   "source": [
    "# Qt Designer 사용하기\n",
    "# 버턴을 클릭하면 몇개의 데이터를 조회해서 각 지정 란에 결과를 보여주기\n",
    "\n",
    "\n",
    "import sys                             # 윈도우 시스템 접근\n",
    "from PyQt5.QtWidgets import *          # PyQt5 모듈 읽어 오기\n",
    "from PyQt5 import uic                  # Designer 로 만든 창을 사용하기   \n",
    "import pykorbit\n",
    "\n",
    "\n",
    "form_class = uic.loadUiType(\"mywindow2.ui\")[0]   # Designer 로 만든 창을 사용하기   \n",
    "\n",
    "class MyWindow(QMainWindow, form_class) :\n",
    "    def __init__(self) :\n",
    "        super().__init__()\n",
    "        self.setupUi(self)\n",
    "        self.pushButton.clicked.connect(self.btn_clicked)            # 버튼을 클릭하면 btn_click 함수 실행\n",
    "\n",
    "    def btn_clicked(self) :\n",
    "        price1 = pykorbit.get_current_price(\"BTC\")\n",
    "        price2 = pykorbit.get_current_price(\"ETH\")\n",
    "        price3 = pykorbit.get_current_price(\"XRP\")\n",
    "        #print(f\"비트코인 가격은 {price}\")\n",
    "        #print(f\"이더리움 가격은 {price2}\")\n",
    "        #print(f\"리플 가격은 {price2}\")\n",
    "        self.lineEdit.setText(str(price1))\n",
    "        self.lineEdit_2.setText(str(price2))\n",
    "        self.lineEdit_3.setText(str(price3))\n",
    "\n",
    "\n",
    "#       self.setGeometry(100, 200, 300, 400)\n",
    "#       self.setWindowTitle(\"헬로우 월드 !!!\")\n",
    "\n",
    "#       btn = QPushButton(\"버튼\", self)\n",
    "\n",
    "\n",
    "app = QApplication(sys.argv)           # 윈도우 창 띄우기\n",
    "# label = QLabel(\"Hello World\")          # 창에 글자 넣기\n",
    "# label.show()                           # 글자 보여주기\n",
    "window = MyWindow()\n",
    "window.show()\n",
    "\n",
    "app.exec_()                            # 윈도우 창을 계속 유지 시켜주는 코드"
   ]
  },
  {
   "cell_type": "code",
   "execution_count": 6,
   "metadata": {},
   "outputs": [
    {
     "ename": "SyntaxError",
     "evalue": "invalid syntax (3755746238.py, line 3)",
     "output_type": "error",
     "traceback": [
      "\u001b[1;36m  Cell \u001b[1;32mIn [6], line 3\u001b[1;36m\u001b[0m\n\u001b[1;33m    pip install pyinstaller\u001b[0m\n\u001b[1;37m        ^\u001b[0m\n\u001b[1;31mSyntaxError\u001b[0m\u001b[1;31m:\u001b[0m invalid syntax\n"
     ]
    }
   ],
   "source": [
    "# 윈도우 앱으로 만들기\n",
    "\n",
    "pip install pyinstaller\n"
   ]
  }
 ],
 "metadata": {
  "kernelspec": {
   "display_name": "Python 3.10.6 64-bit",
   "language": "python",
   "name": "python3"
  },
  "language_info": {
   "codemirror_mode": {
    "name": "ipython",
    "version": 3
   },
   "file_extension": ".py",
   "mimetype": "text/x-python",
   "name": "python",
   "nbconvert_exporter": "python",
   "pygments_lexer": "ipython3",
   "version": "3.10.6"
  },
  "orig_nbformat": 4,
  "vscode": {
   "interpreter": {
    "hash": "be042be69eb07c0fcc9843e1c670e24d23c76b83e5f6982cc023fb319a955525"
   }
  }
 },
 "nbformat": 4,
 "nbformat_minor": 2
}
