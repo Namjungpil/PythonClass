{
  "nbformat": 4,
  "nbformat_minor": 0,
  "metadata": {
    "colab": {
      "provenance": [],
      "authorship_tag": "ABX9TyNdJyAMosa0oopNfN/2R03x",
      "include_colab_link": true
    },
    "kernelspec": {
      "name": "python3",
      "display_name": "Python 3"
    },
    "language_info": {
      "name": "python"
    }
  },
  "cells": [
    {
      "cell_type": "markdown",
      "metadata": {
        "id": "view-in-github",
        "colab_type": "text"
      },
      "source": [
        "<a href=\"https://colab.research.google.com/github/Namjungpil/PythonClass/blob/main/PythonClass_Homework_25.ipynb\" target=\"_parent\"><img src=\"https://colab.research.google.com/assets/colab-badge.svg\" alt=\"Open In Colab\"/></a>"
      ]
    },
    {
      "cell_type": "code",
      "execution_count": null,
      "metadata": {
        "id": "8eSm1pbPTg4v"
      },
      "outputs": [],
      "source": [
        "# 096\n",
        "arr = [[2,5,8], [3,7,4], [1,6,9],[4,2,0]]\n"
      ]
    },
    {
      "cell_type": "code",
      "source": [
        "# 097\n",
        "arr = [[2,5,8], [3,7,4], [1,6,9],[4,2,0]]\n",
        "row = int(input(\"select row number between 0 and 3: \"  ))\n",
        "column = int(input(\"select column number between 0 and 2: \"))\n",
        "print(f\"the value in row {row} and colume {column} is {arr[row][column]}\")"
      ],
      "metadata": {
        "colab": {
          "base_uri": "https://localhost:8080/"
        },
        "id": "Ha2nprvQZKFn",
        "outputId": "5da8fa00-0893-49a1-9f74-1e6124b2e06a"
      },
      "execution_count": 2,
      "outputs": [
        {
          "output_type": "stream",
          "name": "stdout",
          "text": [
            "select row number between 0 and 3: 1\n",
            "select column number between 0 and 2: 1\n",
            "the value in row 1 and colume 1 is 7\n"
          ]
        }
      ]
    },
    {
      "cell_type": "code",
      "source": [
        "import array\n",
        "# 098\n",
        "arr = [[2,5,8], [3,7,4], [1,6,9],[4,2,0]]\n",
        "row = int(input(\"select row number between 0 and 3: \"  ))\n",
        "print(f\"the list in row {row} is {arr[row]}\")"
      ],
      "metadata": {
        "colab": {
          "base_uri": "https://localhost:8080/"
        },
        "id": "r5NdZuUnabWx",
        "outputId": "222e434c-a0de-44fa-f0cb-3d168cd65038"
      },
      "execution_count": 7,
      "outputs": [
        {
          "output_type": "stream",
          "name": "stdout",
          "text": [
            "select row number between 0 and 3: 1\n",
            "the list in row 1 is [3, 7, 4]\n"
          ]
        }
      ]
    },
    {
      "cell_type": "code",
      "source": [
        "# 099\n",
        "arr = [[2,5,8], [3,7,4], [1,6,9],[4,2,0]]\n",
        "row = int(input(\"select row number between 0 and 3: \"  ))\n",
        "print(f\"the list in row {row} is {arr[row]}\")\n",
        "new_value = int(input(\"enter a new value:  \"))\n",
        "arr[row].append(new_value)\n",
        "print(f\"the revised list in row {row} is {arr[row]}\")"
      ],
      "metadata": {
        "colab": {
          "base_uri": "https://localhost:8080/"
        },
        "id": "TuBwHK0tbHNP",
        "outputId": "d23592cf-a283-4dd8-afc5-e62db03e4cec"
      },
      "execution_count": 8,
      "outputs": [
        {
          "output_type": "stream",
          "name": "stdout",
          "text": [
            "select row number between 0 and 3: 1\n",
            "the list in row 1 is [3, 7, 4]\n",
            "enter a new value:  6\n",
            "the revised list in row 1 is [3, 7, 4, 6]\n"
          ]
        }
      ]
    },
    {
      "cell_type": "code",
      "source": [
        "# 100\n",
        "sales = {\"John\":{\"N\":3056, \"S\":8463, \"E\":8441, \"W\":2694},\"Tom\":{\"N\":4832, \"S\":6786, \"E\":4737, \"W\":3612},\"Anne\":{\"N\":5239, \"S\":4802, \"E\":5820, \"W\":1859},\"Fiona\":{\"N\":3904, \"S\":3645, \"E\":8821, \"W\":2451}}\n"
      ],
      "metadata": {
        "id": "Q3F-IZ8ucUhB"
      },
      "execution_count": null,
      "outputs": []
    },
    {
      "cell_type": "code",
      "source": [
        "# 101\n",
        "sales = {\"John\":{\"N\":3056, \"S\":8463, \"E\":8441, \"W\":2694},\"Tom\":{\"N\":4832, \"S\":6786, \"E\":4737, \"W\":3612},\"Anne\":{\"N\":5239, \"S\":4802, \"E\":5820, \"W\":1859},\"Fiona\":{\"N\":3904, \"S\":3645, \"E\":8821, \"W\":2451}}\n",
        "user_pick_name = input('select a name in  : \"John\", \"Tom\", \"Anne\" and \"Fiona\"  ')\n",
        "user_pick_region = input('select a region in \"N\", \"S\", \"E\" and \"W\"  ')\n",
        "print(f'the relavant data is {sales[user_pick_name][user_pick_region]}')\n",
        "\n",
        "user_pick_data = int(input(\"type in data for you want to change  \"))\n",
        "sales[user_pick_name][user_pick_region] = user_pick_data\n",
        "print(f'the changed sales data in each region for {user_pick_name} is {sales[user_pick_name]}')"
      ],
      "metadata": {
        "colab": {
          "base_uri": "https://localhost:8080/"
        },
        "id": "Vb01MwvieEQB",
        "outputId": "9d6bb8eb-b61c-41a6-bb63-df2ab15d2929"
      },
      "execution_count": 17,
      "outputs": [
        {
          "output_type": "stream",
          "name": "stdout",
          "text": [
            "select a name in  : \"John\", \"Tom\", \"Anne\" and \"Fiona\"  John\n",
            "select a region in \"N\", \"S\", \"E\" and \"W\"  N\n",
            "the relavant data is 3056\n",
            "type in data for you want to change  4000\n",
            "the changed sales data in each region for John is {'N': 4000, 'S': 8463, 'E': 8441, 'W': 2694}\n"
          ]
        }
      ]
    },
    {
      "cell_type": "code",
      "source": [
        "# 102\n",
        "data_set = {}\n",
        "for i in range(4) :\n",
        "  name = input(\"enter a name:  \")\n",
        "  age = int(input(f\"enter age of {name}  \"))\n",
        "  shoe_size = int(input(f\"enter size of shoe for {name}  \"))\n",
        "  data_set[name] = {\"age\":age, \"shoe_size\":shoe_size}\n",
        "print(data_set)\n",
        "  #print(data_set.keys())\n",
        "user_pick_name = input(f\"type in a name in {list(data_set.keys())}  \")\n",
        "print(f\"the age of {user_pick_name} is {data_set[user_pick_name]['age']} and the shoe size of him/her is {data_set[user_pick_name]['shoe_size']}\")"
      ],
      "metadata": {
        "colab": {
          "base_uri": "https://localhost:8080/"
        },
        "id": "cP3KRhKei8jk",
        "outputId": "17974fae-fae2-49bf-e384-74c4d6524f25"
      },
      "execution_count": 26,
      "outputs": [
        {
          "output_type": "stream",
          "name": "stdout",
          "text": [
            "enter a name:  Kim\n",
            "enter age of Kim  10\n",
            "enter size of shoe for Kim  200\n",
            "enter a name:  Lee\n",
            "enter age of Lee  15\n",
            "enter size of shoe for Lee  220\n",
            "enter a name:  Park\n",
            "enter age of Park  20\n",
            "enter size of shoe for Park  250\n",
            "enter a name:  Jeong\n",
            "enter age of Jeong  25\n",
            "enter size of shoe for Jeong  270\n",
            "{'Kim': {'age': 10, 'shoe_size': 200}, 'Lee': {'age': 15, 'shoe_size': 220}, 'Park': {'age': 20, 'shoe_size': 250}, 'Jeong': {'age': 25, 'shoe_size': 270}}\n",
            "type in a name in ['Kim', 'Lee', 'Park', 'Jeong']  Park\n",
            "the age of Park is 20 and the shoe size of him/her is 250\n"
          ]
        }
      ]
    },
    {
      "cell_type": "code",
      "source": [
        "# 103\n",
        "for i in range(len(data_set.keys())) :\n",
        "   a = list(data_set.keys())\n",
        "   b = list(data_set.values())\n",
        "   print(f\"name: {a[i]}, age : {b[i]['age']}\")\n",
        "  "
      ],
      "metadata": {
        "colab": {
          "base_uri": "https://localhost:8080/"
        },
        "id": "tLEIKl7Or4ns",
        "outputId": "c3c83a48-9256-470a-e558-dc16fcafcaf3"
      },
      "execution_count": 40,
      "outputs": [
        {
          "output_type": "stream",
          "name": "stdout",
          "text": [
            "name: Kim, age : 10\n",
            "name: Lee, age : 15\n",
            "name: Park, age : 20\n",
            "name: Jeong, age : 25\n"
          ]
        }
      ]
    },
    {
      "cell_type": "code",
      "source": [
        "# 104\n",
        "data_set = {'Kim': {'age': 10, 'shoe_size': 200}, 'Lee': {'age': 15, 'shoe_size': 220}, 'Park': {'age': 20, 'shoe_size': 250}, 'Jeong': {'age': 25, 'shoe_size': 270}}\n",
        "print(data_set)\n",
        "user_pick_remove = input(f\"enter a name whom you want to remove on the data set, name in {list(data_set.keys())}   \")\n",
        "del data_set[user_pick_remove]\n",
        "for key in data_set :\n",
        "    print(f\"{{'{key}': {data_set[key]}}}\") \n"
      ],
      "metadata": {
        "colab": {
          "base_uri": "https://localhost:8080/"
        },
        "id": "W5OCYmwtwefs",
        "outputId": "c782a593-39d4-469e-c619-4d6efa8c83ac"
      },
      "execution_count": 22,
      "outputs": [
        {
          "output_type": "stream",
          "name": "stdout",
          "text": [
            "{'Kim': {'age': 10, 'shoe_size': 200}, 'Lee': {'age': 15, 'shoe_size': 220}, 'Park': {'age': 20, 'shoe_size': 250}, 'Jeong': {'age': 25, 'shoe_size': 270}}\n",
            "enter a name whom you want to remove on the data set, name in ['Kim', 'Lee', 'Park', 'Jeong']   Kim\n",
            "{'Lee': {'age': 15, 'shoe_size': 220}}\n",
            "{'Park': {'age': 20, 'shoe_size': 250}}\n",
            "{'Jeong': {'age': 25, 'shoe_size': 270}}\n"
          ]
        }
      ]
    }
  ]
}