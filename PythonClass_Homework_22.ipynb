{
  "nbformat": 4,
  "nbformat_minor": 0,
  "metadata": {
    "colab": {
      "provenance": [],
      "authorship_tag": "ABX9TyMoRscvMY4DfG5eykt4UoGG",
      "include_colab_link": true
    },
    "kernelspec": {
      "name": "python3",
      "display_name": "Python 3"
    },
    "language_info": {
      "name": "python"
    }
  },
  "cells": [
    {
      "cell_type": "markdown",
      "metadata": {
        "id": "view-in-github",
        "colab_type": "text"
      },
      "source": [
        "<a href=\"https://colab.research.google.com/github/Namjungpil/PythonClass/blob/main/PythonClass_Homework_22.ipynb\" target=\"_parent\"><img src=\"https://colab.research.google.com/assets/colab-badge.svg\" alt=\"Open In Colab\"/></a>"
      ]
    },
    {
      "cell_type": "code",
      "execution_count": 7,
      "metadata": {
        "colab": {
          "base_uri": "https://localhost:8080/"
        },
        "id": "OhsOH8tC1lfE",
        "outputId": "df766344-16bf-43a1-8652-9417d949fd32"
      },
      "outputs": [
        {
          "output_type": "stream",
          "name": "stdout",
          "text": [
            "('Korea', 'Japan', 'China', 'Viet Nam', 'Hong Kong')\n",
            "enter one of the countries : China\n",
            "The index of user_picked country 'China' is 2\n"
          ]
        }
      ],
      "source": [
        "# 069\n",
        "countries = (\"Korea\", \"Japan\", \"China\", \"Viet Nam\", \"Hong Kong\")\n",
        "print(countries)\n",
        "user_pick = input(\"enter one of the countries : \")\n",
        "print(f\"The index of user_picked country '{user_pick}' is {countries.index(user_pick)}\")\n"
      ]
    },
    {
      "cell_type": "code",
      "source": [
        "# 070\n",
        "countries = (\"Korea\", \"Japan\", \"China\", \"Viet Nam\", \"Hong Kong\")\n",
        "print(countries)\n",
        "num = int(input(\"enter a number \"))\n",
        "print(f\"The country you choose is [{countries[num]}]\")"
      ],
      "metadata": {
        "colab": {
          "base_uri": "https://localhost:8080/"
        },
        "id": "7wHyUg1467js",
        "outputId": "7dc597e3-a41a-4de6-a02a-5b783d5ebba8"
      },
      "execution_count": 10,
      "outputs": [
        {
          "output_type": "stream",
          "name": "stdout",
          "text": [
            "('Korea', 'Japan', 'China', 'Viet Nam', 'Hong Kong')\n",
            "enter a number 3\n",
            "The country you choose is [Viet Nam]\n"
          ]
        }
      ]
    },
    {
      "cell_type": "code",
      "source": [
        "# 071\n",
        "sports = [\"Baseball\", \"Soccer\"]\n",
        "print(type(sports), sports)\n",
        "user = input(\"What is your favourite sport?\")\n",
        "while user in sports :\n",
        "  print(\"다른 종목을 선택해 주세요\")\n",
        "  user = input(\"What is your favourite sport?\")\n",
        "\n",
        "sports.append(user)\n",
        "print(sports)\n",
        "sports.sort()\n",
        "print(sports)"
      ],
      "metadata": {
        "colab": {
          "base_uri": "https://localhost:8080/"
        },
        "id": "zkmos_c28Xh0",
        "outputId": "2dd89b1d-fdbc-446d-9187-2bd57b8dcbc3"
      },
      "execution_count": 37,
      "outputs": [
        {
          "output_type": "stream",
          "name": "stdout",
          "text": [
            "<class 'list'> ['Baseball', 'Soccer']\n",
            "What is your favourite sport?Baseball\n",
            "다른 종목을 선택해 주세요\n",
            "What is your favourite sport?Soccer\n",
            "다른 종목을 선택해 주세요\n",
            "What is your favourite sport?Basket ball\n",
            "['Baseball', 'Soccer', 'Basket ball']\n",
            "['Baseball', 'Basket ball', 'Soccer']\n"
          ]
        }
      ]
    },
    {
      "cell_type": "code",
      "source": [
        "# 072\n",
        "subject = [\"국어\", \"영어\", \"수학\", \"과학\", \"음악\", \"미술\"]\n",
        "print(f\"과목의 종류 {subject}\")\n",
        "user_dislike = input(\"싫어하는 과목은 무엇인가요? \")\n",
        "subject.remove(user_dislike)\n",
        "print(f\"싫어하는 과목을 삭제하면 {subject}\")"
      ],
      "metadata": {
        "colab": {
          "base_uri": "https://localhost:8080/"
        },
        "id": "0-0gi73W_FBW",
        "outputId": "84705b5a-2c9b-46aa-ae6a-c01f9afe24e5"
      },
      "execution_count": 20,
      "outputs": [
        {
          "output_type": "stream",
          "name": "stdout",
          "text": [
            "과목의 종류 ['국어', '영어', '수학', '과학', '음악', '미술']\n",
            "싫어하는 과목은 무엇인가요? 수학\n",
            "싫어하는 과목을 삭제하면 ['국어', '영어', '과학', '음악', '미술']\n"
          ]
        }
      ]
    },
    {
      "cell_type": "code",
      "source": [
        "# 073\n",
        "food = {}\n",
        "print(type(food))\n",
        "for i in range(1,5) :\n",
        "  user_like = input(\"Whatis your favourite food?\")\n",
        "  food[i] = user_like\n",
        "print(food)\n",
        "\n",
        "user = int(input(\"What do you want to get rid of in number? \"))\n",
        "del food[user]\n",
        "# food.sort()      dict 자료형에 sort ?\n",
        "print(food)\n"
      ],
      "metadata": {
        "colab": {
          "base_uri": "https://localhost:8080/"
        },
        "id": "X1bObDnmA7mO",
        "outputId": "88369ea6-1af8-4fd3-b8a4-9e55b809a0ed"
      },
      "execution_count": 30,
      "outputs": [
        {
          "output_type": "stream",
          "name": "stdout",
          "text": [
            "<class 'dict'>\n",
            "Whatis your favourite food?한식\n",
            "Whatis your favourite food?중식\n",
            "Whatis your favourite food?일식\n",
            "Whatis your favourite food?양식\n",
            "{1: '한식', 2: '중식', 3: '일식', 4: '양식'}\n",
            "What do you want to get rid of in number? 3\n",
            "{1: '한식', 2: '중식', 4: '양식'}\n"
          ]
        }
      ]
    },
    {
      "cell_type": "code",
      "source": [
        "# 074\n",
        "colours = [\"빨강\", \"주황\", \"노랑\",\"초록\",\"파랑\",\"남색\",\"보라\", \"검정\", \"흰색\",\"회색\"]\n",
        "user1 = int(input(\"type a number between 0 and 4 :   \"))\n",
        "user2 = int(input(\"type a number between 5 and 9 :   \"))\n",
        "print(colours[user1:user2+1])\n"
      ],
      "metadata": {
        "colab": {
          "base_uri": "https://localhost:8080/"
        },
        "id": "V7x7mqq_Gr1w",
        "outputId": "67814b3b-9334-47f4-8762-935bc9b6f12b"
      },
      "execution_count": 39,
      "outputs": [
        {
          "output_type": "stream",
          "name": "stdout",
          "text": [
            "type a number between 0 and 4 :   0\n",
            "type a number between 5 and 9 :   9\n",
            "['빨강', '주황', '노랑', '초록', '파랑', '남색', '보라', '검정', '흰색', '회색']\n"
          ]
        }
      ]
    },
    {
      "cell_type": "code",
      "source": [
        "# 075\n",
        "list = [100, 200, 300, 400]\n",
        "for i in list :\n",
        "  print(i)\n",
        "user = int(input(\"type 3 digit number \"))\n",
        "if user in list :\n",
        "  print(f\"The position of [{user}] is {list.index(user)}\")\n",
        "else : \n",
        "  print(\"That is not in the list\")"
      ],
      "metadata": {
        "colab": {
          "base_uri": "https://localhost:8080/"
        },
        "id": "u3PyrTo0IQX2",
        "outputId": "19cab449-fd06-40d4-85a7-fc92ff0c1c7f"
      },
      "execution_count": 46,
      "outputs": [
        {
          "output_type": "stream",
          "name": "stdout",
          "text": [
            "100\n",
            "200\n",
            "300\n",
            "400\n",
            "type 3 digit number 300\n",
            "The position of [300] is 2\n"
          ]
        }
      ]
    },
    {
      "cell_type": "code",
      "source": [
        "# 076\n",
        "invitee = []\n",
        "for i in range(3):\n",
        "  user = input(\"enter the name of people to invite to a party: \")\n",
        "  invitee.append(user)\n",
        "print(f\"초대받은 사람들 명단 [{invitee}]\")\n",
        "user1 = input(\"추가로 초대하고 싶은 사람이 있나요?  y/n :\")\n",
        "while user1 == \"y\" :\n",
        "  user = input(\"enter the name of people to invite to a party: \")\n",
        "  invitee.append(user)\n",
        "  user1 = input(\"추가로 초대하고 싶은 사람이 있나요?  y/n :\")\n",
        "\n",
        "print(f\"초정 인원은 총 {len(invitee)} 명 입니다\")\n",
        "#print(f\"초청자 명단은 [{invitee}] 입니다\")"
      ],
      "metadata": {
        "colab": {
          "base_uri": "https://localhost:8080/"
        },
        "id": "Z3Zg3QlCJ-F0",
        "outputId": "47524bb6-b4eb-4617-bae8-77d247e24942"
      },
      "execution_count": 49,
      "outputs": [
        {
          "output_type": "stream",
          "name": "stdout",
          "text": [
            "enter the name of people to invite to a party: Hong\n",
            "enter the name of people to invite to a party: Kim\n",
            "enter the name of people to invite to a party: Park\n",
            "초대받은 사람들 명단 [['Hong', 'Kim', 'Park']]\n",
            "추가로 초대하고 싶은 사람이 있나요?  y/n :y\n",
            "enter the name of people to invite to a party: Lee\n",
            "추가로 초대하고 싶은 사람이 있나요?  y/n :n\n",
            "초정 인원은 총 4 명 입니다\n"
          ]
        }
      ]
    },
    {
      "cell_type": "code",
      "source": [
        "# 077\n",
        "invitee = []\n",
        "for i in range(3):\n",
        "  user = input(\"enter the name of people to invite to a party: \")\n",
        "  invitee.append(user)\n",
        "print(f\"초대받은 사람들 명단 [{invitee}]\")\n",
        "user1 = input(\"추가로 초대하고 싶은 사람이 있나요?  y/n :\")\n",
        "while user1 == \"y\" :\n",
        "  user = input(\"enter the name of people to invite to a party: \")\n",
        "  invitee.append(user)\n",
        "  user1 = input(\"추가로 초대하고 싶은 사람이 있나요?  y/n :\")\n",
        "\n",
        "#print(f\"초정 인원은 총 {len(invitee)} 명 입니다\")\n",
        "print(f\"초청자 명단은 [{invitee}] 입니다\")\n",
        "user_pick = input(\"초정자 중 한명을 고르세요\")\n",
        "a = invitee.index(user_pick)\n",
        "print(a)\n",
        "user1 = input(f\"Still do you want [{invitee[a]}] come to the party?  y/n \")\n",
        "if user1 == \"n\" :\n",
        "  invitee.remove(user_pick)\n",
        "\n",
        "print(f\"최종 초정자 명단은 [{invitee}] 입니다\")"
      ],
      "metadata": {
        "colab": {
          "base_uri": "https://localhost:8080/"
        },
        "id": "CFlT63EkMrup",
        "outputId": "5f24e4c2-0e10-423d-d545-df362c3a9bb7"
      },
      "execution_count": 53,
      "outputs": [
        {
          "output_type": "stream",
          "name": "stdout",
          "text": [
            "enter the name of people to invite to a party: Kim\n",
            "enter the name of people to invite to a party: Lee\n",
            "enter the name of people to invite to a party: Park\n",
            "초대받은 사람들 명단 [['Kim', 'Lee', 'Park']]\n",
            "추가로 초대하고 싶은 사람이 있나요?  y/n :y\n",
            "enter the name of people to invite to a party: Hong\n",
            "추가로 초대하고 싶은 사람이 있나요?  y/n :n\n",
            "초청자 명단은 [['Kim', 'Lee', 'Park', 'Hong']] 입니다\n",
            "초정자 중 한명을 고르세요Lee\n",
            "1\n",
            "Still do you want [Lee] come to the party?  y/n n\n",
            "최종 초정자 명단은 [['Kim', 'Park', 'Hong']] 입니다\n"
          ]
        }
      ]
    },
    {
      "cell_type": "code",
      "source": [
        "# 078\n",
        "tv_programs = [\"복면가왕\", \"아는형님\", \"런닝맨\", \"1박2일\"]\n",
        "for i in tv_programs :\n",
        "  print(i)\n",
        " \n",
        "user1 = input(\"type another tv program  \")\n",
        "if user1 not in tv_programs :\n",
        "    user2 = int(input(f\"{user1} 이 1~5 중 어떤 순위로 추가되었으면 합니까? \"))\n",
        "    tv_programs.insert(user2-1, user1)\n",
        "else :\n",
        "    print(\"이미 순위에 있는 프로그램입니다\")\n",
        "\n",
        "print(tv_programs)\n"
      ],
      "metadata": {
        "colab": {
          "base_uri": "https://localhost:8080/"
        },
        "id": "i_oWM5qcPqWy",
        "outputId": "164ee6d3-b4a4-47d1-f2bd-b14d69979d16"
      },
      "execution_count": 59,
      "outputs": [
        {
          "output_type": "stream",
          "name": "stdout",
          "text": [
            "복면가왕\n",
            "아는형님\n",
            "런닝맨\n",
            "1박2일\n",
            "type another tv program  무한도전\n",
            "무한도전 이 1~5 중 어떤 순위로 추가되었으면 합니까? 2\n",
            "['복면가왕', '무한도전', '아는형님', '런닝맨', '1박2일']\n"
          ]
        }
      ]
    },
    {
      "cell_type": "code",
      "source": [
        "# 079\n",
        "nums = []\n",
        "i = 0\n",
        "while i < 3 :\n",
        "  user = int(input(\"type a number  \"))\n",
        "  nums.append(user)\n",
        "  i += 1\n",
        "  print(nums)\n",
        "user2 = input(\"still do you want the last number you entered saved?  y/n  \")\n",
        "if user2 == \"n\" :\n",
        "  nums.pop()\n",
        "  \n",
        "print(nums)"
      ],
      "metadata": {
        "colab": {
          "base_uri": "https://localhost:8080/"
        },
        "id": "wH1-r3ApTYOU",
        "outputId": "21129ecf-481a-4bcb-9e27-2939141a328e"
      },
      "execution_count": 69,
      "outputs": [
        {
          "output_type": "stream",
          "name": "stdout",
          "text": [
            "type a number  100\n",
            "[100]\n",
            "type a number  200\n",
            "[100, 200]\n",
            "type a number  300\n",
            "[100, 200, 300]\n",
            "still do you want the last number you entered saved?  y/n  n\n",
            "[100, 200]\n"
          ]
        }
      ]
    }
  ]
}