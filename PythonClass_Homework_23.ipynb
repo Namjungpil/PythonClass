{
  "nbformat": 4,
  "nbformat_minor": 0,
  "metadata": {
    "colab": {
      "provenance": [],
      "authorship_tag": "ABX9TyOf4u7RVElPcapb5LDdJVRg",
      "include_colab_link": true
    },
    "kernelspec": {
      "name": "python3",
      "display_name": "Python 3"
    },
    "language_info": {
      "name": "python"
    }
  },
  "cells": [
    {
      "cell_type": "markdown",
      "metadata": {
        "id": "view-in-github",
        "colab_type": "text"
      },
      "source": [
        "<a href=\"https://colab.research.google.com/github/Namjungpil/PythonClass/blob/main/PythonClass_Homework_23.ipynb\" target=\"_parent\"><img src=\"https://colab.research.google.com/assets/colab-badge.svg\" alt=\"Open In Colab\"/></a>"
      ]
    },
    {
      "cell_type": "code",
      "execution_count": 4,
      "metadata": {
        "colab": {
          "base_uri": "https://localhost:8080/"
        },
        "id": "zTCcxVvU7BHh",
        "outputId": "29cc896f-7ec9-4824-8c2e-d1eda2f133be"
      },
      "outputs": [
        {
          "output_type": "stream",
          "name": "stdout",
          "text": [
            "type your first name:  Hong\n",
            "the length of your first name is [4]\n",
            "type your surname:  Gildong\n",
            "the length of your surname is [7]\n",
            "Your full name is Hong Gildong\n",
            "the length of your full name is [12]\n"
          ]
        }
      ],
      "source": [
        "# 080\n",
        "f_name = input(\"type your first name:  \")\n",
        "print(f\"the length of your first name is [{len(f_name)}]\")\n",
        "s_name = input(\"type your surname:  \")\n",
        "print(f\"the length of your surname is [{len(s_name)}]\")\n",
        "full_name = f_name+\" \"+s_name\n",
        "print(f\"Your full name is {full_name}\")\n",
        "print(f\"the length of your full name is [{len(full_name)}]\")"
      ]
    },
    {
      "cell_type": "code",
      "source": [
        "# 081\n",
        "subject = input(\"type your favourite school subject :  \")\n",
        "print(\"-\".join(subject))\n"
      ],
      "metadata": {
        "colab": {
          "base_uri": "https://localhost:8080/"
        },
        "id": "xPd3MO30-u3F",
        "outputId": "7fd09bae-8dd5-43ac-ea76-657cede829ad"
      },
      "execution_count": 6,
      "outputs": [
        {
          "output_type": "stream",
          "name": "stdout",
          "text": [
            "type your favourite school subject :  Spanish\n",
            "S-p-a-n-i-s-h\n"
          ]
        }
      ]
    },
    {
      "cell_type": "code",
      "source": [
        "# 082\n",
        "poem_line = \"엄마야 누나야 강변 살자, 뜰에는 반짝이는 금 모래 빛\"\n",
        "print(poem_line)\n",
        "start = input(\"type starting point to display :  \")\n",
        "end = input(\"type ending point to display :  \")\n",
        "start_point = poem_line.index(start)\n",
        "end_point = poem_line.index(end)\n",
        "print(poem_line[start_point:end_point+1])"
      ],
      "metadata": {
        "colab": {
          "base_uri": "https://localhost:8080/"
        },
        "id": "0r6wD_ylAgC3",
        "outputId": "3befa55a-e326-471d-f93c-f8e1765940bd"
      },
      "execution_count": 9,
      "outputs": [
        {
          "output_type": "stream",
          "name": "stdout",
          "text": [
            "엄마야 누나야 강변 살자, 뜰에는 반짝이는 금 모래 빛\n",
            "type starting point to display :  누\n",
            "type ending point to display :  금\n",
            "누나야 강변 살자, 뜰에는 반짝이는 금\n"
          ]
        }
      ]
    },
    {
      "cell_type": "code",
      "source": [
        "# 083\n",
        "user_word = input(\"type a word in upper case:   \")\n",
        "while user_word.islower() :\n",
        "  print(\"You wrote in lower case, try again\")\n",
        "  user_word = input(\"type a word in uppercase:   \")\n",
        "print(\"Well done\")"
      ],
      "metadata": {
        "colab": {
          "base_uri": "https://localhost:8080/"
        },
        "id": "Sdge4M9SCn8p",
        "outputId": "581f8aff-54ee-4e93-9ece-8cb51f130c46"
      },
      "execution_count": 17,
      "outputs": [
        {
          "output_type": "stream",
          "name": "stdout",
          "text": [
            "type a word in upper case:   word\n",
            "You wrote in lower case, try again\n",
            "type a word in uppercase:   WORD\n",
            "Well done\n"
          ]
        }
      ]
    },
    {
      "cell_type": "code",
      "source": [
        "# 084\n",
        "postcode = input(\"type in your postcode:   \")\n",
        "print(postcode[0:2].upper())"
      ],
      "metadata": {
        "colab": {
          "base_uri": "https://localhost:8080/"
        },
        "id": "2w99cdx7E0xQ",
        "outputId": "592a0054-f269-454f-90eb-d3f4728d57af"
      },
      "execution_count": 20,
      "outputs": [
        {
          "output_type": "stream",
          "name": "stdout",
          "text": [
            "type in your postcode:   michigan\n",
            "MI\n"
          ]
        }
      ]
    },
    {
      "cell_type": "code",
      "source": [],
      "metadata": {
        "id": "xYnlkyVCIScs"
      },
      "execution_count": null,
      "outputs": []
    },
    {
      "cell_type": "code",
      "source": [
        "# 085\n",
        "vowel = [\"a\",\"e\",\"i\",\"o\", \"u,\"]\n",
        "name = input(\"type in your name:   \")\n",
        "i = 0\n",
        "for char in name :\n",
        "  if char in vowel :\n",
        "    i += 1\n",
        "print(f\"[{i}] vowels are in your name\")    "
      ],
      "metadata": {
        "colab": {
          "base_uri": "https://localhost:8080/"
        },
        "id": "xQ5O8JfjIh_F",
        "outputId": "fe42708b-7650-48c0-8cc8-06ea363061b4"
      },
      "execution_count": 26,
      "outputs": [
        {
          "output_type": "stream",
          "name": "stdout",
          "text": [
            "type in your name:   Hong Gildong\n",
            "[3] vowels are in your name\n"
          ]
        }
      ]
    },
    {
      "cell_type": "code",
      "source": [
        "# 086\n",
        "pw1 = input(\"type in password:  \")\n",
        "pw2 = input(\"type in again password:  \")\n",
        "if pw1 == pw2:\n",
        "  print(\"Thank you\")\n",
        "else :\n",
        "  if pw1.upper() == pw2.upper() :\n",
        "    print(\"They must be in the same case\")\n",
        "  else : \n",
        "    print(\"Incorrect\")\n"
      ],
      "metadata": {
        "colab": {
          "base_uri": "https://localhost:8080/"
        },
        "id": "l-ldQNw_J0OZ",
        "outputId": "b3fc8209-0189-471a-e34e-2e5013799e93"
      },
      "execution_count": 29,
      "outputs": [
        {
          "output_type": "stream",
          "name": "stdout",
          "text": [
            "type in password:  ABCD\n",
            "type in again password:  abcd\n",
            "They must be in the same case\n"
          ]
        }
      ]
    },
    {
      "cell_type": "code",
      "source": [
        "# 087\n",
        "word = input(\"Enter a word:   \")\n",
        "backword = word[::-1]\n",
        "for char in backword :\n",
        "  print(char)\n"
      ],
      "metadata": {
        "colab": {
          "base_uri": "https://localhost:8080/"
        },
        "id": "ImzsPanyNP_H",
        "outputId": "59983dfa-ffa5-4d31-96d9-ae3218dbe55c"
      },
      "execution_count": 32,
      "outputs": [
        {
          "output_type": "stream",
          "name": "stdout",
          "text": [
            "Enter a word:   Hello\n",
            "o\n",
            "l\n",
            "l\n",
            "e\n",
            "H\n"
          ]
        }
      ]
    }
  ]
}