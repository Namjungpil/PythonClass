{
  "nbformat": 4,
  "nbformat_minor": 0,
  "metadata": {
    "colab": {
      "provenance": [],
      "authorship_tag": "ABX9TyPRrOJWYd2PG4EyZRNJ52IF",
      "include_colab_link": true
    },
    "kernelspec": {
      "name": "python3",
      "display_name": "Python 3"
    },
    "language_info": {
      "name": "python"
    }
  },
  "cells": [
    {
      "cell_type": "markdown",
      "metadata": {
        "id": "view-in-github",
        "colab_type": "text"
      },
      "source": [
        "<a href=\"https://colab.research.google.com/github/Namjungpil/PythonClass/blob/main/PythonClass_Homework_20.ipynb\" target=\"_parent\"><img src=\"https://colab.research.google.com/assets/colab-badge.svg\" alt=\"Open In Colab\"/></a>"
      ]
    },
    {
      "cell_type": "code",
      "execution_count": 2,
      "metadata": {
        "colab": {
          "base_uri": "https://localhost:8080/"
        },
        "id": "OZ8wErl_E_5b",
        "outputId": "3a03a338-9b58-47cf-e1c1-8d9d78250f1e"
      },
      "outputs": [
        {
          "output_type": "stream",
          "name": "stdout",
          "text": [
            "type any number 10\n",
            "type any number 20\n",
            "type any number 30\n",
            "The total is [60]\n"
          ]
        }
      ],
      "source": [
        "# 045\n",
        "total = 0\n",
        "while total <= 50 :\n",
        "  num = int(input(\"type any number \"))\n",
        "  total += num\n",
        "\n",
        "print(f\"The total is [{total}]\")"
      ]
    },
    {
      "cell_type": "code",
      "source": [
        "# 046\n",
        "value = 0\n",
        "while value <= 5 :\n",
        "  value = int(input(\"type any number\"))\n",
        "\n",
        "print(f\"The last number you entered was a {value}\" )"
      ],
      "metadata": {
        "colab": {
          "base_uri": "https://localhost:8080/"
        },
        "id": "ftZP2OfNGXiU",
        "outputId": "6ace34aa-290f-4017-d2dc-f086fa991058"
      },
      "execution_count": 9,
      "outputs": [
        {
          "output_type": "stream",
          "name": "stdout",
          "text": [
            "type any number2\n",
            "type any number3\n",
            "type any number5\n",
            "type any number7\n",
            "The last number you entered was a 7\n"
          ]
        }
      ]
    },
    {
      "cell_type": "code",
      "source": [
        "# 047\n",
        "num1 = int(input(\"type any number : \"))\n",
        "num2 = int(input(\"type another number : \"))\n",
        "add1 = num1 + num2\n",
        "\n",
        "add_want = input(\"do you want to add anohter number? y/n\") \n",
        "while add_want == \"y\" :\n",
        "  num = int(input(\"type another number : \"))\n",
        "  add1 += num\n",
        "  add_want = input(\"do you want to add anohter number? y/n\") \n",
        "\n",
        "print(f\"Total is {add1}\")\n",
        "\n"
      ],
      "metadata": {
        "colab": {
          "base_uri": "https://localhost:8080/"
        },
        "id": "hsm1X7aYIUE_",
        "outputId": "288e4053-04b5-4a0e-c4e7-6f6da5761436"
      },
      "execution_count": 12,
      "outputs": [
        {
          "output_type": "stream",
          "name": "stdout",
          "text": [
            "type any number : 10\n",
            "type another number : 10\n",
            "do you want to add anohter number? y/ny\n",
            "type another number : 30\n",
            "do you want to add anohter number? y/nn\n",
            "Total is 50\n"
          ]
        }
      ]
    },
    {
      "cell_type": "code",
      "source": [
        "# 048\n",
        "count = 0\n",
        "invite_more = \"y\"\n",
        "while invite_more == \"y\" :\n",
        "  name = input(\"who do you want to invite for the party? \")\n",
        "  print(f\"[{name}] has now been invited\")\n",
        "  count += 1\n",
        "  invite_more = input(\"Do you have a person more to invite? y/n\")\n",
        "  \n",
        "print(f\"[{count}] persons been invited\")\n"
      ],
      "metadata": {
        "colab": {
          "base_uri": "https://localhost:8080/"
        },
        "id": "ZUUF1Ge6M-Ln",
        "outputId": "9b5cae25-c71c-4e6a-c8be-9f9ea2d989e5"
      },
      "execution_count": 15,
      "outputs": [
        {
          "output_type": "stream",
          "name": "stdout",
          "text": [
            "who do you want to invite for the party? Hong\n",
            "[Hong] has now been invited\n",
            "Do you have a person more to invite? y/ny\n",
            "who do you want to invite for the party? Lee\n",
            "[Lee] has now been invited\n",
            "Do you have a person more to invite? y/nn\n",
            "[2] persons been invited\n"
          ]
        }
      ]
    },
    {
      "cell_type": "code",
      "source": [
        "# 049\n",
        "compnum = 50\n",
        "count = 1\n",
        "guess = int(input(\"type any number\"))\n",
        "\n",
        "while guess != compnum :\n",
        "  if guess > compnum :\n",
        "    print(\"it is too high\")\n",
        "    count += 1\n",
        "    guess = int(input(\"type any lower number\"))\n",
        "  else :\n",
        "    print(\"it is too low\")\n",
        "    count += 1\n",
        "    guess = int(input(\"type any higher number\"))\n",
        "\n",
        "print(f\"Well done, you took [{count}] attempts\" )"
      ],
      "metadata": {
        "colab": {
          "base_uri": "https://localhost:8080/"
        },
        "id": "4IIYluDOPmob",
        "outputId": "3eeb2d40-a3e8-400a-e25e-da0da3330583"
      },
      "execution_count": 18,
      "outputs": [
        {
          "output_type": "stream",
          "name": "stdout",
          "text": [
            "type any number30\n",
            "it is too low\n",
            "type any higher number70\n",
            "it is too high\n",
            "type any lower number50\n",
            "Well done, you took [3] attempts\n"
          ]
        }
      ]
    },
    {
      "cell_type": "code",
      "source": [
        "# 050\n",
        "num = int(input(\"type any number between 10 and 20   \"))\n",
        "\n",
        "while num < 10 or num > 20 : \n",
        "  if num < 10 :\n",
        "    print(\"Too low\")\n",
        "    num = int(input(\"type any number between 10 and 20   \"))\n",
        "  else :\n",
        "    print(\"Too high\")\n",
        "    num = int(input(\"type any number between 10 and 20   \"))\n",
        "\n",
        "print(\"Thank you\")"
      ],
      "metadata": {
        "colab": {
          "base_uri": "https://localhost:8080/"
        },
        "id": "MRSivHn3SyeY",
        "outputId": "59be3c64-ebde-45fa-e01f-7f4784522502"
      },
      "execution_count": 21,
      "outputs": [
        {
          "output_type": "stream",
          "name": "stdout",
          "text": [
            "type any number between 10 and 20   9\n",
            "Too low\n",
            "type any number between 10 and 20   21\n",
            "Too high\n",
            "type any number between 10 and 20   20\n",
            "Thank you\n"
          ]
        }
      ]
    },
    {
      "cell_type": "code",
      "source": [
        "# 051\n",
        "\n",
        "num = 10\n",
        "while num != 0 :\n",
        "  print(f\"There are {num} green bottles hanging on the wall, {num} green bottles hanging on the wall, and if 1 green bottle should acceidently fall\")\n",
        "  num -= 1\n",
        "  if num != 0 :\n",
        "    answer = int(input(\"how many green bottles will be hanging on the wall?  \"))\n",
        "    while answer != num :\n",
        "      answer = int(input(\"No, try again \"))\n",
        "print(\"There are no more green bolltes hanging on the wall\")\n",
        "\n",
        "  \n"
      ],
      "metadata": {
        "colab": {
          "base_uri": "https://localhost:8080/"
        },
        "id": "D04GC0BDUIGl",
        "outputId": "ce852968-d625-4188-c0b8-d4aa6f11d4cd"
      },
      "execution_count": 31,
      "outputs": [
        {
          "output_type": "stream",
          "name": "stdout",
          "text": [
            "There are 10 green bottles hanging on the wall, 10 green bottles hanging on the wall, and if 1 green bottle should acceidently fall\n",
            "how many green bottles will be hanging on the wall?  8\n",
            "No, try again 9\n",
            "There are 9 green bottles hanging on the wall, 9 green bottles hanging on the wall, and if 1 green bottle should acceidently fall\n",
            "how many green bottles will be hanging on the wall?  8\n",
            "There are 8 green bottles hanging on the wall, 8 green bottles hanging on the wall, and if 1 green bottle should acceidently fall\n",
            "how many green bottles will be hanging on the wall?  7\n",
            "There are 7 green bottles hanging on the wall, 7 green bottles hanging on the wall, and if 1 green bottle should acceidently fall\n",
            "how many green bottles will be hanging on the wall?  6\n",
            "There are 6 green bottles hanging on the wall, 6 green bottles hanging on the wall, and if 1 green bottle should acceidently fall\n",
            "how many green bottles will be hanging on the wall?  5\n",
            "There are 5 green bottles hanging on the wall, 5 green bottles hanging on the wall, and if 1 green bottle should acceidently fall\n",
            "how many green bottles will be hanging on the wall?  4\n",
            "There are 4 green bottles hanging on the wall, 4 green bottles hanging on the wall, and if 1 green bottle should acceidently fall\n",
            "how many green bottles will be hanging on the wall?  3\n",
            "There are 3 green bottles hanging on the wall, 3 green bottles hanging on the wall, and if 1 green bottle should acceidently fall\n",
            "how many green bottles will be hanging on the wall?  2\n",
            "There are 2 green bottles hanging on the wall, 2 green bottles hanging on the wall, and if 1 green bottle should acceidently fall\n",
            "how many green bottles will be hanging on the wall?  2\n",
            "No, try again 1\n",
            "There are 1 green bottles hanging on the wall, 1 green bottles hanging on the wall, and if 1 green bottle should acceidently fall\n",
            "There are no more green bolltes hanging on the wall\n"
          ]
        }
      ]
    }
  ]
}