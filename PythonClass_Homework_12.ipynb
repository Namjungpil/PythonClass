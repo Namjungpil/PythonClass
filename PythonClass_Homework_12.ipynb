{
  "nbformat": 4,
  "nbformat_minor": 0,
  "metadata": {
    "colab": {
      "provenance": [],
      "authorship_tag": "ABX9TyOa5Sl518T4vrbXns4VbjC4",
      "include_colab_link": true
    },
    "kernelspec": {
      "name": "python3",
      "display_name": "Python 3"
    },
    "language_info": {
      "name": "python"
    }
  },
  "cells": [
    {
      "cell_type": "markdown",
      "metadata": {
        "id": "view-in-github",
        "colab_type": "text"
      },
      "source": [
        "<a href=\"https://colab.research.google.com/github/Namjungpil/PythonClass/blob/main/PythonClass_Homework_12.ipynb\" target=\"_parent\"><img src=\"https://colab.research.google.com/assets/colab-badge.svg\" alt=\"Open In Colab\"/></a>"
      ]
    },
    {
      "cell_type": "code",
      "execution_count": 5,
      "metadata": {
        "colab": {
          "base_uri": "https://localhost:8080/"
        },
        "id": "l4g8T0WBvWs9",
        "outputId": "e668d5d2-9767-4a66-cdff-897e4c2b48d7"
      },
      "outputs": [
        {
          "output_type": "stream",
          "name": "stdout",
          "text": [
            "2000.28\n",
            "3050.427\n",
            "2050.287\n",
            "1980.2772\n",
            "7501.05\n",
            "2050.287\n",
            "2050.287\n",
            "1980.2772\n",
            "15452.163\n",
            "15052.107\n",
            "15552.177\n",
            "14902.086\n"
          ]
        }
      ],
      "source": [
        "# 191\n",
        "data = [\n",
        "    [ 2000,  3050,  2050,  1980],\n",
        "    [ 7500,  2050,  2050,  1980],\n",
        "    [15450, 15050, 15550, 14900]\n",
        "]\n",
        "\n",
        "fare = 0.014/100\n",
        "for i in range(len(data)) :\n",
        "  for j in range(len(data[0])) :\n",
        "     print(data[i][j] + data[i][j] * fare)\n",
        "\n",
        "\n"
      ]
    },
    {
      "cell_type": "code",
      "source": [
        "# 192\n",
        "data = [\n",
        "    [ 2000,  3050,  2050,  1980],\n",
        "    [ 7500,  2050,  2050,  1980],\n",
        "    [15450, 15050, 15550, 14900]\n",
        "]\n",
        "\n",
        "fare = 0.014/100\n",
        "for i in range(len(data)) :\n",
        "  for j in range(len(data[0])) :\n",
        "     print(data[i][j] + data[i][j] * fare)\n",
        "  print(\"- - - - \")   \n"
      ],
      "metadata": {
        "colab": {
          "base_uri": "https://localhost:8080/"
        },
        "id": "lonVTQllw7Dm",
        "outputId": "d65ab9f0-909f-4e9f-9af6-b87b7c388b31"
      },
      "execution_count": 6,
      "outputs": [
        {
          "output_type": "stream",
          "name": "stdout",
          "text": [
            "2000.28\n",
            "3050.427\n",
            "2050.287\n",
            "1980.2772\n",
            "- - - - \n",
            "7501.05\n",
            "2050.287\n",
            "2050.287\n",
            "1980.2772\n",
            "- - - - \n",
            "15452.163\n",
            "15052.107\n",
            "15552.177\n",
            "14902.086\n",
            "- - - - \n"
          ]
        }
      ]
    },
    {
      "cell_type": "code",
      "source": [
        "# 193\n",
        "data = [\n",
        "    [ 2000,  3050,  2050,  1980],\n",
        "    [ 7500,  2050,  2050,  1980],\n",
        "    [15450, 15050, 15550, 14900]\n",
        "]\n",
        "\n",
        "result = []\n",
        "\n",
        "fare = 0.014/100\n",
        "for i in range(len(data)) :\n",
        "  for j in range(len(data[0])) :\n",
        "     a = data[i][j] + data[i][j]*fare\n",
        "     result.append(a)\n",
        "print(result)"
      ],
      "metadata": {
        "colab": {
          "base_uri": "https://localhost:8080/"
        },
        "id": "pIBVPC0CxHVq",
        "outputId": "1bb1f048-9a28-4dd7-8a99-f9129003deac"
      },
      "execution_count": 7,
      "outputs": [
        {
          "output_type": "stream",
          "name": "stdout",
          "text": [
            "[2000.28, 3050.427, 2050.287, 1980.2772, 7501.05, 2050.287, 2050.287, 1980.2772, 15452.163, 15052.107, 15552.177, 14902.086]\n"
          ]
        }
      ]
    },
    {
      "cell_type": "code",
      "source": [
        "# 194\n",
        "data = [\n",
        "    [ 2000,  3050,  2050,  1980],\n",
        "    [ 7500,  2050,  2050,  1980],\n",
        "    [15450, 15050, 15550, 14900]\n",
        "]\n",
        "\n",
        "result = []\n",
        "list = []\n",
        "\n",
        "fare = 0.014/100\n",
        "for i in range(len(data)) :\n",
        "  for j in range(len(data[0])) :\n",
        "     a = data[i][j] + data[i][j]*fare\n",
        "     list.append(a)\n",
        "  result.append(list)\n",
        "  list = []\n",
        "print(result)"
      ],
      "metadata": {
        "colab": {
          "base_uri": "https://localhost:8080/"
        },
        "id": "0QR2xzfcyC9v",
        "outputId": "f3cc407f-02b9-44f4-b84b-18904a746bc8"
      },
      "execution_count": 19,
      "outputs": [
        {
          "output_type": "stream",
          "name": "stdout",
          "text": [
            "[[2000.28, 3050.427, 2050.287, 1980.2772], [7501.05, 2050.287, 2050.287, 1980.2772], [15452.163, 15052.107, 15552.177, 14902.086]]\n"
          ]
        }
      ]
    },
    {
      "cell_type": "code",
      "source": [
        "# 195\n",
        "ohlc = [[\"open\", \"high\", \"low\", \"close\"],\n",
        "        [100, 110, 70, 100],\n",
        "        [200, 210, 180, 190],\n",
        "        [300, 310, 300, 310]]\n",
        "\n",
        "for i in range(1,len(ohlc)) :\n",
        "    close_price = ohlc[i][3]\n",
        "    print(close_price)"
      ],
      "metadata": {
        "colab": {
          "base_uri": "https://localhost:8080/"
        },
        "id": "iO4BkXZS3Brn",
        "outputId": "0e20c460-40a1-4c4b-a0d5-4eb20b986296"
      },
      "execution_count": 26,
      "outputs": [
        {
          "output_type": "stream",
          "name": "stdout",
          "text": [
            "100\n",
            "190\n",
            "310\n"
          ]
        }
      ]
    },
    {
      "cell_type": "code",
      "source": [
        "# 196\n",
        "ohlc = [[\"open\", \"high\", \"low\", \"close\"],\n",
        "        [100, 110, 70, 100],\n",
        "        [200, 210, 180, 190],\n",
        "        [300, 310, 300, 310]]\n",
        "\n",
        "for i in range(1,len(ohlc)) :\n",
        "   close_price = ohlc[i][3]\n",
        "   if close_price > 150 :\n",
        "      print(close_price)"
      ],
      "metadata": {
        "colab": {
          "base_uri": "https://localhost:8080/"
        },
        "id": "P8_hHlrW6kps",
        "outputId": "6bdf5c6a-de33-4c7b-eeac-410c5a492606"
      },
      "execution_count": 27,
      "outputs": [
        {
          "output_type": "stream",
          "name": "stdout",
          "text": [
            "190\n",
            "310\n"
          ]
        }
      ]
    },
    {
      "cell_type": "code",
      "source": [
        "# 197\n",
        "ohlc = [[\"open\", \"high\", \"low\", \"close\"],\n",
        "        [100, 110, 70, 100],\n",
        "        [200, 210, 180, 190],\n",
        "        [300, 310, 300, 310]]\n",
        "\n",
        "for i in range(1,len(ohlc)) :\n",
        "   open_price = ohlc[i][0]\n",
        "   close_price = ohlc[i][3]\n",
        "   if close_price >= open_price :\n",
        "      print(close_price)"
      ],
      "metadata": {
        "colab": {
          "base_uri": "https://localhost:8080/"
        },
        "id": "jJ5z2ATx7PKg",
        "outputId": "43539126-a2f6-4c9a-ac2b-8c3a4263e3d9"
      },
      "execution_count": 28,
      "outputs": [
        {
          "output_type": "stream",
          "name": "stdout",
          "text": [
            "100\n",
            "310\n"
          ]
        }
      ]
    },
    {
      "cell_type": "code",
      "source": [
        "# 198\n",
        "ohlc = [[\"open\", \"high\", \"low\", \"close\"],\n",
        "        [100, 110, 70, 100],\n",
        "        [200, 210, 180, 190],\n",
        "        [300, 310, 300, 310]]\n",
        "\n",
        "volatility = []\n",
        "\n",
        "for i in range(1,len(ohlc)) :\n",
        "   high_price = ohlc[i][1]\n",
        "   low_price = ohlc[i][2]\n",
        "   diff = high_price - low_price\n",
        "     \n",
        "   volatility.append(diff)\n",
        "\n",
        "print(volatility)\n"
      ],
      "metadata": {
        "colab": {
          "base_uri": "https://localhost:8080/"
        },
        "id": "26Sygh897zVF",
        "outputId": "ebae42d8-62cf-465f-8f3a-220f912138c5"
      },
      "execution_count": 29,
      "outputs": [
        {
          "output_type": "stream",
          "name": "stdout",
          "text": [
            "[40, 30, 10]\n"
          ]
        }
      ]
    },
    {
      "cell_type": "code",
      "source": [
        "# 199\n",
        "ohlc = [[\"open\", \"high\", \"low\", \"close\"],\n",
        "        [100, 110, 70, 100],\n",
        "        [200, 210, 180, 190],\n",
        "        [300, 310, 300, 310]]\n",
        "\n",
        "for i in range(1,len(ohlc)) :\n",
        "  \n",
        "   open_price = ohlc[i][0]\n",
        "   high_price = ohlc[i][1]\n",
        "   low_price = ohlc[i][2]\n",
        "   close_price = ohlc[i][3]\n",
        "   \n",
        "   day_result = close_price - open_price\n",
        "  \n",
        "   if day_result > 0 :\n",
        "      print(high_price - low_price)    \n"
      ],
      "metadata": {
        "colab": {
          "base_uri": "https://localhost:8080/"
        },
        "id": "GRi05_Zx8oDI",
        "outputId": "c87417d8-826e-44e2-ed8d-aba2a1d72869"
      },
      "execution_count": 32,
      "outputs": [
        {
          "output_type": "stream",
          "name": "stdout",
          "text": [
            "10\n"
          ]
        }
      ]
    },
    {
      "cell_type": "code",
      "source": [
        "# 200\n",
        "ohlc = [[\"open\", \"high\", \"low\", \"close\"],\n",
        "        [100, 110, 70, 100],\n",
        "        [200, 210, 180, 190],\n",
        "        [300, 310, 300, 310]]\n",
        "\n",
        "sum = 0\n",
        "\n",
        "for i in range(1,len(ohlc)) :\n",
        "  \n",
        "   open_price = ohlc[i][0]\n",
        "   high_price = ohlc[i][1]\n",
        "   low_price = ohlc[i][2]\n",
        "   close_price = ohlc[i][3]\n",
        "\n",
        "   daily = close_price - open_price\n",
        "   sum += daily \n",
        "\n",
        "print(sum)"
      ],
      "metadata": {
        "colab": {
          "base_uri": "https://localhost:8080/"
        },
        "id": "ZbWjx4J8-IqA",
        "outputId": "48ed1b7a-b796-4142-877c-40d45b29a252"
      },
      "execution_count": 37,
      "outputs": [
        {
          "output_type": "stream",
          "name": "stdout",
          "text": [
            "0\n"
          ]
        }
      ]
    },
    {
      "cell_type": "code",
      "source": [
        "# 201\n",
        "def print_coin() :\n",
        "  return print(\"비트코인\")\n"
      ],
      "metadata": {
        "id": "hseu5vl2_XtH"
      },
      "execution_count": 43,
      "outputs": []
    },
    {
      "cell_type": "code",
      "source": [
        "# 201\n",
        "def print_coin() :\n",
        "  return print(\"비트코인\")\n",
        "\n",
        "print_coin()"
      ],
      "metadata": {
        "colab": {
          "base_uri": "https://localhost:8080/"
        },
        "id": "7re8SZGyAXTW",
        "outputId": "1ef7950b-0ee4-4847-b165-0032b2fa6126"
      },
      "execution_count": 42,
      "outputs": [
        {
          "output_type": "stream",
          "name": "stdout",
          "text": [
            "비트코인\n"
          ]
        }
      ]
    },
    {
      "cell_type": "code",
      "source": [
        "# 203\n",
        "def print_coin() :\n",
        "  return print(\"비트코인\")\n",
        "\n",
        "count = 1\n",
        "while count < 101 :\n",
        "  print(count,\"번 호출\", end = \"   \")\n",
        "  print_coin()\n",
        "  count += 1\n"
      ],
      "metadata": {
        "colab": {
          "base_uri": "https://localhost:8080/"
        },
        "id": "90Hb1GdqA1S7",
        "outputId": "5cff1c02-2123-4c2e-9c26-caa03213a442"
      },
      "execution_count": 51,
      "outputs": [
        {
          "output_type": "stream",
          "name": "stdout",
          "text": [
            "1 번 호출   비트코인\n",
            "2 번 호출   비트코인\n",
            "3 번 호출   비트코인\n",
            "4 번 호출   비트코인\n",
            "5 번 호출   비트코인\n",
            "6 번 호출   비트코인\n",
            "7 번 호출   비트코인\n",
            "8 번 호출   비트코인\n",
            "9 번 호출   비트코인\n",
            "10 번 호출   비트코인\n",
            "11 번 호출   비트코인\n",
            "12 번 호출   비트코인\n",
            "13 번 호출   비트코인\n",
            "14 번 호출   비트코인\n",
            "15 번 호출   비트코인\n",
            "16 번 호출   비트코인\n",
            "17 번 호출   비트코인\n",
            "18 번 호출   비트코인\n",
            "19 번 호출   비트코인\n",
            "20 번 호출   비트코인\n",
            "21 번 호출   비트코인\n",
            "22 번 호출   비트코인\n",
            "23 번 호출   비트코인\n",
            "24 번 호출   비트코인\n",
            "25 번 호출   비트코인\n",
            "26 번 호출   비트코인\n",
            "27 번 호출   비트코인\n",
            "28 번 호출   비트코인\n",
            "29 번 호출   비트코인\n",
            "30 번 호출   비트코인\n",
            "31 번 호출   비트코인\n",
            "32 번 호출   비트코인\n",
            "33 번 호출   비트코인\n",
            "34 번 호출   비트코인\n",
            "35 번 호출   비트코인\n",
            "36 번 호출   비트코인\n",
            "37 번 호출   비트코인\n",
            "38 번 호출   비트코인\n",
            "39 번 호출   비트코인\n",
            "40 번 호출   비트코인\n",
            "41 번 호출   비트코인\n",
            "42 번 호출   비트코인\n",
            "43 번 호출   비트코인\n",
            "44 번 호출   비트코인\n",
            "45 번 호출   비트코인\n",
            "46 번 호출   비트코인\n",
            "47 번 호출   비트코인\n",
            "48 번 호출   비트코인\n",
            "49 번 호출   비트코인\n",
            "50 번 호출   비트코인\n",
            "51 번 호출   비트코인\n",
            "52 번 호출   비트코인\n",
            "53 번 호출   비트코인\n",
            "54 번 호출   비트코인\n",
            "55 번 호출   비트코인\n",
            "56 번 호출   비트코인\n",
            "57 번 호출   비트코인\n",
            "58 번 호출   비트코인\n",
            "59 번 호출   비트코인\n",
            "60 번 호출   비트코인\n",
            "61 번 호출   비트코인\n",
            "62 번 호출   비트코인\n",
            "63 번 호출   비트코인\n",
            "64 번 호출   비트코인\n",
            "65 번 호출   비트코인\n",
            "66 번 호출   비트코인\n",
            "67 번 호출   비트코인\n",
            "68 번 호출   비트코인\n",
            "69 번 호출   비트코인\n",
            "70 번 호출   비트코인\n",
            "71 번 호출   비트코인\n",
            "72 번 호출   비트코인\n",
            "73 번 호출   비트코인\n",
            "74 번 호출   비트코인\n",
            "75 번 호출   비트코인\n",
            "76 번 호출   비트코인\n",
            "77 번 호출   비트코인\n",
            "78 번 호출   비트코인\n",
            "79 번 호출   비트코인\n",
            "80 번 호출   비트코인\n",
            "81 번 호출   비트코인\n",
            "82 번 호출   비트코인\n",
            "83 번 호출   비트코인\n",
            "84 번 호출   비트코인\n",
            "85 번 호출   비트코인\n",
            "86 번 호출   비트코인\n",
            "87 번 호출   비트코인\n",
            "88 번 호출   비트코인\n",
            "89 번 호출   비트코인\n",
            "90 번 호출   비트코인\n",
            "91 번 호출   비트코인\n",
            "92 번 호출   비트코인\n",
            "93 번 호출   비트코인\n",
            "94 번 호출   비트코인\n",
            "95 번 호출   비트코인\n",
            "96 번 호출   비트코인\n",
            "97 번 호출   비트코인\n",
            "98 번 호출   비트코인\n",
            "99 번 호출   비트코인\n",
            "100 번 호출   비트코인\n"
          ]
        }
      ]
    },
    {
      "cell_type": "code",
      "source": [
        "# 204\n",
        "def print_coin() :\n",
        "\n",
        "  count = 1\n",
        "  while count < 101 :\n",
        "     print(count,\"번 호출\", \"비트코인\")\n",
        "     count += 1\n",
        " \n",
        "print_coin()"
      ],
      "metadata": {
        "colab": {
          "base_uri": "https://localhost:8080/"
        },
        "id": "_H7l2zWdHThJ",
        "outputId": "ee1ccaa0-7e98-4754-c8f0-b64b66023785"
      },
      "execution_count": 56,
      "outputs": [
        {
          "output_type": "stream",
          "name": "stdout",
          "text": [
            "1 번 호출 비트코인\n",
            "2 번 호출 비트코인\n",
            "3 번 호출 비트코인\n",
            "4 번 호출 비트코인\n",
            "5 번 호출 비트코인\n",
            "6 번 호출 비트코인\n",
            "7 번 호출 비트코인\n",
            "8 번 호출 비트코인\n",
            "9 번 호출 비트코인\n",
            "10 번 호출 비트코인\n",
            "11 번 호출 비트코인\n",
            "12 번 호출 비트코인\n",
            "13 번 호출 비트코인\n",
            "14 번 호출 비트코인\n",
            "15 번 호출 비트코인\n",
            "16 번 호출 비트코인\n",
            "17 번 호출 비트코인\n",
            "18 번 호출 비트코인\n",
            "19 번 호출 비트코인\n",
            "20 번 호출 비트코인\n",
            "21 번 호출 비트코인\n",
            "22 번 호출 비트코인\n",
            "23 번 호출 비트코인\n",
            "24 번 호출 비트코인\n",
            "25 번 호출 비트코인\n",
            "26 번 호출 비트코인\n",
            "27 번 호출 비트코인\n",
            "28 번 호출 비트코인\n",
            "29 번 호출 비트코인\n",
            "30 번 호출 비트코인\n",
            "31 번 호출 비트코인\n",
            "32 번 호출 비트코인\n",
            "33 번 호출 비트코인\n",
            "34 번 호출 비트코인\n",
            "35 번 호출 비트코인\n",
            "36 번 호출 비트코인\n",
            "37 번 호출 비트코인\n",
            "38 번 호출 비트코인\n",
            "39 번 호출 비트코인\n",
            "40 번 호출 비트코인\n",
            "41 번 호출 비트코인\n",
            "42 번 호출 비트코인\n",
            "43 번 호출 비트코인\n",
            "44 번 호출 비트코인\n",
            "45 번 호출 비트코인\n",
            "46 번 호출 비트코인\n",
            "47 번 호출 비트코인\n",
            "48 번 호출 비트코인\n",
            "49 번 호출 비트코인\n",
            "50 번 호출 비트코인\n",
            "51 번 호출 비트코인\n",
            "52 번 호출 비트코인\n",
            "53 번 호출 비트코인\n",
            "54 번 호출 비트코인\n",
            "55 번 호출 비트코인\n",
            "56 번 호출 비트코인\n",
            "57 번 호출 비트코인\n",
            "58 번 호출 비트코인\n",
            "59 번 호출 비트코인\n",
            "60 번 호출 비트코인\n",
            "61 번 호출 비트코인\n",
            "62 번 호출 비트코인\n",
            "63 번 호출 비트코인\n",
            "64 번 호출 비트코인\n",
            "65 번 호출 비트코인\n",
            "66 번 호출 비트코인\n",
            "67 번 호출 비트코인\n",
            "68 번 호출 비트코인\n",
            "69 번 호출 비트코인\n",
            "70 번 호출 비트코인\n",
            "71 번 호출 비트코인\n",
            "72 번 호출 비트코인\n",
            "73 번 호출 비트코인\n",
            "74 번 호출 비트코인\n",
            "75 번 호출 비트코인\n",
            "76 번 호출 비트코인\n",
            "77 번 호출 비트코인\n",
            "78 번 호출 비트코인\n",
            "79 번 호출 비트코인\n",
            "80 번 호출 비트코인\n",
            "81 번 호출 비트코인\n",
            "82 번 호출 비트코인\n",
            "83 번 호출 비트코인\n",
            "84 번 호출 비트코인\n",
            "85 번 호출 비트코인\n",
            "86 번 호출 비트코인\n",
            "87 번 호출 비트코인\n",
            "88 번 호출 비트코인\n",
            "89 번 호출 비트코인\n",
            "90 번 호출 비트코인\n",
            "91 번 호출 비트코인\n",
            "92 번 호출 비트코인\n",
            "93 번 호출 비트코인\n",
            "94 번 호출 비트코인\n",
            "95 번 호출 비트코인\n",
            "96 번 호출 비트코인\n",
            "97 번 호출 비트코인\n",
            "98 번 호출 비트코인\n",
            "99 번 호출 비트코인\n",
            "100 번 호출 비트코인\n"
          ]
        }
      ]
    },
    {
      "cell_type": "code",
      "source": [
        "# 205\n",
        "hello()      # hello 함수의 정의는 아래에 있어 호출 할 수 없음. 함수 정의 이후에 함수를 호출해야 함\n",
        "def hello():\n",
        "    print(\"Hi\")"
      ],
      "metadata": {
        "colab": {
          "base_uri": "https://localhost:8080/",
          "height": 227
        },
        "id": "DcY40UISIhCE",
        "outputId": "bcf805c6-9927-4e8b-f19f-b777a763490b"
      },
      "execution_count": 57,
      "outputs": [
        {
          "output_type": "error",
          "ename": "NameError",
          "evalue": "ignored",
          "traceback": [
            "\u001b[0;31m---------------------------------------------------------------------------\u001b[0m",
            "\u001b[0;31mNameError\u001b[0m                                 Traceback (most recent call last)",
            "\u001b[0;32m<ipython-input-57-97829806c89f>\u001b[0m in \u001b[0;36m<module>\u001b[0;34m\u001b[0m\n\u001b[1;32m      1\u001b[0m \u001b[0;31m# 205\u001b[0m\u001b[0;34m\u001b[0m\u001b[0;34m\u001b[0m\u001b[0;34m\u001b[0m\u001b[0m\n\u001b[0;32m----> 2\u001b[0;31m \u001b[0mhello\u001b[0m\u001b[0;34m(\u001b[0m\u001b[0;34m)\u001b[0m\u001b[0;34m\u001b[0m\u001b[0;34m\u001b[0m\u001b[0m\n\u001b[0m\u001b[1;32m      3\u001b[0m \u001b[0;32mdef\u001b[0m \u001b[0mhello\u001b[0m\u001b[0;34m(\u001b[0m\u001b[0;34m)\u001b[0m\u001b[0;34m:\u001b[0m\u001b[0;34m\u001b[0m\u001b[0;34m\u001b[0m\u001b[0m\n\u001b[1;32m      4\u001b[0m     \u001b[0mprint\u001b[0m\u001b[0;34m(\u001b[0m\u001b[0;34m\"Hi\"\u001b[0m\u001b[0;34m)\u001b[0m\u001b[0;34m\u001b[0m\u001b[0;34m\u001b[0m\u001b[0m\n",
            "\u001b[0;31mNameError\u001b[0m: name 'hello' is not defined"
          ]
        }
      ]
    },
    {
      "cell_type": "code",
      "source": [
        "# 206\n",
        "def message() :\n",
        "    print(\"A\")\n",
        "    print(\"B\")\n",
        "\n",
        "message()         # 문자열 A, B 를 각 줄에 출력\n",
        "print(\"C\")        # 문자열 C 를 줄에 출력\n",
        "message()         # 문자열 A, B 를 각 줄에 출력"
      ],
      "metadata": {
        "colab": {
          "base_uri": "https://localhost:8080/"
        },
        "id": "ZRXpfdCUIpvf",
        "outputId": "6a98383a-dee7-4f58-c036-4cadc3783747"
      },
      "execution_count": 58,
      "outputs": [
        {
          "output_type": "stream",
          "name": "stdout",
          "text": [
            "A\n",
            "B\n",
            "C\n",
            "A\n",
            "B\n"
          ]
        }
      ]
    },
    {
      "cell_type": "code",
      "source": [
        "# 207\n",
        "print(\"A\")      # 문자열 A 를 줄에 출력\n",
        "\n",
        "def message() :\n",
        "    print(\"B\")   \n",
        "\n",
        "print(\"C\")      # 문자열 C 를 줄에 출력\n",
        "message()       # 문자열 B 를 줄에 출력\n"
      ],
      "metadata": {
        "colab": {
          "base_uri": "https://localhost:8080/"
        },
        "id": "N_clwMKRJNJ1",
        "outputId": "05c276de-d950-4d2f-fc16-bbcc052d635d"
      },
      "execution_count": 62,
      "outputs": [
        {
          "output_type": "stream",
          "name": "stdout",
          "text": [
            "A\n",
            "C\n",
            "B\n"
          ]
        }
      ]
    },
    {
      "cell_type": "code",
      "source": [
        "# 208\n",
        "print(\"A\")             # 문자열 A 를 줄에 출력\n",
        "def message1() :\n",
        "    print(\"B\")\n",
        "print(\"C\")             # 문자열 C 를 줄에 출력\n",
        "def message2() :\n",
        "    print(\"D\")\n",
        "message1()             # 문자열 B 를 줄에 출력\n",
        "print(\"E\")             # 문자열 E 를 줄에 출력\n",
        "message2()             # 문자열 D 를 줄에 출력\n"
      ],
      "metadata": {
        "colab": {
          "base_uri": "https://localhost:8080/"
        },
        "id": "r5WwdC2HJ6KZ",
        "outputId": "00928f5b-450d-41f9-81da-d7451bd12eb0"
      },
      "execution_count": 63,
      "outputs": [
        {
          "output_type": "stream",
          "name": "stdout",
          "text": [
            "A\n",
            "C\n",
            "B\n",
            "E\n",
            "D\n"
          ]
        }
      ]
    },
    {
      "cell_type": "code",
      "source": [
        "# 209\n",
        "def message1():\n",
        "    print(\"A\")\n",
        "\n",
        "def message2():\n",
        "    print(\"B\")\n",
        "    message1()\n",
        "\n",
        "message2()               # 문자열 B 출력하고 줄바꿈 후 문자열 A 출력"
      ],
      "metadata": {
        "colab": {
          "base_uri": "https://localhost:8080/"
        },
        "id": "ORX9qX8-KMF0",
        "outputId": "cee4a384-9b85-4cd5-faa2-3216f1454ca9"
      },
      "execution_count": 64,
      "outputs": [
        {
          "output_type": "stream",
          "name": "stdout",
          "text": [
            "B\n",
            "A\n"
          ]
        }
      ]
    },
    {
      "cell_type": "code",
      "source": [
        "# 210\n",
        "def message1():\n",
        "    print(\"A\")\n",
        "\n",
        "def message2():\n",
        "    print(\"B\")\n",
        "\n",
        "def message3():\n",
        "    for i in range (3) :\n",
        "        message2()\n",
        "        print(\"C\")\n",
        "    message1()\n",
        "\n",
        "message3()                  # message2 함수 호출과 문자열 C 출력을 3회(i=0,1,2)하므로 문자열 B, C, B, C, B, C 를 각 줄에 출력 후 message1 함수 1회 호출로 마지막 줄에 문자열 A 출력함"
      ],
      "metadata": {
        "colab": {
          "base_uri": "https://localhost:8080/"
        },
        "id": "VEbBVyoWKdHH",
        "outputId": "e2de0fec-e255-4fb6-e374-d1ccbf4734ba"
      },
      "execution_count": 65,
      "outputs": [
        {
          "output_type": "stream",
          "name": "stdout",
          "text": [
            "B\n",
            "C\n",
            "B\n",
            "C\n",
            "B\n",
            "C\n",
            "A\n"
          ]
        }
      ]
    }
  ]
}