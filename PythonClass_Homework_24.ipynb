{
  "nbformat": 4,
  "nbformat_minor": 0,
  "metadata": {
    "colab": {
      "provenance": [],
      "authorship_tag": "ABX9TyOCI2XynIlw9GHYu/m10V2l",
      "include_colab_link": true
    },
    "kernelspec": {
      "name": "python3",
      "display_name": "Python 3"
    },
    "language_info": {
      "name": "python"
    }
  },
  "cells": [
    {
      "cell_type": "markdown",
      "metadata": {
        "id": "view-in-github",
        "colab_type": "text"
      },
      "source": [
        "<a href=\"https://colab.research.google.com/github/Namjungpil/PythonClass/blob/main/PythonClass_Homework_24.ipynb\" target=\"_parent\"><img src=\"https://colab.research.google.com/assets/colab-badge.svg\" alt=\"Open In Colab\"/></a>"
      ]
    },
    {
      "cell_type": "code",
      "execution_count": 27,
      "metadata": {
        "colab": {
          "base_uri": "https://localhost:8080/"
        },
        "id": "tXSBPn7pWq2p",
        "outputId": "7c2fac95-79a4-4be1-d9f8-48977d07018c"
      },
      "outputs": [
        {
          "output_type": "stream",
          "name": "stdout",
          "text": [
            "type in integer :  10\n",
            "type in integer :  30\n",
            "type in integer :  20\n",
            "type in integer :  40\n",
            "type in integer :  50\n",
            "nums is array('i', [10, 30, 20, 40, 50])\n",
            "sort of new array is [10, 20, 30, 40, 50]\n",
            "reverse of the sorted array is [50, 40, 30, 20, 10]\n"
          ]
        }
      ],
      "source": [
        "# 088\n",
        "from array import * \n",
        "nums = array(\"i\", [])\n",
        "for i in range(5) :\n",
        "  i_list = int(input(\"type in integer :  \"))\n",
        "  nums.append(i_list)\n",
        "print(f\"nums is {nums}\")\n",
        "s_nums = sorted(nums)\n",
        "print(f\"sort of new array is {s_nums}\")\n",
        "# print(type(s_nums))\n",
        "s_nums.reverse()    \n",
        "print(f\"reverse of the sorted array is {s_nums}\")\n"
      ]
    },
    {
      "cell_type": "code",
      "source": [
        "# 089\n",
        "from array import * \n",
        "import random\n",
        "nums = array(\"i\",[])\n",
        "for j in range(5) :\n",
        "  new = random.randint(1,100)\n",
        "  print(f\"new value in array is [{new}]\")\n",
        "  nums.append(new)\n",
        "  print(nums)\n"
      ],
      "metadata": {
        "colab": {
          "base_uri": "https://localhost:8080/"
        },
        "id": "EJdgOMzZedjc",
        "outputId": "b692f8a6-d687-4dbe-a9da-3180d08747d7"
      },
      "execution_count": 16,
      "outputs": [
        {
          "output_type": "stream",
          "name": "stdout",
          "text": [
            "new value in array is [88]\n",
            "array('i', [88])\n",
            "new value in array is [69]\n",
            "array('i', [88, 69])\n",
            "new value in array is [84]\n",
            "array('i', [88, 69, 84])\n",
            "new value in array is [33]\n",
            "array('i', [88, 69, 84, 33])\n",
            "new value in array is [91]\n",
            "array('i', [88, 69, 84, 33, 91])\n"
          ]
        }
      ]
    },
    {
      "cell_type": "code",
      "source": [
        "# 090\n",
        "from array import * \n",
        "arr = array('i',[])\n",
        "count = 0\n",
        "while count < 5 :\n",
        "  nums = int(input(\"type any number :  \"))\n",
        "  if 10 <= nums <= 20 :\n",
        "     arr.append(nums)\n",
        "     count += 1\n",
        "  else : \n",
        "     print (\"Outside the range\")\n",
        "print(\"Thank you\")\n",
        "print(arr)\n",
        "for i in range(len(arr)):\n",
        "  print(arr[i])"
      ],
      "metadata": {
        "colab": {
          "base_uri": "https://localhost:8080/"
        },
        "id": "32vjixNQhUMo",
        "outputId": "0e974bb2-650c-4c07-c58c-5345204fda9b"
      },
      "execution_count": 30,
      "outputs": [
        {
          "output_type": "stream",
          "name": "stdout",
          "text": [
            "type any number :  9\n",
            "Outside the range\n",
            "type any number :  21\n",
            "Outside the range\n",
            "type any number :  10\n",
            "type any number :  13\n",
            "type any number :  15\n",
            "type any number :  19\n",
            "type any number :  22\n",
            "Outside the range\n",
            "type any number :  20\n",
            "Thank you\n",
            "array('i', [10, 13, 15, 19, 20])\n",
            "10\n",
            "13\n",
            "15\n",
            "19\n",
            "20\n"
          ]
        }
      ]
    },
    {
      "cell_type": "code",
      "source": [
        "# 091\n",
        "from array import *\n",
        "arr = array('i', [10, 20, 20, 30, 30])\n",
        "print(arr)\n",
        "user_pick = int(input(\"type in number from array:  \"))\n",
        "count = arr.count(user_pick)\n",
        "print(f\"the number you picked [{user_pick}] is [{count}] times appears in the list\")"
      ],
      "metadata": {
        "colab": {
          "base_uri": "https://localhost:8080/"
        },
        "id": "7RzKuJ3hmWVR",
        "outputId": "e8526ec0-67f7-49ec-bf9d-a4ed99605008"
      },
      "execution_count": 33,
      "outputs": [
        {
          "output_type": "stream",
          "name": "stdout",
          "text": [
            "array('i', [10, 20, 20, 30, 30])\n",
            "type in number from array:  30\n",
            "the number you picked [30] is [2] times appears in the list\n"
          ]
        }
      ]
    },
    {
      "cell_type": "code",
      "source": [
        "# 092\n",
        "from array import *\n",
        "import random\n",
        "arr1 = array('i',[10,20,30])\n",
        "arr2 = array('i',[])\n",
        "for i in range(5) :\n",
        "  num = random.randint(1,100)\n",
        "  arr2.append(num)\n",
        "arr1.extend(arr2)\n",
        "print(f\"array is {arr1}\")\n",
        "final_arr = sorted(arr1)\n",
        "print(f\"finally sorted array is {final_arr}\")\n",
        "for i in range(len(final_arr)):\n",
        "  print(final_arr[i])\n"
      ],
      "metadata": {
        "colab": {
          "base_uri": "https://localhost:8080/"
        },
        "id": "aTq1sGe5pL0F",
        "outputId": "4dce1131-10f8-4695-affa-1e0d7dfb5c3b"
      },
      "execution_count": 36,
      "outputs": [
        {
          "output_type": "stream",
          "name": "stdout",
          "text": [
            "array is array('i', [10, 20, 30, 51, 29, 11, 44, 19])\n",
            "finally sorted array is [10, 11, 19, 20, 29, 30, 44, 51]\n",
            "10\n",
            "11\n",
            "19\n",
            "20\n",
            "29\n",
            "30\n",
            "44\n",
            "51\n"
          ]
        }
      ]
    },
    {
      "cell_type": "code",
      "source": [
        "# 093\n",
        "from array import *\n",
        "arr1 = array('i',[])\n",
        "for i in range(5) :\n",
        "  user = int(input(\"type in a number:  \"))\n",
        "  arr1.append(user)\n",
        "s_arr1 = sorted(arr1)\n",
        "print(f\"selected and sorted array is {s_arr1}\")\n",
        "user_pick = int(input(\"select a number what you want to remove:  \"))\n",
        "s_arr1.remove(user_pick)\n",
        "print(f\"the final array is {s_arr1}\")"
      ],
      "metadata": {
        "colab": {
          "base_uri": "https://localhost:8080/"
        },
        "id": "c1cr_YbWsfcY",
        "outputId": "5a0c61e8-84b0-490b-d54b-fd7486d66b4c"
      },
      "execution_count": 41,
      "outputs": [
        {
          "output_type": "stream",
          "name": "stdout",
          "text": [
            "type in a number:  10\n",
            "type in a number:  30\n",
            "type in a number:  20\n",
            "type in a number:  40\n",
            "type in a number:  50\n",
            "selected and sorted array is [10, 20, 30, 40, 50]\n",
            "select a number what you want to remove:  30\n",
            "the final array is [10, 20, 40, 50]\n"
          ]
        }
      ]
    },
    {
      "cell_type": "code",
      "source": [
        "# 094\n",
        "from array import *\n",
        "arr1 = array('i', [10,20,30,40,50])\n",
        "print(arr1)\n",
        "user_picked = int(input(\"select a number:  \"))\n",
        "while user_picked not in arr1 :\n",
        "  print(\"You picked number not in the array, please try again\")\n",
        "  user_picked = int(input(\"select a number:  \"))\n",
        "print(f\"You picked number located at position [{arr1.index(user_picked)+1}]\")"
      ],
      "metadata": {
        "colab": {
          "base_uri": "https://localhost:8080/"
        },
        "id": "x-OrCzeFuMuZ",
        "outputId": "9294ccb3-e148-4aa7-c087-974136ed7694"
      },
      "execution_count": 45,
      "outputs": [
        {
          "output_type": "stream",
          "name": "stdout",
          "text": [
            "array('i', [10, 20, 30, 40, 50])\n",
            "select a number:  9\n",
            "You picked number not in the array, please try again\n",
            "select a number:  30\n",
            "You picked number located at position [3]\n"
          ]
        }
      ]
    },
    {
      "cell_type": "code",
      "source": [
        "# 095\n",
        "from array import *\n",
        "arr1 = array('f',[10.11, 20.22, 30.33, 40.44, 50.55])\n",
        "user_pick = int(input(\"enter a whole number between 2 and 5:  \"))\n",
        "while user_pick < 2 or user_pick > 5 :\n",
        "  print(\"you entered number outside of range, please try again.\")\n",
        "  user_pick = int(input(\"enter a whole number between 2 and 5:  \"))\n",
        "for i in range(len(arr1)) :\n",
        "  div_result = arr1[i]/user_pick\n",
        "  print(round(div_result,2))"
      ],
      "metadata": {
        "colab": {
          "base_uri": "https://localhost:8080/"
        },
        "id": "RyRNLgk2xdAj",
        "outputId": "3b25b750-6cf7-4527-f424-5b34137b0d4d"
      },
      "execution_count": 48,
      "outputs": [
        {
          "output_type": "stream",
          "name": "stdout",
          "text": [
            "enter a whole number between 2 and 5:  6\n",
            "you entered number outside of range, please try again.\n",
            "enter a whole number between 2 and 5:  3\n",
            "3.37\n",
            "6.74\n",
            "10.11\n",
            "13.48\n",
            "16.85\n"
          ]
        }
      ]
    }
  ]
}