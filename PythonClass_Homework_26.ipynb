{
  "nbformat": 4,
  "nbformat_minor": 0,
  "metadata": {
    "colab": {
      "provenance": [],
      "authorship_tag": "ABX9TyMKe5WklqmBgNWvzmPjlt1+",
      "include_colab_link": true
    },
    "kernelspec": {
      "name": "python3",
      "display_name": "Python 3"
    },
    "language_info": {
      "name": "python"
    }
  },
  "cells": [
    {
      "cell_type": "markdown",
      "metadata": {
        "id": "view-in-github",
        "colab_type": "text"
      },
      "source": [
        "<a href=\"https://colab.research.google.com/github/Namjungpil/PythonClass/blob/main/PythonClass_Homework_26.ipynb\" target=\"_parent\"><img src=\"https://colab.research.google.com/assets/colab-badge.svg\" alt=\"Open In Colab\"/></a>"
      ]
    },
    {
      "cell_type": "code",
      "execution_count": null,
      "metadata": {
        "colab": {
          "base_uri": "https://localhost:8080/"
        },
        "id": "51bWD4QaAFGq",
        "outputId": "18f24207-ca46-4940-e6f2-d65238c82b2d"
      },
      "outputs": [
        {
          "output_type": "stream",
          "name": "stdout",
          "text": [
            "\n",
            "1) Make a code \n",
            "2) Decode a message \n",
            "3) Quit \n",
            "Enter your selection:   2\n",
            "enter message to decode in lower case:  weovugjohsslunl\n",
            "enter number to shift backward:  7\n",
            "pyhon chammfngf\n",
            "\n",
            "1) Make a code \n",
            "2) Decode a message \n",
            "3) Quit \n",
            "Enter your selection:   3\n",
            "Thank you !!\n"
          ]
        }
      ],
      "source": [
        "# The Challenge Nr. 001\n",
        "\n",
        "quit = False\n",
        "\n",
        "while quit == False :\n",
        "  print()\n",
        "  user_pick = int(input( \"1) Make a code \\n2) Decode a message \\n3) Quit \\nEnter your selection:   \"))\n",
        "  str = \"abcdefghijkmlnopqrstuvwxyz \"\n",
        "  decode = (\"\")\n",
        "\n",
        "  if user_pick == 1 :\n",
        "    message = input(\"enter message to encode in lower case:  \")\n",
        "    shift = int(input(\"enter number to shift forward:  \"))\n",
        "    for char in message :\n",
        "      a = str.index(char)\n",
        "      b = a + shift\n",
        "      while b > 26 :\n",
        "         b = b - 27\n",
        "      c = str[b]\n",
        "      decode += c\n",
        "    print(decode)\n",
        "    \n",
        "  elif user_pick == 2 :\n",
        "    message = input(\"enter message to decode in lower case:  \")\n",
        "    shift = int(input(\"enter number to shift backward:  \"))\n",
        "    for char in message :\n",
        "      a = str.index(char)\n",
        "      b = a - shift \n",
        "      while b < 0 :\n",
        "         b = b + 27\n",
        "      c = str[b]\n",
        "      decode += c\n",
        "    print(decode)\n",
        "  \n",
        "  elif user_pick == 3 :\n",
        "    quit = True\n",
        "    print(\"Thank you !!\")\n",
        "    \n",
        "  else :\n",
        "    print(\"select correct number in menu\")\n",
        "\n"
      ]
    }
  ]
}