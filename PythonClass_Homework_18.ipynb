{
  "nbformat": 4,
  "nbformat_minor": 0,
  "metadata": {
    "colab": {
      "provenance": [],
      "authorship_tag": "ABX9TyMffO+X0gifjrkek0YRRuK6",
      "include_colab_link": true
    },
    "kernelspec": {
      "name": "python3",
      "display_name": "Python 3"
    },
    "language_info": {
      "name": "python"
    }
  },
  "cells": [
    {
      "cell_type": "markdown",
      "metadata": {
        "id": "view-in-github",
        "colab_type": "text"
      },
      "source": [
        "<a href=\"https://colab.research.google.com/github/Namjungpil/PythonClass/blob/main/PythonClass_Homework_18.ipynb\" target=\"_parent\"><img src=\"https://colab.research.google.com/assets/colab-badge.svg\" alt=\"Open In Colab\"/></a>"
      ]
    },
    {
      "cell_type": "code",
      "execution_count": null,
      "metadata": {
        "colab": {
          "base_uri": "https://localhost:8080/"
        },
        "id": "SCeTXwlXSi5L",
        "outputId": "e5b174ea-aac6-4853-f146-814477229746"
      },
      "outputs": [
        {
          "output_type": "stream",
          "name": "stdout",
          "text": [
            "은행이름: SC은행, 계좌번호 : 740-42-293560 홍길동 10000\n"
          ]
        }
      ],
      "source": [
        "# 271\n",
        "class Account :\n",
        "  def __init__(self, name, ballance) :\n",
        "    import random\n",
        "    nr1 = random.randrange(100,1000)\n",
        "    nr2 = random.randrange(10,100)\n",
        "    nr3 = random.randrange(100000,1000000)\n",
        "    self.name = name\n",
        "    self.ballance = ballance\n",
        "    \n",
        "    print(\"은행이름: SC은행, 계좌번호 : {}-{}-{}\".format(nr1,nr2,nr3), self.name, self.ballance),\n",
        "\n",
        "손님1 = Account(\"홍길동\", 10000)"
      ]
    },
    {
      "cell_type": "code",
      "source": [
        "# 272\n",
        "class Account :\n",
        "  account_nrs = 0  \n",
        "  def __init__(self, name, ballance) :\n",
        "    import random\n",
        "    nr1 = random.randrange(100,1000)\n",
        "    nr2 = random.randrange(10,100)\n",
        "    nr3 = random.randrange(100000,1000000)\n",
        "    self.name = name\n",
        "    self.ballance = ballance\n",
        "  \n",
        "    Account.account_nrs += 1\n",
        "\n",
        "   \n",
        "    print(\"SC은행의 총 계좌수는 \",Account.account_nrs, \"개 입니다\")\n",
        "\n",
        "손님1 = Account(\"홍길동\", 10000)\n",
        "손님2 = Account(\"이몽룡\", 1000)\n",
        "손님3 = Account(\"성춘향\", 1000)   "
      ],
      "metadata": {
        "colab": {
          "base_uri": "https://localhost:8080/"
        },
        "id": "9Abdy2GlaZfc",
        "outputId": "5808d5e3-4d10-48bb-a234-3efd242e0a5a"
      },
      "execution_count": null,
      "outputs": [
        {
          "output_type": "stream",
          "name": "stdout",
          "text": [
            "SC은행의 총 계좌수는  1 개 입니다\n",
            "SC은행의 총 계좌수는  2 개 입니다\n",
            "SC은행의 총 계좌수는  3 개 입니다\n"
          ]
        }
      ]
    },
    {
      "cell_type": "code",
      "source": [
        "# 273\n",
        "class Account :\n",
        "  account_nrs = 0\n",
        "  def __init__(self, name, ballance) :\n",
        "    import random\n",
        "    nr1 = random.randrange(100,1000)\n",
        "    nr2 = random.randrange(10,100)\n",
        "    nr3 = random.randrange(100000,1000000)\n",
        "    self.name = name\n",
        "    self.ballance = ballance\n",
        "    Account.account_nrs += 1\n",
        "\n",
        "  def get_account_num(self) :\n",
        "    return Account.account_nrs \n",
        "\n",
        "손님1 = Account(\"홍길동\", 10000)\n",
        "손님2 = Account(\"이몽룡\", 1000)\n",
        "손님3 = Account(\"성춘향\", 1000)  \n",
        "\n",
        "Account.get_account_num(Account)\n"
      ],
      "metadata": {
        "colab": {
          "base_uri": "https://localhost:8080/"
        },
        "id": "cXv0zyXcjecX",
        "outputId": "a433e754-799c-4928-8357-14115f5c754a"
      },
      "execution_count": null,
      "outputs": [
        {
          "output_type": "execute_result",
          "data": {
            "text/plain": [
              "3"
            ]
          },
          "metadata": {},
          "execution_count": 25
        }
      ]
    },
    {
      "cell_type": "code",
      "source": [
        "# 274\n",
        "class Account :\n",
        "  account_nrs = 0\n",
        " \n",
        "  def __init__(self, name, ballance) :\n",
        "    import random\n",
        "    nr1 = random.randrange(100,1000)\n",
        "    nr2 = random.randrange(10,100)\n",
        "    nr3 = random.randrange(100000,1000000)\n",
        "    self.name = name\n",
        "    self.ballance = ballance\n",
        "    Account.account_nrs += 1\n",
        "   \n",
        "  def get_account_num(self) :\n",
        "    return Account.account_nrs \n",
        "\n",
        "  def deposit (self, added) : \n",
        "    if added > 0 :\n",
        "      self.added = added\n",
        "      self.ballance += self.added\n",
        "      return self.ballance\n",
        "    else :\n",
        "      print(\"입금은 최소 1원 이상만 가능합니다.\")  \n",
        "\n",
        "손님1 = Account(\"홍길동\", 10000)\n",
        "손님2 = Account(\"이몽룡\", 1000)\n",
        "손님3 = Account(\"성춘향\", 1000)  \n",
        "\n",
        "print(손님3.name, 손님3.ballance)\n",
        "\n",
        "손님3.deposit(500)\n",
        "print(손님3.name, 손님3.ballance)"
      ],
      "metadata": {
        "colab": {
          "base_uri": "https://localhost:8080/"
        },
        "id": "kB4Cuyjcm4yO",
        "outputId": "bbd24a81-bf6a-4a09-8248-88a8d070f6dc"
      },
      "execution_count": null,
      "outputs": [
        {
          "output_type": "stream",
          "name": "stdout",
          "text": [
            "성춘향 1000\n",
            "성춘향 1500\n"
          ]
        }
      ]
    },
    {
      "cell_type": "code",
      "source": [
        "# 275\n",
        "class Account :\n",
        "  account_nrs = 0\n",
        " \n",
        "  def __init__(self, name, ballance) :\n",
        "    import random\n",
        "    nr1 = random.randrange(100,1000)\n",
        "    nr2 = random.randrange(10,100)\n",
        "    nr3 = random.randrange(100000,1000000)\n",
        "    self.name = name\n",
        "    self.ballance = ballance\n",
        "    Account.account_nrs += 1\n",
        "   \n",
        "  def get_account_num(self) :\n",
        "    return Account.account_nrs \n",
        "\n",
        "  def deposit (self, add) : \n",
        "    if add > 0 :\n",
        "      self.add = add\n",
        "      self.ballance += self.add\n",
        "      return self.ballance\n",
        "\n",
        "  def withdraw (self, subtract) :\n",
        "    if subtract < self.ballance :\n",
        "      self.subtract = subtract\n",
        "      self.ballance -= self.subtract\n",
        "      return self.ballance\n",
        "    else : \n",
        "      print(self.name,\"님, 잔액 이상은 출금 할 수 없습니다\")\n",
        "\n",
        "손님1 = Account(\"홍길동\", 10000)\n",
        "손님2 = Account(\"이몽룡\", 1000)\n",
        "손님3 = Account(\"성춘향\", 1000)  \n",
        "\n",
        "손님3.deposit(500)\n",
        "print(손님3.name, 손님3.ballance)\n",
        "\n",
        "손님2.withdraw(1000)\n",
        "print(손님2.name, 손님2.ballance)"
      ],
      "metadata": {
        "colab": {
          "base_uri": "https://localhost:8080/"
        },
        "id": "vP3IqsMOptPc",
        "outputId": "ed105eb4-1887-4f7c-b53b-45b4f626edf0"
      },
      "execution_count": null,
      "outputs": [
        {
          "output_type": "stream",
          "name": "stdout",
          "text": [
            "성춘향 1500\n",
            "이몽룡 님, 잔액 이상은 출금 할 수 없습니다\n",
            "이몽룡 1000\n"
          ]
        }
      ]
    },
    {
      "cell_type": "code",
      "source": [
        "# 276\n",
        "class Account :\n",
        "  account_nrs = 0\n",
        " \n",
        "  def __init__(self, name, ballance) :\n",
        "    import random\n",
        "    nr1 = random.randrange(100,1000)\n",
        "    nr2 = random.randrange(10,100)\n",
        "    nr3 = random.randrange(100000,1000000)\n",
        "    self.name = name\n",
        "    self.ballance = ballance\n",
        "    Account.account_nrs += 1\n",
        "\n",
        "    global account_nr\n",
        "    account_nr = str(nr1) + \"-\" + str(nr2) + \"-\" + str(nr3)\n",
        "    self.account_nr = account_nr \n",
        "   \n",
        "  def get_account_num(self) :\n",
        "    return Account.account_nrs \n",
        "\n",
        "  def deposit (self, add) : \n",
        "    if add > 0 :\n",
        "      self.add = add\n",
        "      self.ballance += self.add\n",
        "      return self.ballance\n",
        "\n",
        "  def withdraw (self, subtract) :\n",
        "    if subtract < self.ballance :\n",
        "      self.subtract = subtract\n",
        "      self.ballance -= self.subtract\n",
        "      return self.ballance\n",
        "    else : \n",
        "      print(self.name,\"님, 잔액 이상은 출금 할 수 없습니다\")\n",
        "\n",
        "  def display_info(self) :\n",
        "    print(\"은행이름: SC은행\",\"예금주: \",self.name, \"계좌번호 :\",self.account_nr, \"잔고 :\",format(self.ballance,\",\"),\"원\" )\n",
        "\n",
        "손님4 = Account(\"파이썬\",10000) \n",
        "손님4.display_info()"
      ],
      "metadata": {
        "colab": {
          "base_uri": "https://localhost:8080/"
        },
        "id": "itbJXN1SpwTd",
        "outputId": "59fec798-6feb-44a3-971a-40227797c0ea"
      },
      "execution_count": null,
      "outputs": [
        {
          "output_type": "stream",
          "name": "stdout",
          "text": [
            "은행이름: SC은행 예금주:  파이썬 계좌번호 : 129-56-696440 잔고 : 10,000 원\n"
          ]
        }
      ]
    },
    {
      "cell_type": "code",
      "source": [
        "# 277   이자 지급하기 \n",
        "class Account1(Account) :\n",
        "  add_count = 1\n",
        "  def deposit (self, add) : \n",
        "    self.add = add\n",
        "    self.ballance += self.add\n",
        "    Account1.add_count += 1\n",
        "    \n",
        "    if Account1.add_count % 5 == 0 :\n",
        "      self.ballance = self.ballance * 1.01\n",
        "    print(Account1.add_count, self.ballance)\n",
        "\n",
        "손님1 = Account1(\"홍길동\", 10000)\n",
        "손님1.deposit(10000)\n",
        "손님1.deposit(10000)\n",
        "손님1.deposit(10000)\n",
        "손님1.deposit(10000)\n",
        "손님1.deposit(10000)\n",
        "손님1.deposit(10000)\n",
        "손님1.deposit(10000)\n",
        "손님1.deposit(10000)\n",
        "손님1.deposit(10000)\n",
        "손님1.deposit(10000)"
      ],
      "metadata": {
        "colab": {
          "base_uri": "https://localhost:8080/"
        },
        "id": "jvJv32AJpxi8",
        "outputId": "fbe40da2-d96f-4939-e63c-7a5bb4ac176d"
      },
      "execution_count": null,
      "outputs": [
        {
          "output_type": "stream",
          "name": "stdout",
          "text": [
            "2 20000\n",
            "3 30000\n",
            "4 40000\n",
            "5 50500.0\n",
            "6 60500.0\n",
            "7 70500.0\n",
            "8 80500.0\n",
            "9 90500.0\n",
            "10 101505.0\n",
            "11 111505.0\n"
          ]
        }
      ]
    },
    {
      "cell_type": "code",
      "source": [
        "# 278\n",
        "\n",
        "list = []\n",
        "\n",
        "손님1 = Account(\"홍길동\", 10000)\n",
        "손님2 = Account(\"이몽룡\", 1000)\n",
        "손님3 = Account(\"성춘향\", 1000) \n",
        "\n",
        "list.append(손님1)\n",
        "list.append(손님2)\n",
        "list.append(손님3)\n",
        "\n",
        "print(list)\n"
      ],
      "metadata": {
        "colab": {
          "base_uri": "https://localhost:8080/"
        },
        "id": "7DUrtinZpysX",
        "outputId": "00f8ed2f-0595-4f05-9f85-37deee33884c"
      },
      "execution_count": null,
      "outputs": [
        {
          "output_type": "stream",
          "name": "stdout",
          "text": [
            "[<__main__.Account object at 0x7fd429aff1d0>, <__main__.Account object at 0x7fd429affc50>, <__main__.Account object at 0x7fd429affe10>]\n"
          ]
        }
      ]
    },
    {
      "cell_type": "code",
      "source": [
        "# 279\n",
        "class Account2(Account) :\n",
        "  def __init__(self, name, ballance) :\n",
        "    self.name = name\n",
        "    self.ballance = ballance\n",
        " \n",
        "    list = []\n",
        "    list.append(self)\n",
        "    for i in list :\n",
        "      if i.ballance >= 1000000 :\n",
        "        print(i.name, i.ballance)\n",
        "\n",
        "손님1 = Account2(\"홍길동\", 2000000)\n",
        "손님2 = Account2(\"이몽룡\", 5000000)\n",
        "손님3 = Account2(\"성춘향\", 1000) \n",
        "손님4 = Account2(\"성춘향1\", 10000000) \n",
        "손님5 = Account2(\"성춘향2\", 1000) \n",
        "손님6 = Account2(\"성춘향3\", 1000000000) "
      ],
      "metadata": {
        "colab": {
          "base_uri": "https://localhost:8080/"
        },
        "id": "jdbQlapwpzoT",
        "outputId": "4c2b2a90-1b67-4ab8-e26a-acd014b5f2bb"
      },
      "execution_count": null,
      "outputs": [
        {
          "output_type": "stream",
          "name": "stdout",
          "text": [
            "홍길동 2000000\n",
            "이몽룡 5000000\n",
            "성춘향1 10000000\n",
            "성춘향3 1000000000\n"
          ]
        }
      ]
    },
    {
      "cell_type": "code",
      "source": [
        "# 280 입출금 내역      \n",
        "# 클래스 변수로 빈 리스트를 만들고 deposit 과 Withdraw 매써드에 매번 발생시 리스트에 요소 추가함.\n",
        "# "
      ],
      "metadata": {
        "id": "PoMZnrqup3l6"
      },
      "execution_count": null,
      "outputs": []
    },
    {
      "cell_type": "code",
      "source": [
        "# 281\n",
        "class 차:\n",
        "  def __init__ (self, 바퀴, 가격) :\n",
        "    self.바퀴 = 바퀴\n",
        "    self.가격 = 가격\n",
        "\n",
        "car = 차(2, 1000)\n",
        "car.바퀴\n"
      ],
      "metadata": {
        "colab": {
          "base_uri": "https://localhost:8080/"
        },
        "id": "uMoJWclnp4rb",
        "outputId": "b2b18331-7f75-4d03-d637-e92e33292723"
      },
      "execution_count": null,
      "outputs": [
        {
          "output_type": "execute_result",
          "data": {
            "text/plain": [
              "2"
            ]
          },
          "metadata": {},
          "execution_count": 117
        }
      ]
    },
    {
      "cell_type": "code",
      "source": [
        "# 282\n",
        "class 자전차(차) :\n",
        "  "
      ],
      "metadata": {
        "id": "IuWZYYJfp5q1"
      },
      "execution_count": null,
      "outputs": []
    },
    {
      "cell_type": "code",
      "source": [
        "# 283        # 질문 내용 : 클래스를 상속했을 때 상속받은 클래스의 생성자는 같이 상속되지 않는가? 생성자를 별도로 구성해 주어야 에러가 발생하지 않음\n",
        "class 차:\n",
        "  def __init__ (self, 바퀴, 가격) :\n",
        "    self.바퀴 = 바퀴\n",
        "    self.가격 = 가격\n",
        "\n",
        "class 자전거(차):\n",
        "  def __init__ (self, 바퀴, 가격) :\n",
        "    self.바퀴 = 바퀴\n",
        "    self.가격 = 가격\n",
        "\n",
        "bicycle = 자전거(2, 100)\n",
        "bicycle.가격"
      ],
      "metadata": {
        "colab": {
          "base_uri": "https://localhost:8080/"
        },
        "id": "kN-jigjndBb4",
        "outputId": "b923022d-0a43-4514-d0f7-e533631379d4"
      },
      "execution_count": 26,
      "outputs": [
        {
          "output_type": "execute_result",
          "data": {
            "text/plain": [
              "100"
            ]
          },
          "metadata": {},
          "execution_count": 26
        }
      ]
    },
    {
      "cell_type": "code",
      "source": [
        "# 284     \n",
        "class 차:\n",
        "  def __init__ (self, 바퀴, 가격, 구동계) :\n",
        "    self.바퀴 = 바퀴\n",
        "    self.가격 = 가격\n",
        "    self.구동계 = 구동계\n",
        "\n",
        "car = 차(4, 1000, \"엔진\")  \n",
        "car.구동계\n",
        "\n",
        "class 자전차(차):\n",
        "    def __init__ (self, 바퀴, 가격, 구동계) :\n",
        "      self.바퀴 = 바퀴\n",
        "      self.가격 = 가격\n",
        "      self.구동계 = 구동계\n",
        "\n",
        "bicycle = 자전차(2, 100, \"시마노\")\n",
        "bicycle.구동계\n"
      ],
      "metadata": {
        "colab": {
          "base_uri": "https://localhost:8080/",
          "height": 35
        },
        "id": "TGnpYYEfp7-V",
        "outputId": "9ce866c2-0699-47ef-84da-128ee0bf7936"
      },
      "execution_count": 8,
      "outputs": [
        {
          "output_type": "execute_result",
          "data": {
            "text/plain": [
              "'시마노'"
            ],
            "application/vnd.google.colaboratory.intrinsic+json": {
              "type": "string"
            }
          },
          "metadata": {},
          "execution_count": 8
        }
      ]
    },
    {
      "cell_type": "code",
      "source": [
        "# 285     \n",
        "class 차:\n",
        "  def __init__ (self, 바퀴, 가격) :\n",
        "    self.바퀴 = 바퀴\n",
        "    self.가격 = 가격\n",
        "  \n",
        "  def 정보(self) :\n",
        "    print(\"바퀴수 {} \\n가격 {}\".format(self.바퀴, self.가격))\n",
        "\n",
        "class 자동차(차) :\n",
        "  def __init__ (self, 바퀴, 가격) :\n",
        "    self.바퀴 = 바퀴\n",
        "    self.가격 = 가격\n",
        "\n",
        "car = 자동차(4, 1000)\n",
        "car.정보() "
      ],
      "metadata": {
        "colab": {
          "base_uri": "https://localhost:8080/"
        },
        "id": "GEYRb2pGp877",
        "outputId": "5c18a138-dd62-4bf3-f388-0102de75e801"
      },
      "execution_count": 10,
      "outputs": [
        {
          "output_type": "stream",
          "name": "stdout",
          "text": [
            "바퀴수 4 \n",
            "가격 1000\n"
          ]
        }
      ]
    },
    {
      "cell_type": "code",
      "source": [
        "# 286     # 283 과 동일문제, 왜 에러가 발생하는지 모르겠음\n",
        "class 차:\n",
        "  def __init__ (self, 바퀴, 가격, 구동계) :\n",
        "    self.바퀴 = 바퀴\n",
        "    self.가격 = 가격\n",
        "    self.구동계 = 구동계\n",
        "  \n",
        "  def 정보(self) :\n",
        "    print(\"바퀴수 {} \\n가격\".format(self.바퀴, self.가격))\n",
        "\n",
        "car = 차 (4, 1000, \"엔진\")\n",
        "car.정보()\n",
        "\n",
        "class 자전차 (차) :\n",
        "  def __init__ (self, 바퀴, 가격, 구동계) :\n",
        "    self.바퀴 = 바퀴\n",
        "    self.가격 = 가격\n",
        "    self.구동계 = 구동계\n",
        "\n",
        "bicycle = 자전차 (2, 100, \"시마노\")\n",
        "bicycle.정보()\n"
      ],
      "metadata": {
        "colab": {
          "base_uri": "https://localhost:8080/"
        },
        "id": "yOwjKiYgp96O",
        "outputId": "6fb9fd62-04f9-4f41-8757-43b74f3b8d81"
      },
      "execution_count": 16,
      "outputs": [
        {
          "output_type": "stream",
          "name": "stdout",
          "text": [
            "바퀴수 4 \n",
            "가격\n",
            "바퀴수 2 \n",
            "가격\n"
          ]
        }
      ]
    },
    {
      "cell_type": "code",
      "source": [
        "# 287        # 283 과 동일문제, 왜 에러가 발생하는지 모르겠음\n",
        "class 차:\n",
        "  def __init__ (self, 바퀴, 가격, 구동계) :\n",
        "    self.바퀴 = 바퀴\n",
        "    self.가격 = 가격\n",
        "    self.구동계 = 구동계\n",
        "  \n",
        "  def 정보(self) :\n",
        "    print(\"바퀴수 {} \\n가격 {} \\n구동계 {}\".format(self.바퀴, self.가격, self.구동계))\n",
        "\n",
        "car = 차 (4, 1000, \"엔진\")\n",
        "car.정보()\n",
        "\n",
        "class 자전차 (차) :\n",
        "  def __init__ (self, 바퀴, 가격, 구동계) :\n",
        "    self.바퀴 = 바퀴\n",
        "    self.가격 = 가격\n",
        "    self.구동계 = 구동계\n",
        "\n",
        "bicycle = 자전차 (2, 100, \"시마노\")\n",
        "bicycle.정보()"
      ],
      "metadata": {
        "colab": {
          "base_uri": "https://localhost:8080/"
        },
        "id": "4T8pQPIWp-7k",
        "outputId": "8ea326d8-2b75-4698-de8a-6c4ebfcbb28c"
      },
      "execution_count": 17,
      "outputs": [
        {
          "output_type": "stream",
          "name": "stdout",
          "text": [
            "바퀴수 4 \n",
            "가격 1000 \n",
            "구동계 엔진\n",
            "바퀴수 2 \n",
            "가격 100 \n",
            "구동계 시마노\n"
          ]
        }
      ]
    },
    {
      "cell_type": "code",
      "source": [
        "# 288\n",
        "class 부모:\n",
        "  def 호출(self):\n",
        "    print(\"부모호출\")\n",
        "\n",
        "class 자식(부모):\n",
        "  def 호출(self):\n",
        "    print(\"자식호출\")\n",
        "\n",
        "나 = 자식()\n",
        "나.호출()       # 매써드 오버라이딩으로 자식 클래스의 호출 매써드가 유효함, 자식호출 출력"
      ],
      "metadata": {
        "colab": {
          "base_uri": "https://localhost:8080/"
        },
        "id": "di0OPQXYqACf",
        "outputId": "a32491f7-11a6-4021-a0c5-4d49ab49f031"
      },
      "execution_count": 18,
      "outputs": [
        {
          "output_type": "stream",
          "name": "stdout",
          "text": [
            "자식호출\n"
          ]
        }
      ]
    },
    {
      "cell_type": "code",
      "source": [
        "# 289\n",
        "class 부모:\n",
        "  def __init__(self):\n",
        "    print(\"부모생성\")\n",
        "\n",
        "class 자식(부모):\n",
        "  def __init__(self):\n",
        "    print(\"자식생성\")\n",
        "\n",
        "나 = 자식()    # 자식 클래스의 생성자인 자식생성 출력"
      ],
      "metadata": {
        "colab": {
          "base_uri": "https://localhost:8080/"
        },
        "id": "uq5SmECBqBDq",
        "outputId": "f7e59726-2581-4525-d639-dd6698d479da"
      },
      "execution_count": 22,
      "outputs": [
        {
          "output_type": "stream",
          "name": "stdout",
          "text": [
            "자식생성\n"
          ]
        }
      ]
    },
    {
      "cell_type": "code",
      "source": [
        "# 290\n",
        "class 부모:\n",
        "  def __init__(self):\n",
        "    print(\"부모생성\")\n",
        "\n",
        "class 자식(부모):\n",
        "  def __init__(self):\n",
        "    print(\"자식생성\")\n",
        "    super().__init__()      # 이건 뭐지?\n",
        "\n",
        "나 = 자식()\n"
      ],
      "metadata": {
        "colab": {
          "base_uri": "https://localhost:8080/"
        },
        "id": "BK7_hH8iqCCj",
        "outputId": "c0291845-7dbb-4fda-f03f-ebd7b04a3813"
      },
      "execution_count": 23,
      "outputs": [
        {
          "output_type": "stream",
          "name": "stdout",
          "text": [
            "자식생성\n",
            "부모생성\n"
          ]
        }
      ]
    }
  ]
}