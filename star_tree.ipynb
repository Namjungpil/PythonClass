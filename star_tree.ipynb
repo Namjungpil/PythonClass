{
  "nbformat": 4,
  "nbformat_minor": 0,
  "metadata": {
    "colab": {
      "provenance": [],
      "authorship_tag": "ABX9TyPH1HWqv/hn0sbUUqiyJp8o",
      "include_colab_link": true
    },
    "kernelspec": {
      "name": "python3",
      "display_name": "Python 3"
    },
    "language_info": {
      "name": "python"
    }
  },
  "cells": [
    {
      "cell_type": "markdown",
      "metadata": {
        "id": "view-in-github",
        "colab_type": "text"
      },
      "source": [
        "<a href=\"https://colab.research.google.com/github/Namjungpil/PythonClass/blob/main/star_tree.ipynb\" target=\"_parent\"><img src=\"https://colab.research.google.com/assets/colab-badge.svg\" alt=\"Open In Colab\"/></a>"
      ]
    },
    {
      "cell_type": "code",
      "execution_count": 22,
      "metadata": {
        "colab": {
          "base_uri": "https://localhost:8080/"
        },
        "id": "OJbnUeGWCko_",
        "outputId": "860d9431-b7ac-4e38-9780-6bdc88d2801b"
      },
      "outputs": [
        {
          "output_type": "stream",
          "name": "stdout",
          "text": [
            "how many steps ?5\n",
            "    *     \n",
            "   ***    \n",
            "  *****   \n",
            " *******  \n",
            "********* \n"
          ]
        }
      ],
      "source": [
        "step = int(input(\"how many steps ?\"))\n",
        "\n",
        "for i in range(step*2) :\n",
        "  if i%2 == 0:\n",
        "    continue\n",
        "  print(str(\"*\"*i).center(step*2))\n",
        "\n",
        "\n"
      ]
    }
  ]
}