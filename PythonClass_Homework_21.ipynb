{
  "nbformat": 4,
  "nbformat_minor": 0,
  "metadata": {
    "colab": {
      "provenance": [],
      "authorship_tag": "ABX9TyNaI5aCQu/m34YDFzb+ssg0",
      "include_colab_link": true
    },
    "kernelspec": {
      "name": "python3",
      "display_name": "Python 3"
    },
    "language_info": {
      "name": "python"
    }
  },
  "cells": [
    {
      "cell_type": "markdown",
      "metadata": {
        "id": "view-in-github",
        "colab_type": "text"
      },
      "source": [
        "<a href=\"https://colab.research.google.com/github/Namjungpil/PythonClass/blob/main/PythonClass_Homework_21.ipynb\" target=\"_parent\"><img src=\"https://colab.research.google.com/assets/colab-badge.svg\" alt=\"Open In Colab\"/></a>"
      ]
    },
    {
      "cell_type": "code",
      "execution_count": 5,
      "metadata": {
        "colab": {
          "base_uri": "https://localhost:8080/"
        },
        "id": "61_S8EjrozY2",
        "outputId": "4eef0f5d-40d0-4859-896b-d7a383788602"
      },
      "outputs": [
        {
          "output_type": "stream",
          "name": "stdout",
          "text": [
            "37\n"
          ]
        }
      ],
      "source": [
        "# 052\n",
        "import random\n",
        "print(random.randint(1,100))"
      ]
    },
    {
      "cell_type": "code",
      "source": [
        "# 053\n",
        "import random\n",
        "fruits = [\"사과\", \"배\", \"바나나\", \"오렌지\", \"수박\"]\n",
        "print(random.choice(fruits))"
      ],
      "metadata": {
        "colab": {
          "base_uri": "https://localhost:8080/"
        },
        "id": "j5QnMH9WqKFU",
        "outputId": "692d269b-25b5-4872-c243-ee0971342792"
      },
      "execution_count": 6,
      "outputs": [
        {
          "output_type": "stream",
          "name": "stdout",
          "text": [
            "배\n"
          ]
        }
      ]
    },
    {
      "cell_type": "code",
      "source": [
        "# 054\n",
        "import random\n",
        "a = [\"h\", \"t\"]\n",
        "computer = random.choice(a)\n",
        "user = input(\"make choice 'heads[h]' or 'tails[t]', h/t  \")\n",
        "if computer == user :\n",
        "  print(\"You win\")\n",
        "else :\n",
        "  print(\"Bad luck\")\n",
        "\n",
        "if computer == \"h\" :\n",
        "  computer = \"heads\"\n",
        "else :\n",
        "  computer = \"tails\"\n",
        "print(f\"computer selected [{computer}]\")\n"
      ],
      "metadata": {
        "colab": {
          "base_uri": "https://localhost:8080/"
        },
        "id": "tyYQxeelqkxJ",
        "outputId": "89800977-ec03-4417-ec53-fd2ae9ecedcb"
      },
      "execution_count": 15,
      "outputs": [
        {
          "output_type": "stream",
          "name": "stdout",
          "text": [
            "make choice 'heads[h]' or 'tails[t]', h/t  h\n",
            "You win\n",
            "computer selected [heads]\n"
          ]
        }
      ]
    },
    {
      "cell_type": "code",
      "source": [
        "# 055\n",
        "import random\n",
        "a = int(random.randint(1,5))\n",
        "user_pick = int(input(\"pick a number  \"))\n",
        "if user_pick == a :\n",
        "  print(\"Well done\")\n",
        "  \n",
        "else :\n",
        "  if user_pick > a :\n",
        "    print(\"Too high\")\n",
        "  else : \n",
        "    print(\"Too low\")\n",
        "  user_pick = int(input(\"pick a number again  \"))\n",
        "  if user_pick == a :\n",
        "    print(\"Correct\")\n",
        "  else :\n",
        "    print(\"You lose\")\n",
        "\n",
        "print(f\"computer choose {a}\")\n"
      ],
      "metadata": {
        "colab": {
          "base_uri": "https://localhost:8080/"
        },
        "id": "wSWJRiqGtCxw",
        "outputId": "2faeab57-a1db-4e13-a047-79b06446acf4"
      },
      "execution_count": 17,
      "outputs": [
        {
          "output_type": "stream",
          "name": "stdout",
          "text": [
            "pick a number  2\n",
            "Too low\n",
            "pick a number again  3\n",
            "You lose\n",
            "computer choose 4\n"
          ]
        }
      ]
    },
    {
      "cell_type": "code",
      "source": [
        "# 056\n",
        "import random\n",
        "num = random.randint(1,10)\n",
        "user_pick = int(input(\"enter any number between 1 and 10  \"))\n",
        "while user_pick != num :\n",
        "  print(\"Not correct\")\n",
        "  user_pick = int(input(\"enter any number between 1 and 10  \"))\n",
        "print(f\"Correct, computer picked [{num}]\")"
      ],
      "metadata": {
        "colab": {
          "base_uri": "https://localhost:8080/"
        },
        "id": "D_JBmzACvvlQ",
        "outputId": "ebc7d3db-4dcb-4376-e633-2d21ea78433e"
      },
      "execution_count": 19,
      "outputs": [
        {
          "output_type": "stream",
          "name": "stdout",
          "text": [
            "enter any number between 1 and 10  3\n",
            "Not correct\n",
            "enter any number between 1 and 10  5\n",
            "Not correct\n",
            "enter any number between 1 and 10  7\n",
            "Not correct\n",
            "enter any number between 1 and 10  8\n",
            "Not correct\n",
            "enter any number between 1 and 10  9\n",
            "Not correct\n",
            "enter any number between 1 and 10  10\n",
            "Not correct\n",
            "enter any number between 1 and 10  1\n",
            "Not correct\n",
            "enter any number between 1 and 10  2\n",
            "Correct, computer picked [2]\n"
          ]
        }
      ]
    },
    {
      "cell_type": "code",
      "source": [
        "# 057\n",
        "import random\n",
        "num = random.randint(1,10)\n",
        "user_pick = int(input(\"enter any number between 1 and 10  \"))\n",
        "while user_pick != num :\n",
        "  if user_pick > num :\n",
        "    print(\"Too high\")\n",
        "  else :\n",
        "    print(\"Too low\")\n",
        "  user_pick = int(input(\"enter any number between 1 and 10  \"))\n",
        "print(f\"Correct, computer picked [{num}]\")"
      ],
      "metadata": {
        "colab": {
          "base_uri": "https://localhost:8080/"
        },
        "id": "87_JbK31w6u3",
        "outputId": "06a358bf-c792-4851-d679-4a36349d1946"
      },
      "execution_count": 20,
      "outputs": [
        {
          "output_type": "stream",
          "name": "stdout",
          "text": [
            "enter any number between 1 and 10  3\n",
            "Too low\n",
            "enter any number between 1 and 10  8\n",
            "Too high\n",
            "enter any number between 1 and 10  5\n",
            "Too low\n",
            "enter any number between 1 and 10  7\n",
            "Correct, computer picked [7]\n"
          ]
        }
      ]
    },
    {
      "cell_type": "code",
      "source": [
        "# 058\n",
        "import random\n",
        "\n",
        "score = 0\n",
        "for i in range(5) :\n",
        "  num1 = random.randint(1, 10)\n",
        "  num2 = random.randint(1, 10)\n",
        "  question = num1 + num2\n",
        "  answer = int(input(f\"type the answer of {num1} + {num2} = \"))\n",
        "  if answer == question :\n",
        "    score += 1\n",
        "\n",
        "print(f\"you got correct answer [{score}] times out of five questions\")\n"
      ],
      "metadata": {
        "colab": {
          "base_uri": "https://localhost:8080/"
        },
        "id": "QqPvVAcSxXzF",
        "outputId": "b8641279-b73d-42dd-fffb-1dfe83483d8c"
      },
      "execution_count": 23,
      "outputs": [
        {
          "output_type": "stream",
          "name": "stdout",
          "text": [
            "type the answer of 8 + 5 = 13\n",
            "type the answer of 3 + 8 = 10\n",
            "type the answer of 7 + 7 = 14\n",
            "type the answer of 2 + 7 = 10\n",
            "type the answer of 5 + 2 = 7\n",
            "you got correct answer [3] times out of five questions\n"
          ]
        }
      ]
    },
    {
      "cell_type": "code",
      "source": [
        "# 059\n",
        "colour = [\"White\", \"Black\", \"Red\", \"Blue\", \"Purple\"]\n",
        "print(colour)\n",
        "computer_pick = random.choice(colour)\n",
        "user_pick = input(\"What colour do you want to pick?  \")\n",
        "if user_pick == computer_pick :\n",
        "  pass\n",
        "else :\n",
        "  while computer_pick != user_pick :\n",
        "    print(f\"You are probably feeling {computer_pick} right now\")\n",
        "    user_pick = input(\"What colour do you want to pick?  \")\n",
        "print(\"Well done\")"
      ],
      "metadata": {
        "colab": {
          "base_uri": "https://localhost:8080/"
        },
        "id": "5HaT9lTrznoS",
        "outputId": "04f7c11e-f364-4a15-ce61-5ae3d4fcf5c0"
      },
      "execution_count": 30,
      "outputs": [
        {
          "output_type": "stream",
          "name": "stdout",
          "text": [
            "['White', 'Black', 'Red', 'Blue', 'Purple']\n",
            "What colour do you want to pick?  White\n",
            "You are probably feeling Purple right now\n",
            "What colour do you want to pick?  Blue\n",
            "You are probably feeling Purple right now\n",
            "What colour do you want to pick?  Purple\n",
            "Well done\n"
          ]
        }
      ]
    }
  ]
}