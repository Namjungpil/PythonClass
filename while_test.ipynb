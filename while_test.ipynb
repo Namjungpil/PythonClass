{
  "nbformat": 4,
  "nbformat_minor": 0,
  "metadata": {
    "colab": {
      "provenance": [],
      "authorship_tag": "ABX9TyOjm5uq4PjOCWgwsGfW/1LD",
      "include_colab_link": true
    },
    "kernelspec": {
      "name": "python3",
      "display_name": "Python 3"
    },
    "language_info": {
      "name": "python"
    }
  },
  "cells": [
    {
      "cell_type": "markdown",
      "metadata": {
        "id": "view-in-github",
        "colab_type": "text"
      },
      "source": [
        "<a href=\"https://colab.research.google.com/github/Namjungpil/PythonClass/blob/main/while_test.ipynb\" target=\"_parent\"><img src=\"https://colab.research.google.com/assets/colab-badge.svg\" alt=\"Open In Colab\"/></a>"
      ]
    },
    {
      "cell_type": "code",
      "execution_count": 5,
      "metadata": {
        "colab": {
          "base_uri": "https://localhost:8080/"
        },
        "id": "gYnj84P7s5eQ",
        "outputId": "d2dded8a-1388-429e-d2c1-37e175f4a70c"
      },
      "outputs": [
        {
          "output_type": "stream",
          "name": "stdout",
          "text": [
            "두자리 숫자를 입력하세요60\n",
            "60\n",
            "보다 큰 수를 다시 입력하세요\n",
            "70\n",
            "보다 큰 수를 다시 입력하세요\n",
            "80\n",
            "보다 큰 수를 다시 입력하세요\n",
            "90\n",
            "보다 작은 수를 다시 입력하세요\n",
            "85\n",
            "보다 큰 수를 다시 입력하세요\n",
            "89\n",
            "보다 작은 수를 다시 입력하세요\n",
            "87\n",
            "보다 큰 수를 다시 입력하세요\n",
            "88\n",
            "축하합니다! 8 번째 시도에 맞추었습니다 정답은 88 입니다\n"
          ]
        }
      ],
      "source": [
        "# 랜덤으로 난수 생성 (두자리 수)\n",
        "# 두자리 숫자를 입력받아 난수와 비교 후 같지 않으면 재입력을 요청\n",
        "# 난수와 같은 수가 입력되면 시도 횟수와 함께 \"축하합니다!\" 출력하고 종료\n",
        "\n",
        "import random\n",
        "num = random.randrange(1,100)\n",
        "\n",
        "number = 0\n",
        "trial = 1\n",
        "\n",
        "print(int(input(\"두자리 숫자를 입력하세요\")))\n",
        "\n",
        "while (number != num) :\n",
        "  trial += 1\n",
        "\n",
        "  if number > num :\n",
        "    print(\"보다 작은 수를 다시 입력하세요\")\n",
        "    number = int(input())\n",
        "\n",
        "  else :\n",
        "    print(\"보다 큰 수를 다시 입력하세요\")\n",
        "    number = int(input())\n",
        "\n",
        "print(\"축하합니다!\", trial,\"번째 시도에 맞추었습니다\", \"정답은\",num,\"입니다\")\n",
        "\n"
      ]
    }
  ]
}