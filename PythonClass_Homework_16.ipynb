{
  "nbformat": 4,
  "nbformat_minor": 0,
  "metadata": {
    "colab": {
      "provenance": [],
      "authorship_tag": "ABX9TyN0hrx/SmUg9bgMLlns2VC3",
      "include_colab_link": true
    },
    "kernelspec": {
      "name": "python3",
      "display_name": "Python 3"
    },
    "language_info": {
      "name": "python"
    }
  },
  "cells": [
    {
      "cell_type": "markdown",
      "metadata": {
        "id": "view-in-github",
        "colab_type": "text"
      },
      "source": [
        "<a href=\"https://colab.research.google.com/github/Namjungpil/PythonClass/blob/main/PythonClass_Homework_16.ipynb\" target=\"_parent\"><img src=\"https://colab.research.google.com/assets/colab-badge.svg\" alt=\"Open In Colab\"/></a>"
      ]
    },
    {
      "cell_type": "code",
      "execution_count": 42,
      "metadata": {
        "colab": {
          "base_uri": "https://localhost:8080/",
          "height": 209
        },
        "id": "m3hQMxvYsbd0",
        "outputId": "22fc676b-a1a9-4fbd-b305-c9b365045015"
      },
      "outputs": [
        {
          "output_type": "error",
          "ename": "NameError",
          "evalue": "ignored",
          "traceback": [
            "\u001b[0;31m---------------------------------------------------------------------------\u001b[0m",
            "\u001b[0;31mNameError\u001b[0m                                 Traceback (most recent call last)",
            "\u001b[0;32m<ipython-input-42-156434f7bf8d>\u001b[0m in \u001b[0;36m<module>\u001b[0;34m\u001b[0m\n\u001b[1;32m      4\u001b[0m \u001b[0;34m\u001b[0m\u001b[0m\n\u001b[1;32m      5\u001b[0m \u001b[0mn_plus_1\u001b[0m \u001b[0;34m(\u001b[0m\u001b[0;36m3\u001b[0m\u001b[0;34m)\u001b[0m\u001b[0;34m\u001b[0m\u001b[0;34m\u001b[0m\u001b[0m\n\u001b[0;32m----> 6\u001b[0;31m \u001b[0mprint\u001b[0m \u001b[0;34m(\u001b[0m\u001b[0mresult3\u001b[0m\u001b[0;34m)\u001b[0m        \u001b[0;31m# result 는 함수 n_plus_1 안에서 유효한 변수로 함수 밖에서는 유효하지 않다. 함수 내에서 전역변수로 정의해 주어야 한다.\u001b[0m\u001b[0;34m\u001b[0m\u001b[0;34m\u001b[0m\u001b[0m\n\u001b[0m",
            "\u001b[0;31mNameError\u001b[0m: name 'result3' is not defined"
          ]
        }
      ],
      "source": [
        "# 231-1\n",
        "def n_plus_1 (n) :\n",
        "    result3 = n + 1\n",
        "    \n",
        "n_plus_1 (3)\n",
        "print (result3)        # result3 는 함수 n_plus_1 안에서 유효한 변수로 함수 밖에서는 유효하지 않다. 함수 내에서 전역변수로 정의해 주어야 한다.\n"
      ]
    },
    {
      "cell_type": "code",
      "source": [
        "  # 231-2\n",
        "def n_plus_1 (n) :\n",
        "    global result2    # result 를 전역 변수로 정의함\n",
        "    result2 = n + 1\n",
        "    \n",
        "n_plus_1 (3)\n",
        "print (result2)        # result 는 함수 n_plus_1 안에서 유효한 변수로 함수 밖에서는 유효하지 않다. 함수 내에서 전역변수로 정의해 주어야 한다."
      ],
      "metadata": {
        "colab": {
          "base_uri": "https://localhost:8080/"
        },
        "id": "qZMWEDqQwzG4",
        "outputId": "be62568a-f071-4687-a9b2-e4c04f22c419"
      },
      "execution_count": 34,
      "outputs": [
        {
          "output_type": "stream",
          "name": "stdout",
          "text": [
            "4\n"
          ]
        }
      ]
    },
    {
      "cell_type": "code",
      "source": [
        "# 232\n",
        "def make_url (str) :\n",
        "    print(\"www.\"+str+\".com\")\n",
        "   \n",
        "\n",
        "make_url(\"naver\")\n"
      ],
      "metadata": {
        "colab": {
          "base_uri": "https://localhost:8080/"
        },
        "id": "BUOiSAF-xsk4",
        "outputId": "e5cd580b-21b0-4e18-d874-6434dbfad403"
      },
      "execution_count": 44,
      "outputs": [
        {
          "output_type": "stream",
          "name": "stdout",
          "text": [
            "www.naver.com\n"
          ]
        }
      ]
    },
    {
      "cell_type": "code",
      "source": [
        "# 233\n",
        "def make_list (str) :\n",
        "    return list(str)\n",
        "\n",
        "make_list (\"abcd\")"
      ],
      "metadata": {
        "colab": {
          "base_uri": "https://localhost:8080/"
        },
        "id": "LJFezoV8zVR5",
        "outputId": "132e9683-4764-4069-d924-cbeb01584839"
      },
      "execution_count": 43,
      "outputs": [
        {
          "output_type": "execute_result",
          "data": {
            "text/plain": [
              "['a', 'b', 'c', 'd']"
            ]
          },
          "metadata": {},
          "execution_count": 43
        }
      ]
    },
    {
      "cell_type": "code",
      "source": [
        "# 234\n",
        "def pickup_even (list) :\n",
        "    even_list = []\n",
        "    for i in list :\n",
        "      if i % 2 == 0 :\n",
        "        even_list.append(i)\n",
        "    print(even_list)\n",
        "\n",
        "pickup_even ([3,4,5,6,7,8])\n",
        "    \n"
      ],
      "metadata": {
        "colab": {
          "base_uri": "https://localhost:8080/"
        },
        "id": "DQAMLgCr0M2j",
        "outputId": "36e10ee3-b393-48e7-900e-6a74bd8c9e74"
      },
      "execution_count": 49,
      "outputs": [
        {
          "output_type": "stream",
          "name": "stdout",
          "text": [
            "[4, 6, 8]\n"
          ]
        }
      ]
    },
    {
      "cell_type": "code",
      "source": [
        "# 235\n",
        "def convert_int(str) :\n",
        "    str = int(str.replace(\",\", \"\"))\n",
        "    print(type(str)) ; print(str)\n",
        "\n",
        "convert_int(\"1,234,567\")"
      ],
      "metadata": {
        "colab": {
          "base_uri": "https://localhost:8080/"
        },
        "id": "t4GQ1iS97eWK",
        "outputId": "fa35ce8a-fa4e-4b4c-a016-d0946df0c2c6"
      },
      "execution_count": 58,
      "outputs": [
        {
          "output_type": "stream",
          "name": "stdout",
          "text": [
            "<class 'int'>\n",
            "1234567\n"
          ]
        }
      ]
    },
    {
      "cell_type": "code",
      "source": [
        "# 236\n",
        "def 함수(num) :\n",
        "    return num + 4\n",
        "\n",
        "a = 함수(10)      # a 는 함수(10)의 결과값인 14\n",
        "b = 함수(a)       # b 는 함수(14)의 결과값인 18\n",
        "c = 함수(b)       # c 는 함수(18)의 결과값인 22\n",
        "print(c)"
      ],
      "metadata": {
        "colab": {
          "base_uri": "https://localhost:8080/"
        },
        "id": "RAvI2kOI-zUG",
        "outputId": "61b0afd3-d091-4558-971e-af197c381afb"
      },
      "execution_count": 59,
      "outputs": [
        {
          "output_type": "stream",
          "name": "stdout",
          "text": [
            "22\n"
          ]
        }
      ]
    },
    {
      "cell_type": "code",
      "source": [
        "# 237\n",
        "def 함수(num) :\n",
        "    return num + 4\n",
        "\n",
        "c = 함수(함수(함수(10)))      #236 의 과정과 결과가 동일함\n",
        "print(c)"
      ],
      "metadata": {
        "colab": {
          "base_uri": "https://localhost:8080/"
        },
        "id": "C3UUs2_y_oWp",
        "outputId": "686f2e17-00c6-4111-ac59-3a0708acf0da"
      },
      "execution_count": 60,
      "outputs": [
        {
          "output_type": "stream",
          "name": "stdout",
          "text": [
            "22\n"
          ]
        }
      ]
    },
    {
      "cell_type": "code",
      "source": [
        "# 238\n",
        "def 함수1(num) :\n",
        "    return num + 4\n",
        "\n",
        "def 함수2(num) :\n",
        "    return num * 10\n",
        "\n",
        "a = 함수1(10)         # 10 + 4 의 결과값인 14\n",
        "c = 함수2(a)          # 14 * 10 의 결과갑인 140\n",
        "print(c)              # print(140) 즉 140 을 출력함"
      ],
      "metadata": {
        "colab": {
          "base_uri": "https://localhost:8080/"
        },
        "id": "O47AECe3BP0l",
        "outputId": "99a050ac-9c04-4ef3-940d-978daf0a5dab"
      },
      "execution_count": 61,
      "outputs": [
        {
          "output_type": "stream",
          "name": "stdout",
          "text": [
            "140\n"
          ]
        }
      ]
    },
    {
      "cell_type": "code",
      "source": [
        "# 239\n",
        "def 함수1(num) :\n",
        "    return num + 4\n",
        "\n",
        "def 함수2(num) :\n",
        "    num = num + 2\n",
        "    return 함수1(num)\n",
        "\n",
        "c = 함수2(10)                # 함수1(12) 의 결과값인 16을 반환함\n",
        "print(c)\n"
      ],
      "metadata": {
        "colab": {
          "base_uri": "https://localhost:8080/"
        },
        "id": "UsWVc_IyBrN2",
        "outputId": "939d940d-3868-4b00-d262-dd1b32653b93"
      },
      "execution_count": 63,
      "outputs": [
        {
          "output_type": "stream",
          "name": "stdout",
          "text": [
            "16\n"
          ]
        }
      ]
    },
    {
      "cell_type": "code",
      "source": [
        "# 240\n",
        "def 함수0(num) :\n",
        "    return num * 2\n",
        "\n",
        "def 함수1(num) :\n",
        "    return 함수0(num + 2)\n",
        "\n",
        "def 함수2(num) :\n",
        "    num = num + 10\n",
        "    return 함수1(num)\n",
        "\n",
        "c = 함수2(2)            # 함수2(2)를 수행(2+10)하여 결과값으로 num = 12 를 반환하여 함수1(12)를 수행(12+2), 그 결과값인 14를 반환하여 함수0(14)를 수행(14*2)하여  그 결과값으로 28 을 반환함\n",
        "print(c)                # print(28)"
      ],
      "metadata": {
        "colab": {
          "base_uri": "https://localhost:8080/"
        },
        "id": "rizGp7sADJgb",
        "outputId": "2b086aa3-9a56-4722-dd92-a20fc23c676d"
      },
      "execution_count": 64,
      "outputs": [
        {
          "output_type": "stream",
          "name": "stdout",
          "text": [
            "28\n"
          ]
        }
      ]
    },
    {
      "cell_type": "code",
      "source": [
        "# 241\n",
        "from datetime import datetime\n",
        "current_time = datetime.now()\n",
        "print(current_time.hour,\"시\", current_time.minute,\"분\",current_time.minute,\"초\" )\n"
      ],
      "metadata": {
        "colab": {
          "base_uri": "https://localhost:8080/"
        },
        "id": "7wrRo9_ZcA1S",
        "outputId": "b9fa7782-fb76-47c2-9225-4d469a12ad32"
      },
      "execution_count": 9,
      "outputs": [
        {
          "output_type": "stream",
          "name": "stdout",
          "text": [
            "4 시 27 분 27 초\n"
          ]
        }
      ]
    },
    {
      "cell_type": "code",
      "source": [
        "# 242\n",
        "from datetime import datetime\n",
        "current_time = datetime.now()\n",
        "print(type(current_time))\n",
        "\n"
      ],
      "metadata": {
        "colab": {
          "base_uri": "https://localhost:8080/"
        },
        "id": "1EhJdoihEiPV",
        "outputId": "9fbddc9b-386e-482c-c9df-2cc09ec81a35"
      },
      "execution_count": 5,
      "outputs": [
        {
          "output_type": "stream",
          "name": "stdout",
          "text": [
            "<class 'datetime.datetime'>\n"
          ]
        }
      ]
    },
    {
      "cell_type": "code",
      "source": [
        "# 243\n",
        "from datetime import datetime\n",
        "from datetime import timedelta\n",
        "\n",
        "x = datetime.now()\n",
        "# x5 = x - timedelta(5)\n",
        "\n",
        "print(\"오늘 날짜\", x.year, \"-\", x.month, \"-\", x.day )\n",
        "#print(\"5일 전 날짜 \", x5.year,\"-\", x5.month,\"-\", x5.day)\n",
        "for i in range(5,0,-1):\n",
        "    xi = x - timedelta(i)\n",
        "    print(i,\"일 전 날짜 \", xi.year,\"-\", xi.month,\"-\", xi.day)\n",
        "\n",
        "\n"
      ],
      "metadata": {
        "colab": {
          "base_uri": "https://localhost:8080/"
        },
        "id": "nsJf0N0kd_3O",
        "outputId": "53bd6899-5fa2-42ad-9eed-8e105c94cf9d"
      },
      "execution_count": 20,
      "outputs": [
        {
          "output_type": "stream",
          "name": "stdout",
          "text": [
            "오늘 날짜 2022 - 11 - 28\n",
            "5 일 전 날짜  2022 - 11 - 23\n",
            "4 일 전 날짜  2022 - 11 - 24\n",
            "3 일 전 날짜  2022 - 11 - 25\n",
            "2 일 전 날짜  2022 - 11 - 26\n",
            "1 일 전 날짜  2022 - 11 - 27\n"
          ]
        }
      ]
    },
    {
      "cell_type": "code",
      "source": [
        "# 244\n",
        "from datetime import datetime\n",
        "now = datetime.now()\n",
        "\n",
        "time = now.strftime(\"%H : %M : %S\")\n",
        "print(time)\n"
      ],
      "metadata": {
        "colab": {
          "base_uri": "https://localhost:8080/"
        },
        "id": "1K7EPjdwnn5G",
        "outputId": "0d1b0425-a33c-4781-d235-217133272aa4"
      },
      "execution_count": 21,
      "outputs": [
        {
          "output_type": "stream",
          "name": "stdout",
          "text": [
            "05 : 08 : 16\n"
          ]
        }
      ]
    },
    {
      "cell_type": "code",
      "source": [
        "# 245\n",
        "# datetime.datetime.strptime 메서드를 사용하면 문자열 형식의 시간을 datetime.datetime 타입의 시간 값으로 만들어줍니다. \"2020-05-04\"의 문자열을 시간 타입으로 변환해보세요.  \n",
        "# 문제가 이해되지 않음.\n",
        "\n",
        "from datetime import datetime\n",
        "str = \"2020-05-04\"\n",
        "print(str,\"  \", end=\"\") ; print(type(str))\n",
        "\n",
        "time_type = datetime.strptime(str,\"%Y-%m-%d\")\n",
        "print(time_type,\"  \",end=\"\"); print(type(time_type))\n",
        "\n"
      ],
      "metadata": {
        "colab": {
          "base_uri": "https://localhost:8080/"
        },
        "id": "H0zd4d4Bo-8s",
        "outputId": "42086b20-4280-4679-d607-31f0f2b2cfc1"
      },
      "execution_count": 28,
      "outputs": [
        {
          "output_type": "stream",
          "name": "stdout",
          "text": [
            "2020-05-04   <class 'str'>\n",
            "2020-05-04 00:00:00   <class 'datetime.datetime'>\n"
          ]
        }
      ]
    },
    {
      "cell_type": "code",
      "source": [
        "#246\n",
        "import time\n",
        "\n",
        "while True:\n",
        "  localtime = time.localtime()\n",
        "  result = time.strftime(\"%I : %M : %S %p\", localtime)\n",
        "  print(result)\n",
        "  time.sleep(1)"
      ],
      "metadata": {
        "colab": {
          "base_uri": "https://localhost:8080/",
          "height": 336
        },
        "id": "yxfehbsxsc-l",
        "outputId": "f6587741-2bea-48d2-af38-52fcd17ebb3f"
      },
      "execution_count": 38,
      "outputs": [
        {
          "output_type": "stream",
          "name": "stdout",
          "text": [
            "05 : 34 : 28 AM\n",
            "05 : 34 : 29 AM\n",
            "05 : 34 : 30 AM\n",
            "05 : 34 : 31 AM\n",
            "05 : 34 : 32 AM\n",
            "05 : 34 : 33 AM\n",
            "05 : 34 : 34 AM\n"
          ]
        },
        {
          "output_type": "error",
          "ename": "KeyboardInterrupt",
          "evalue": "ignored",
          "traceback": [
            "\u001b[0;31m---------------------------------------------------------------------------\u001b[0m",
            "\u001b[0;31mKeyboardInterrupt\u001b[0m                         Traceback (most recent call last)",
            "\u001b[0;32m<ipython-input-38-d0466339c321>\u001b[0m in \u001b[0;36m<module>\u001b[0;34m\u001b[0m\n\u001b[1;32m      6\u001b[0m   \u001b[0mresult\u001b[0m \u001b[0;34m=\u001b[0m \u001b[0mtime\u001b[0m\u001b[0;34m.\u001b[0m\u001b[0mstrftime\u001b[0m\u001b[0;34m(\u001b[0m\u001b[0;34m\"%I : %M : %S %p\"\u001b[0m\u001b[0;34m,\u001b[0m \u001b[0mlocaltime\u001b[0m\u001b[0;34m)\u001b[0m\u001b[0;34m\u001b[0m\u001b[0;34m\u001b[0m\u001b[0m\n\u001b[1;32m      7\u001b[0m   \u001b[0mprint\u001b[0m\u001b[0;34m(\u001b[0m\u001b[0mresult\u001b[0m\u001b[0;34m)\u001b[0m\u001b[0;34m\u001b[0m\u001b[0;34m\u001b[0m\u001b[0m\n\u001b[0;32m----> 8\u001b[0;31m   \u001b[0mtime\u001b[0m\u001b[0;34m.\u001b[0m\u001b[0msleep\u001b[0m\u001b[0;34m(\u001b[0m\u001b[0;36m1\u001b[0m\u001b[0;34m)\u001b[0m\u001b[0;34m\u001b[0m\u001b[0;34m\u001b[0m\u001b[0m\n\u001b[0m",
            "\u001b[0;31mKeyboardInterrupt\u001b[0m: "
          ]
        }
      ]
    },
    {
      "cell_type": "code",
      "source": [
        "# 247\n",
        "\n",
        "# 모듈을 임포트하는 방식 4 가지 설명\n"
      ],
      "metadata": {
        "id": "qncw2iIMu1Fe"
      },
      "execution_count": null,
      "outputs": []
    },
    {
      "cell_type": "code",
      "source": [
        "# 248\n",
        "import os\n",
        "print(\"os.getcwd() = {0}\".format(os.getcwd()))\n"
      ],
      "metadata": {
        "colab": {
          "base_uri": "https://localhost:8080/"
        },
        "id": "0WViexxnvAHd",
        "outputId": "f761c6ef-31c8-4959-e042-9cda193115d4"
      },
      "execution_count": 39,
      "outputs": [
        {
          "output_type": "stream",
          "name": "stdout",
          "text": [
            "os.getcwd() = /content\n"
          ]
        }
      ]
    },
    {
      "cell_type": "code",
      "source": [
        "# 249\n",
        "import os\n",
        "file_old = os.path.join(\"C:\\Users\\ZF\\Desktop,\"python_test.txt\")\n",
        "file_new = os.path.join(\"C:\\Users\\ZF\\Desktop,\"python_test_rename.txt\")\n",
        "\n",
        "os.rename(file_old, file_new)\n"
      ],
      "metadata": {
        "colab": {
          "base_uri": "https://localhost:8080/",
          "height": 136
        },
        "id": "mU-gKa5yv5M8",
        "outputId": "bafdc338-968f-407c-acbd-f7069bb9a369"
      },
      "execution_count": 40,
      "outputs": [
        {
          "output_type": "error",
          "ename": "SyntaxError",
          "evalue": "ignored",
          "traceback": [
            "\u001b[0;36m  File \u001b[0;32m\"<ipython-input-40-0f766cfc8c54>\"\u001b[0;36m, line \u001b[0;32m3\u001b[0m\n\u001b[0;31m    file_old = os.path.join(\"C:\\Users\\ZF\\Desktop,\"python_test.txt\")\u001b[0m\n\u001b[0m                                                            ^\u001b[0m\n\u001b[0;31mSyntaxError\u001b[0m\u001b[0;31m:\u001b[0m invalid syntax\n"
          ]
        }
      ]
    },
    {
      "cell_type": "code",
      "source": [
        "# 250\n",
        "import numpy\n",
        "numpy.arange(0.0, 5.1, 0.1)\n"
      ],
      "metadata": {
        "colab": {
          "base_uri": "https://localhost:8080/"
        },
        "id": "Qn6TRmwHyp6n",
        "outputId": "99112361-a6eb-4623-b2e6-506902ac63dc"
      },
      "execution_count": 46,
      "outputs": [
        {
          "output_type": "execute_result",
          "data": {
            "text/plain": [
              "array([0. , 0.1, 0.2, 0.3, 0.4, 0.5, 0.6, 0.7, 0.8, 0.9, 1. , 1.1, 1.2,\n",
              "       1.3, 1.4, 1.5, 1.6, 1.7, 1.8, 1.9, 2. , 2.1, 2.2, 2.3, 2.4, 2.5,\n",
              "       2.6, 2.7, 2.8, 2.9, 3. , 3.1, 3.2, 3.3, 3.4, 3.5, 3.6, 3.7, 3.8,\n",
              "       3.9, 4. , 4.1, 4.2, 4.3, 4.4, 4.5, 4.6, 4.7, 4.8, 4.9, 5. ])"
            ]
          },
          "metadata": {},
          "execution_count": 46
        }
      ]
    }
  ]
}