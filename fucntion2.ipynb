{
 "cells": [
  {
   "cell_type": "code",
   "execution_count": 1,
   "metadata": {},
   "outputs": [
    {
     "name": "stdout",
     "output_type": "stream",
     "text": [
      "hello World !!!\n"
     ]
    }
   ],
   "source": [
    "print(\"hello World !!!\")"
   ]
  },
  {
   "cell_type": "code",
   "execution_count": null,
   "metadata": {},
   "outputs": [],
   "source": [
    "# 함수의 4가지 형태\n",
    "\n",
    "# 1  input 과 output 모두 있는 형태 (가장 많이 사용되는 형태)\n",
    "# 2  input 과 output 모두 없는 형태\n",
    "# 3  input 만 있는 형태\n",
    "# 4  output 만 있는 형태"
   ]
  },
  {
   "cell_type": "code",
   "execution_count": 2,
   "metadata": {},
   "outputs": [
    {
     "name": "stdout",
     "output_type": "stream",
     "text": [
      "5\n"
     ]
    }
   ],
   "source": [
    "# 1  input 과 output 모두 있는 형태 (가장 많이 사용되는 형태)\n",
    "\n",
    "def add(a, b) :     # input 이 a 와 b\n",
    "    return a+b      # output 이 a+b 의 결과,  return 이라는 키워드가 있으면 output 이 존재한다.\n",
    "\n",
    "print(add(1, 4))    # # 함수의 결과 출력\n"
   ]
  },
  {
   "cell_type": "code",
   "execution_count": 7,
   "metadata": {},
   "outputs": [
    {
     "name": "stdout",
     "output_type": "stream",
     "text": [
      "hello\n"
     ]
    }
   ],
   "source": [
    "# 2  input 과 output 모두 없는 형태\n",
    "\n",
    "def say() :          # input 없음\n",
    "    print(\"hello\")   # return 이 없으므로 output 없음\n",
    "\n",
    "say()     # 함수의 결과가 아니지만 출력은 함\n",
    "\n"
   ]
  },
  {
   "cell_type": "code",
   "execution_count": 9,
   "metadata": {},
   "outputs": [
    {
     "name": "stdout",
     "output_type": "stream",
     "text": [
      "홍길동 님 환영합니다.\n"
     ]
    }
   ],
   "source": [
    "# 3  input 만 있는 형태\n",
    "\n",
    "def inputonly(name) :\n",
    "    print(name, \"님 환영합니다.\")    # return 이 없으므로 output 없음\n",
    "\n",
    "inputonly(\"홍길동\")     # 함수의 결과가 아니지만 출력은 함"
   ]
  },
  {
   "cell_type": "code",
   "execution_count": 10,
   "metadata": {},
   "outputs": [
    {
     "data": {
      "text/plain": [
       "'Hello World'"
      ]
     },
     "execution_count": 10,
     "metadata": {},
     "output_type": "execute_result"
    }
   ],
   "source": [
    "# 4  output 만 있는 형태\n",
    "\n",
    "def outputonly() :\n",
    "    return \"Hello World\"\n",
    "\n",
    "outputonly()           # 함수의 결과가 아니지만 출력은 함\n"
   ]
  },
  {
   "cell_type": "code",
   "execution_count": 12,
   "metadata": {},
   "outputs": [
    {
     "name": "stdout",
     "output_type": "stream",
     "text": [
      "3\n",
      "6\n"
     ]
    }
   ],
   "source": [
    "def sumfunction1(a, b) :\n",
    "    return a+b\n",
    "\n",
    "print(sumfunction1(1, 2))\n",
    "\n",
    "def sumfunction2(a, b, c) :\n",
    "    return a+b+c\n",
    "\n",
    "print(sumfunction2(1, 2, 3))   \n"
   ]
  },
  {
   "cell_type": "code",
   "execution_count": 15,
   "metadata": {},
   "outputs": [
    {
     "name": "stdout",
     "output_type": "stream",
     "text": [
      "3\n",
      "6\n"
     ]
    }
   ],
   "source": [
    "# 함수의 인수의 갯수가 일정하지 않을 경우 처리하는 특징\n",
    "\n",
    "def sumfunction(*args) :\n",
    "    result = 0\n",
    "    for i in args :\n",
    "        result += i\n",
    "    return result\n",
    "\n",
    "print(sumfunction(1, 2))\n",
    "print(sumfunction(1, 2,3))\n"
   ]
  },
  {
   "cell_type": "code",
   "execution_count": 22,
   "metadata": {},
   "outputs": [
    {
     "name": "stdout",
     "output_type": "stream",
     "text": [
      "(5, 6)\n",
      "5\n",
      "6\n"
     ]
    }
   ],
   "source": [
    "# 함수의 결과 값은 언제나 '하나'라는 특징\n",
    "\n",
    "def add_mul(a, b) :\n",
    "    return a + b, a * b\n",
    "    # return a + b\n",
    "    # return a * b\n",
    "print(add_mul(2,3))\n",
    "\n",
    "res1, res2 = add_mul(2,3)\n",
    "print(res1)\n",
    "print(res2)\n",
    "\n"
   ]
  },
  {
   "cell_type": "code",
   "execution_count": 23,
   "metadata": {},
   "outputs": [
    {
     "name": "stdout",
     "output_type": "stream",
     "text": [
      "5\n",
      "5\n"
     ]
    }
   ],
   "source": [
    "def add_mul(a, b) :\n",
    "    return a + b\n",
    "    return a * b     # 곱하기는 수행하지 않는다. 먼저 있는 return 을 만나면 함수를 나간다.\n",
    "print(add_mul(2,3))\n",
    "\n",
    "res = add_mul(2,3)\n",
    "print(res)\n",
    "\n"
   ]
  },
  {
   "cell_type": "code",
   "execution_count": 32,
   "metadata": {},
   "outputs": [
    {
     "name": "stdout",
     "output_type": "stream",
     "text": [
      "Hello nick\n",
      "Hello jane\n"
     ]
    }
   ],
   "source": [
    "# retrun 의 마지막 특징\n",
    "\n",
    "def sayhello(name) :\n",
    "    if name == \"austin\":\n",
    "        return              # 반복문(if, for, while) 에서의 break 와 같이 함수에서 return 은 함수를 빠져나가는 기능\n",
    "    print(\"Hello\", name)\n",
    "\n",
    "sayhello(\"nick\")\n",
    "sayhello(\"austin\")\n",
    "sayhello(\"jane\")\n",
    "\n"
   ]
  },
  {
   "cell_type": "code",
   "execution_count": 34,
   "metadata": {},
   "outputs": [
    {
     "name": "stdout",
     "output_type": "stream",
     "text": [
      "내 이름은  홍길동 이고 나이는 21 이며\n",
      "남성입니다\n",
      "내 이름은  이몽룡 이고 나이는 14 이며\n",
      "남성입니다\n",
      "내 이름은  성춘향 이고 나이는 13 이며\n",
      "여성입니다\n"
     ]
    }
   ],
   "source": [
    "# 매개변수에 미리 초기값을 설정하는 특징\n",
    "\n",
    "def sayname(name, age, man = True) :\n",
    "    print (\"내 이름은 \", name, \"이고 나이는\", age, \"이며\")\n",
    "    if man :\n",
    "        print(\"남성입니다\")\n",
    "    else :\n",
    "        print(\"여성입니다\")\n",
    "\n",
    "sayname(\"홍길동\", 21)\n",
    "sayname(\"이몽룡\", 14, True)\n",
    "sayname(\"성춘향\", 13, False)\n"
   ]
  },
  {
   "cell_type": "code",
   "execution_count": 47,
   "metadata": {},
   "outputs": [
    {
     "name": "stdout",
     "output_type": "stream",
     "text": [
      "나의 이름은 홍길동이고 나이는 18살 입니다\n"
     ]
    }
   ],
   "source": [
    "# f스트링 으로 출력 정리\n",
    "\n",
    "name = \"홍길동\"\n",
    "age = 18\n",
    "\n",
    "print(f\"나의 이름은 {name}이고 나이는 {age}살 입니다\")\n",
    "\n",
    "# print(\"나의 이름은 %s 이고 나이는 %n 입니다.\", %(name), %(age))    -->  다시 확인할 것 (Invalid Syntax 에러 발생됨)\n",
    "\n"
   ]
  },
  {
   "cell_type": "code",
   "execution_count": 62,
   "metadata": {},
   "outputs": [
    {
     "name": "stdout",
     "output_type": "stream",
     "text": [
      "2\n",
      "1\n"
     ]
    }
   ],
   "source": [
    "# 함수 안에서의 변수 영향 범위  -  전역변수/지역변수(global/local variables)\n",
    "\n",
    "a = 1\n",
    "def variable_exam(b) :\n",
    "    b += 1              # 함수 안에서의 변수 값은 함수 밖에는 전혀 영향을 미치지 않는다.\n",
    "    return b\n",
    "\n",
    "print(variable_exam(a)) # 함수의 결과값 반환\n",
    "print(a)                # 함수의 결과값이 아닌 a 초기값을 반환\n"
   ]
  },
  {
   "cell_type": "code",
   "execution_count": 61,
   "metadata": {},
   "outputs": [
    {
     "name": "stdout",
     "output_type": "stream",
     "text": [
      "2\n"
     ]
    }
   ],
   "source": [
    "# global 변수 (전역 변수)  : 추천하는 방법은 아님\n",
    "\n",
    "a = 1\n",
    "def variable_exam() :\n",
    "    global a               # 함수 안에서 변수를 선언하면 해당 변수는 전역 변수가 되어 함수 밖에도 영향을 미친다.\n",
    "    a += 1\n",
    "    \n",
    "variable_exam()   \n",
    "print(a)"
   ]
  },
  {
   "cell_type": "code",
   "execution_count": 65,
   "metadata": {},
   "outputs": [
    {
     "name": "stdout",
     "output_type": "stream",
     "text": [
      "홀수 입니다\n",
      "짝수 입니다\n"
     ]
    }
   ],
   "source": [
    "# 연습문제 1\n",
    "\n",
    "def isodd(num) :\n",
    "    if num%2 == 0 :\n",
    "        return \"짝수\"\n",
    "    else :\n",
    "        return \"홀수\"\n",
    "\n",
    "print(isodd(3),\"입니다\")\n",
    "print(isodd(4),\"입니다\")"
   ]
  },
  {
   "cell_type": "code",
   "execution_count": 64,
   "metadata": {},
   "outputs": [
    {
     "name": "stdout",
     "output_type": "stream",
     "text": [
      "홀수입니다\n",
      "짝수입니다\n"
     ]
    }
   ],
   "source": [
    "def isodd(num) :\n",
    "    if num%2 == 0 :\n",
    "        print(\"짝수입니다\")\n",
    "    else :\n",
    "        print(\"홀수입니다\")\n",
    "\n",
    "isodd(3)\n",
    "isodd(4)"
   ]
  },
  {
   "cell_type": "code",
   "execution_count": 75,
   "metadata": {},
   "outputs": [
    {
     "name": "stdout",
     "output_type": "stream",
     "text": [
      "2.0\n",
      "3.0\n"
     ]
    }
   ],
   "source": [
    "def avgnum(*args) :\n",
    "\n",
    "    count = 0\n",
    "    result = 0\n",
    "    for i in args :\n",
    "        count += 1\n",
    "        result += i\n",
    "\n",
    "    return result/count\n",
    "\n",
    "print(avgnum(1,2,3))\n",
    "print(avgnum(1,2,3,4,5))"
   ]
  },
  {
   "cell_type": "code",
   "execution_count": 86,
   "metadata": {},
   "outputs": [
    {
     "name": "stdout",
     "output_type": "stream",
     "text": [
      "2\n",
      "3\n"
     ]
    }
   ],
   "source": [
    "def avgnum(*args) :\n",
    "\n",
    "  \n",
    "    result = 0\n",
    "    for i in args :\n",
    "        count = len(args)\n",
    "        result += i\n",
    "\n",
    "    return result/count\n",
    "\n",
    "print(int(avgnum(1,2,3)))\n",
    "print(int(avgnum(1,2,3,4,5)))"
   ]
  },
  {
   "cell_type": "code",
   "execution_count": 88,
   "metadata": {},
   "outputs": [],
   "source": [
    "# 새로운 .txt 파일 만들기\n",
    "\n",
    "f = open(\"newfile.txt\",\"w\")\n",
    "f.close()\n"
   ]
  },
  {
   "cell_type": "code",
   "execution_count": 97,
   "metadata": {},
   "outputs": [],
   "source": [
    "# 파일에 내용 쓰기\n",
    "\n",
    "f = open(\"newfile2.txt\",\"w\")     # 새 파일 만들어서 열고\n",
    "for i in range(1,11) :\n",
    "    data = \"%d, line.\\n\" %i    # 새 파일에 여러 데이타 넣기\n",
    "    # data = str(i,\"line. \\n\") # 어라, 에러가 생기네. Why?\n",
    "    f.write(data)\n",
    "\n",
    "f.close()                        # 파일 닫기"
   ]
  },
  {
   "cell_type": "code",
   "execution_count": null,
   "metadata": {},
   "outputs": [],
   "source": [
    "# 파일 읽어오기\n",
    "\n",
    "f = open(\"newfile2.txt\",\"r\")\n",
    "\n",
    "while True:\n",
    "    line = f.readline()\n",
    "    if not line: break\n",
    "    print(line)\n",
    "\n",
    "f.close()"
   ]
  },
  {
   "cell_type": "code",
   "execution_count": 101,
   "metadata": {},
   "outputs": [
    {
     "name": "stdout",
     "output_type": "stream",
     "text": [
      "3\n",
      "5\n",
      "1\n",
      "3\n"
     ]
    }
   ],
   "source": [
    "# OOP    object oriented programming  \n",
    "# 객체 지향을 사용하지 않는 경우 (계산기 두개를 이요하는 상황을 표현)\n",
    "\n",
    "result1 = 0\n",
    "result2 = 0\n",
    "\n",
    "def add1(num) :\n",
    "    global result1\n",
    "    result1 += num\n",
    "    return result1\n",
    "\n",
    "print(add1(3))\n",
    "print(add1(2))\n",
    "\n",
    "def add2(num) :\n",
    "    global result2\n",
    "    result2 += num\n",
    "    return result2\n",
    "\n",
    "print(add2(1))\n",
    "print(add2(2))\n"
   ]
  },
  {
   "cell_type": "code",
   "execution_count": 109,
   "metadata": {},
   "outputs": [
    {
     "name": "stdout",
     "output_type": "stream",
     "text": [
      "3\n",
      "5\n",
      "\n",
      "1\n",
      "3\n",
      "\n",
      "1\n",
      "3\n",
      "6\n",
      "30\n"
     ]
    }
   ],
   "source": [
    "# 위의 예를 객체 지향 방식을 도입해서 프로그래밍 하면 ... (계산기 세개를 사용하는 상황을 표현)\n",
    "\n",
    "class Cal:\n",
    "\n",
    "    def __init__(self):     # 생성자 (더블 언더라인 이니트, \"던더 이니트\"라고 표현함)\n",
    "        self.result = 0\n",
    "\n",
    "    def add(self, num) :     # 매서드 (함수가 아닌 매서드)\n",
    "        self.result += num\n",
    "        return self.result\n",
    "\n",
    "    def mul(self, num) :     # 매서드 (함수가 아닌 매서드)\n",
    "        self.result *= num\n",
    "        return self.result\n",
    "\n",
    "cal1 = Cal()\n",
    "cal2 = Cal()\n",
    "cal3 = Cal()\n",
    "\n",
    "print(cal1.add(3))\n",
    "print(cal1.add(2))\n",
    "print()\n",
    "print(cal2.add(1))\n",
    "print(cal2.add(2))\n",
    "print()\n",
    "print(cal3.add(1))\n",
    "print(cal3.add(2))\n",
    "print(cal3.add(3))\n",
    "print(cal3.mul(5))\n"
   ]
  },
  {
   "cell_type": "code",
   "execution_count": 116,
   "metadata": {},
   "outputs": [
    {
     "name": "stdout",
     "output_type": "stream",
     "text": [
      "3\n",
      "5\n",
      "\n",
      "2\n",
      "6\n"
     ]
    }
   ],
   "source": [
    "class Cal:\n",
    "\n",
    "    def add(self, first, second) :\n",
    "        result = first + second\n",
    "        return result\n",
    "\n",
    "    def mul(self, first, second) :\n",
    "        result = first * second\n",
    "        return result\n",
    "\n",
    "cal1 = Cal()\n",
    "cal2 = Cal()\n",
    "\n",
    "print(cal1.add(1,2))\n",
    "print(cal2.add(2,3))\n",
    "print()\n",
    "print(cal1.mul(1,2))\n",
    "print(cal2.mul(2,3))"
   ]
  },
  {
   "cell_type": "code",
   "execution_count": 120,
   "metadata": {},
   "outputs": [
    {
     "name": "stdout",
     "output_type": "stream",
     "text": [
      "1\n",
      "2\n",
      "3\n",
      "4\n"
     ]
    }
   ],
   "source": [
    "class Cal:\n",
    "\n",
    "    def setdata(self, first, second) :\n",
    "        self.first = first\n",
    "        self.second = second\n",
    "\n",
    "\n",
    "cal1 = Cal()\n",
    "cal2 = Cal()\n",
    "cal1.setdata(1,2)\n",
    "cal2.setdata(3,4)\n",
    "\n",
    "print(cal1.first)\n",
    "print(cal1.second)\n",
    "\n",
    "print(cal2.first)\n",
    "print(cal2.second)"
   ]
  },
  {
   "cell_type": "code",
   "execution_count": null,
   "metadata": {},
   "outputs": [],
   "source": [
    "class Cal:\n",
    "    def setdata(self, first, second):\n",
    "        self.first = first\n",
    "        self.second = second\n",
    "\n",
    "    def add(self):\n",
    "        result = self.first + self.second\n",
    "        return result\n",
    "\n",
    "    def mul(self):\n",
    "        result = self.first * self.second\n",
    "        return result\n",
    "\n",
    "cal1 = Cal() \n",
    "cal1.setdata(1,2)\n",
    "print(cal1.add())\n",
    "print(cal1.mul())\n",
    "cal2 = Cal() \n",
    "cal2.setdata(3,4)\n",
    "print(cal2.add())\n",
    "print(cal2.mul())"
   ]
  },
  {
   "cell_type": "code",
   "execution_count": 121,
   "metadata": {},
   "outputs": [
    {
     "name": "stdout",
     "output_type": "stream",
     "text": [
      "3\n",
      "2\n",
      "7\n",
      "12\n"
     ]
    }
   ],
   "source": [
    "# 생성자 Constructor\n",
    "class Cal:\n",
    "    def __init__(self, first, second):\n",
    "        self.first = first\n",
    "        self.second = second\n",
    "    # def setdata(self, first, second):\n",
    "    #     self.first = first\n",
    "    #     self.second = second\n",
    "\n",
    "    def add(self):\n",
    "        result = self.first + self.second\n",
    "        return result\n",
    "\n",
    "    def mul(self):\n",
    "        result = self.first * self.second\n",
    "        return result\n",
    "\n",
    "cal1 = Cal(1,2) \n",
    "# cal1.setdata(1,2)\n",
    "print(cal1.add())\n",
    "print(cal1.mul())\n",
    "cal2 = Cal(3,4) \n",
    "# cal2.setdata(3,4)\n",
    "print(cal2.add())\n",
    "print(cal2.mul())"
   ]
  },
  {
   "cell_type": "code",
   "execution_count": 123,
   "metadata": {},
   "outputs": [
    {
     "name": "stdout",
     "output_type": "stream",
     "text": [
      "5\n",
      "6\n",
      "1\n"
     ]
    }
   ],
   "source": [
    "# 상속\n",
    "class Cal:\n",
    "    def __init__(self, first, second):\n",
    "        self.first = first\n",
    "        self.second = second\n",
    " \n",
    "\n",
    "    def add(self):\n",
    "        result = self.first + self.second\n",
    "        return result\n",
    "\n",
    "    def mul(self):\n",
    "        result = self.first * self.second\n",
    "        return result\n",
    "\n",
    "class MoreCal(Cal):        # Class Cal 기능을 그대로 Class MoreCal 에 구현한다. (상속)\n",
    "    def sub(self):\n",
    "        result = self.first - self.second\n",
    "        return result   \n",
    "\n",
    "'''\n",
    "cal1 = Cal(1,2) \n",
    "print(cal1.add())\n",
    "print(cal1.mul())\n",
    "cal2 = Cal(3,4) \n",
    "print(cal2.add())\n",
    "print(cal2.mul())\n",
    "'''\n",
    "\n",
    "cal3 = MoreCal(3,2)\n",
    "print(cal3.add())\n",
    "print(cal3.mul())\n",
    "print(cal3.sub())\n",
    "\n"
   ]
  },
  {
   "cell_type": "code",
   "execution_count": 129,
   "metadata": {},
   "outputs": [
    {
     "name": "stdout",
     "output_type": "stream",
     "text": [
      "계산 불가입니다.\n"
     ]
    }
   ],
   "source": [
    "# 상속\n",
    "class Cal:\n",
    "    def __init__(self, first, second):\n",
    "        self.first = first\n",
    "        self.second = second\n",
    " \n",
    "\n",
    "    def add(self):\n",
    "        result = self.first + self.second\n",
    "        return result\n",
    "\n",
    "    def mul(self):\n",
    "        result = self.first * self.second\n",
    "        return result\n",
    "\n",
    "    def div(self):\n",
    "        result = self.first / self.second\n",
    "        return result       \n",
    "\n",
    "class MoreCal(Cal):        # Class Cal 기능을 그대로 Class MoreCal 에 구현한다. (상속)\n",
    "    def sub(self):\n",
    "        result = self.first - self.second\n",
    "        return result   \n",
    "\n",
    "    def div(self):\n",
    "        if self.second == 0 :       # 상속하는 Cal 에서 부실한 div 매서드를 개선하는 내용을 추가함\n",
    "            return \"계산 불가입니다.\"\n",
    "        else :\n",
    "            result = self.first / self.second\n",
    "            return result   \n",
    "\n",
    "\n",
    "# Cal4 = Cal(2,0)\n",
    "# print(cal4())\n",
    "\n",
    "cal5 = MoreCal(2,0)\n",
    "print(cal5.div())\n",
    "\n",
    "\n",
    "\n"
   ]
  },
  {
   "cell_type": "code",
   "execution_count": 132,
   "metadata": {},
   "outputs": [
    {
     "ename": "TypeError",
     "evalue": "Cal.add() missing 1 required positional argument: 'd'",
     "output_type": "error",
     "traceback": [
      "\u001b[1;31m---------------------------------------------------------------------------\u001b[0m",
      "\u001b[1;31mTypeError\u001b[0m                                 Traceback (most recent call last)",
      "Cell \u001b[1;32mIn [132], line 15\u001b[0m\n\u001b[0;32m     11\u001b[0m         \u001b[39mreturn\u001b[39;00m a \u001b[39m+\u001b[39m b \u001b[39m+\u001b[39m c \u001b[39m+\u001b[39m d\n\u001b[0;32m     13\u001b[0m cal1 \u001b[39m=\u001b[39m Cal()\n\u001b[1;32m---> 15\u001b[0m \u001b[39mprint\u001b[39m(cal1\u001b[39m.\u001b[39;49madd(\u001b[39m1\u001b[39;49m, \u001b[39m2\u001b[39;49m))\n\u001b[0;32m     16\u001b[0m \u001b[39mprint\u001b[39m(cal1\u001b[39m.\u001b[39madd(\u001b[39m1\u001b[39m, \u001b[39m2\u001b[39m, \u001b[39m3\u001b[39m))\n\u001b[0;32m     17\u001b[0m \u001b[39mprint\u001b[39m(cal1\u001b[39m.\u001b[39madd(\u001b[39m1\u001b[39m, \u001b[39m2\u001b[39m, \u001b[39m3\u001b[39m, \u001b[39m4\u001b[39m))\n",
      "\u001b[1;31mTypeError\u001b[0m: Cal.add() missing 1 required positional argument: 'd'"
     ]
    }
   ],
   "source": [
    "# method overloading      파이선은 오버로딩은 지원하지 않는다. (자바는 지원함)\n",
    "\n",
    "class Cal() :\n",
    "    def add(a, b) :\n",
    "        return a + b\n",
    "\n",
    "    def add(a, b, c) :\n",
    "        return a + b + c\n",
    "\n",
    "    def add(a, b, c, d) :\n",
    "        return a + b + c + d\n",
    "    \n",
    "cal1 = Cal()\n",
    "\n",
    "print(cal1.add(1, 2))\n",
    "print(cal1.add(1, 2, 3))\n",
    "print(cal1.add(1, 2, 3, 4))\n"
   ]
  },
  {
   "cell_type": "code",
   "execution_count": 138,
   "metadata": {},
   "outputs": [
    {
     "name": "stdout",
     "output_type": "stream",
     "text": [
      "프로그램을 종료합니다\n"
     ]
    }
   ],
   "source": [
    "try :\n",
    "    4/2       # 만일 분모가 0 이면 에러가 발생함  (division by zero)\n",
    "\n",
    "except :\n",
    "    print(\"에러가 발생했습니다\")\n",
    "\n",
    "finally :    # finally 는 생략 가능함\n",
    "    print(\"프로그램을 종료합니다\")     # 에러 발생 유무와 상관없이 항상 마지막에 실행"
   ]
  },
  {
   "cell_type": "code",
   "execution_count": 161,
   "metadata": {},
   "outputs": [
    {
     "name": "stdout",
     "output_type": "stream",
     "text": [
      "1\n",
      "list index out of range\n"
     ]
    }
   ],
   "source": [
    "# 여러개의 예외 처리\n",
    "\n",
    "try :   \n",
    "    a = [1, 2]\n",
    "    print(a[0])\n",
    "    print(a[2])     # 리스트 a 에는 3번째 요소가 없으므로 에러 발생함\n",
    "    #print(4/0)      # 분모가 0 이면 에러가 발생함  (division by zero)\n",
    "\n",
    "\n",
    "# except IndexError as e:\n",
    "#    print(e)\n",
    "\n",
    "# except ZeroDivisionError as e:\n",
    "#    print(e)\n",
    "\n",
    "\n",
    "except (IndexError, ZeroDivisionError) as e:\n",
    "    print(e)\n"
   ]
  },
  {
   "cell_type": "code",
   "execution_count": 162,
   "metadata": {},
   "outputs": [
    {
     "name": "stdout",
     "output_type": "stream",
     "text": [
      "1\n",
      "division by zero\n"
     ]
    }
   ],
   "source": [
    "# 여러개의 예외 처리\n",
    "\n",
    "try :   \n",
    "    a = [1, 2]\n",
    "    print(a[0])\n",
    "    # print(a[2])     # 리스트 a 에는 3번째 요소가 없으므로 에러 발생함\n",
    "    print(4/0)      # 분모가 0 이면 에러가 발생함  (division by zero)\n",
    "\n",
    "\n",
    "# except IndexError as e:\n",
    "#    print(e)\n",
    "\n",
    "# except ZeroDivisionError as e:\n",
    "#    print(e)\n",
    "\n",
    "\n",
    "except (IndexError, ZeroDivisionError) as e:\n",
    "    print(e)"
   ]
  },
  {
   "cell_type": "code",
   "execution_count": 167,
   "metadata": {},
   "outputs": [],
   "source": [
    "# 에러 회피하는 pass\n",
    "\n",
    "try :\n",
    "    4/0\n",
    "\n",
    "except :\n",
    "    pass\n",
    "    #print(\"에러가 발생했습니다\")"
   ]
  },
  {
   "cell_type": "code",
   "execution_count": 170,
   "metadata": {},
   "outputs": [
    {
     "ename": "NotImplementedError",
     "evalue": "",
     "output_type": "error",
     "traceback": [
      "\u001b[1;31m---------------------------------------------------------------------------\u001b[0m",
      "\u001b[1;31mNotImplementedError\u001b[0m                       Traceback (most recent call last)",
      "Cell \u001b[1;32mIn [170], line 8\u001b[0m\n\u001b[0;32m      5\u001b[0m         \u001b[39mraise\u001b[39;00m \u001b[39mNotImplementedError\u001b[39;00m     \u001b[39m# 강제로 지정한 에러를 발생시킴\u001b[39;00m\n\u001b[0;32m      7\u001b[0m bird \u001b[39m=\u001b[39m Bird()\n\u001b[1;32m----> 8\u001b[0m bird\u001b[39m.\u001b[39;49mfly()\n",
      "Cell \u001b[1;32mIn [170], line 5\u001b[0m, in \u001b[0;36mBird.fly\u001b[1;34m(self)\u001b[0m\n\u001b[0;32m      4\u001b[0m \u001b[39mdef\u001b[39;00m \u001b[39mfly\u001b[39m(\u001b[39mself\u001b[39m) :\n\u001b[1;32m----> 5\u001b[0m     \u001b[39mraise\u001b[39;00m \u001b[39mNotImplementedError\u001b[39;00m\n",
      "\u001b[1;31mNotImplementedError\u001b[0m: "
     ]
    }
   ],
   "source": [
    "# 예외 상황이 아님에도 불구하고 강제로 예회 상황 만들기\n",
    "\n",
    "class Bird :\n",
    "    def fly(self) :\n",
    "        raise NotImplementedError     # 강제로 지정한 에러를 발생시킴\n",
    "\n",
    "bird = Bird()\n",
    "bird.fly()"
   ]
  },
  {
   "cell_type": "code",
   "execution_count": 174,
   "metadata": {},
   "outputs": [
    {
     "name": "stdout",
     "output_type": "stream",
     "text": [
      "3\n"
     ]
    }
   ],
   "source": [
    "# 연습 문제\n",
    "class Calculator :\n",
    "    def __init__(self) :\n",
    "        self.value = 0\n",
    "\n",
    "    def add(self, val) :\n",
    "        self.value += val\n",
    "\n",
    "class UpgradeCalculator(Calculator) :\n",
    "    def minus(self, val) :\n",
    "        self.value -= val\n",
    "\n",
    "cal = UpgradeCalculator()\n",
    "cal.add(10)\n",
    "cal.minus(7)\n",
    "\n",
    "print(cal.value)\n"
   ]
  },
  {
   "cell_type": "code",
   "execution_count": 189,
   "metadata": {},
   "outputs": [
    {
     "name": "stdout",
     "output_type": "stream",
     "text": [
      "100\n"
     ]
    }
   ],
   "source": [
    "# 연습 문제\n",
    "\n",
    "class Calculator :\n",
    "    def __init__(self) :\n",
    "        self.value = 0\n",
    "\n",
    "    def add(self, val) :\n",
    "        self.value += val\n",
    "\n",
    "class MaxLimitCalculator(Calculator) :\n",
    "    def add(self, val) :\n",
    "        self.value += val\n",
    "        if self.value > 100 :\n",
    "            self.value = 100   \n",
    "       \n",
    "cal = MaxLimitCalculator()\n",
    "cal.add(50)  # 50 더하기\n",
    "cal.add(60)  # 60 더하기\n",
    "\n",
    "print(cal.value)  # 100 출력"
   ]
  }
 ],
 "metadata": {
  "kernelspec": {
   "display_name": "Python 3.10.6 64-bit",
   "language": "python",
   "name": "python3"
  },
  "language_info": {
   "codemirror_mode": {
    "name": "ipython",
    "version": 3
   },
   "file_extension": ".py",
   "mimetype": "text/x-python",
   "name": "python",
   "nbconvert_exporter": "python",
   "pygments_lexer": "ipython3",
   "version": "3.10.6"
  },
  "orig_nbformat": 4,
  "vscode": {
   "interpreter": {
    "hash": "be042be69eb07c0fcc9843e1c670e24d23c76b83e5f6982cc023fb319a955525"
   }
  }
 },
 "nbformat": 4,
 "nbformat_minor": 2
}
