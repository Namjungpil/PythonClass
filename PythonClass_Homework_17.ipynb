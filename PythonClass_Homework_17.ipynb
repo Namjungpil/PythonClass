{
  "nbformat": 4,
  "nbformat_minor": 0,
  "metadata": {
    "colab": {
      "provenance": [],
      "authorship_tag": "ABX9TyO9Jy0xSU3wtfB/xy0jrdF8",
      "include_colab_link": true
    },
    "kernelspec": {
      "name": "python3",
      "display_name": "Python 3"
    },
    "language_info": {
      "name": "python"
    }
  },
  "cells": [
    {
      "cell_type": "markdown",
      "metadata": {
        "id": "view-in-github",
        "colab_type": "text"
      },
      "source": [
        "<a href=\"https://colab.research.google.com/github/Namjungpil/PythonClass/blob/main/PythonClass_Homework_17.ipynb\" target=\"_parent\"><img src=\"https://colab.research.google.com/assets/colab-badge.svg\" alt=\"Open In Colab\"/></a>"
      ]
    },
    {
      "cell_type": "code",
      "execution_count": null,
      "metadata": {
        "id": "xP9g2Shk52PR"
      },
      "outputs": [],
      "source": [
        "# 251\n",
        "\n",
        "# 클래스   : 객체를 정의하고 만들기 위한 변수와 매써드의 집합, 붕어빵 틀에 비유됨\n",
        "# 객체     : 클래스로 만든 개별적이고 독립적인 것. 붕어빵 틀에서 만들어진 각각의 붕어빵에 비유됨\n",
        "# 인스턴스 : 객체가 소프트웨어에 실체화 된 것, 클래스로 만든 객체"
      ]
    },
    {
      "cell_type": "code",
      "source": [
        "# 252\n",
        "\n",
        "class Human :\n",
        "  pass\n",
        "\n"
      ],
      "metadata": {
        "id": "dlRopcaT-u2x"
      },
      "execution_count": 4,
      "outputs": []
    },
    {
      "cell_type": "code",
      "source": [
        "# 253\n",
        "\n",
        "class Human :\n",
        "   pass\n",
        "\n",
        "areum = Human()   \n",
        "print(type(areum))\n"
      ],
      "metadata": {
        "colab": {
          "base_uri": "https://localhost:8080/"
        },
        "id": "X1SEIWGY_CY8",
        "outputId": "393d5db1-40c3-43e5-9c69-f78f4d7bc377"
      },
      "execution_count": 7,
      "outputs": [
        {
          "output_type": "stream",
          "name": "stdout",
          "text": [
            "<class '__main__.Human'>\n"
          ]
        }
      ]
    },
    {
      "cell_type": "code",
      "source": [
        "# 254\n",
        "\n",
        "class Human :\n",
        "      print(\"응애응애\")\n",
        "\n",
        "areum = Human()"
      ],
      "metadata": {
        "colab": {
          "base_uri": "https://localhost:8080/"
        },
        "id": "uZr441uO_rDW",
        "outputId": "2c640a20-e5d6-4167-bacb-c967fbb0e7e1"
      },
      "execution_count": 9,
      "outputs": [
        {
          "output_type": "stream",
          "name": "stdout",
          "text": [
            "응애응애\n"
          ]
        }
      ]
    },
    {
      "cell_type": "code",
      "source": [
        "# 255\n",
        "class Human :\n",
        "  def setdata(self,이름, 나이, 성별) :\n",
        "    self.이름 = 이름\n",
        "    self.나이 = 나이\n",
        "    self.성별 = 성별\n",
        "       \n",
        "areum = Human()\n",
        "areum.setdata (\"아름\", 25, \"여자\")\n"
      ],
      "metadata": {
        "id": "hLoC_116BvXZ"
      },
      "execution_count": 12,
      "outputs": []
    },
    {
      "cell_type": "code",
      "source": [
        "# 256\n",
        "class Human :\n",
        "  def setdata(self,이름, 나이, 성별) :\n",
        "    self.이름 = 이름\n",
        "    self.나이 = 나이\n",
        "    self.성별 = 성별\n",
        "       \n",
        "areum = Human()\n",
        "areum.setdata (\"아름\", 25, \"여자\")\n",
        "\n",
        "self = areum\n",
        "print(\"이름 : 조\",self.이름, \", 나이 :\", self.나이, \", 성별 :\", self.성별) \n",
        " "
      ],
      "metadata": {
        "colab": {
          "base_uri": "https://localhost:8080/"
        },
        "id": "vetC9JSMQxqL",
        "outputId": "235bce11-81ba-49e3-a760-7d6e5d028cec"
      },
      "execution_count": 30,
      "outputs": [
        {
          "output_type": "stream",
          "name": "stdout",
          "text": [
            "이름 : 조 아름 , 나이 : 25 , 성별 : 여자\n"
          ]
        }
      ]
    },
    {
      "cell_type": "code",
      "source": [
        "# 257\n",
        "class Human :\n",
        "  def setdata(self,이름, 나이, 성별) :\n",
        "    self.이름 = 이름\n",
        "    self.나이 = 나이\n",
        "    self.성별 = 성별\n",
        "\n",
        "  def who(self) :\n",
        "    print(\"이름 : 조\",self.이름, \", 나이 :\", self.나이, \", 성별 :\", self.성별) \n",
        "\n",
        "areum = Human()\n",
        "areum.setdata(\"아름\", 25, \"여자\")\n",
        "\n",
        "areum.who ()"
      ],
      "metadata": {
        "colab": {
          "base_uri": "https://localhost:8080/"
        },
        "id": "hU-NmGP4RwQT",
        "outputId": "ee21aa0b-2346-4348-b27c-2d4c0216e268"
      },
      "execution_count": 28,
      "outputs": [
        {
          "output_type": "stream",
          "name": "stdout",
          "text": [
            "이름 : 조 아름 , 나이 : 25 , 성별 : 여자\n"
          ]
        }
      ]
    },
    {
      "cell_type": "code",
      "source": [
        "# 258\n",
        "class Human :\n",
        "  def __init__(self, 이름, 나이, 성별) :\n",
        "    self.이름 = 이름\n",
        "    self.나이 = 나이\n",
        "    self.성별 = 성별\n",
        "\n",
        "  def setInfo(self, 이름, 나이, 성별) :\n",
        "    self.이름 = 이름\n",
        "    self.나이 = 나이\n",
        "    self.성별 = 성별\n",
        "\n",
        "areum = Human(\"모름\", 0, \"모름\")\n",
        "#self = areum\n",
        "print(\"이름 : \",self.이름, \", 나이 : \",self.나이, \", 성별 : \", self.성별)\n",
        "\n",
        "areum.setInfo(\"아름\", 25, \"여자\") \n",
        "#self = areum\n",
        "print(\"이름 : \",self.이름, \", 나이 : \",self.나이, \", 성별 : \", self.성별)"
      ],
      "metadata": {
        "colab": {
          "base_uri": "https://localhost:8080/"
        },
        "id": "V4ZfJTN6sZ4p",
        "outputId": "2466cf54-d3c0-46c9-bb03-c762cab1f5bf"
      },
      "execution_count": 33,
      "outputs": [
        {
          "output_type": "stream",
          "name": "stdout",
          "text": [
            "이름 :  아름 , 나이 :  25 , 성별 :  여자\n",
            "이름 :  아름 , 나이 :  25 , 성별 :  여자\n"
          ]
        }
      ]
    },
    {
      "cell_type": "code",
      "source": [
        "# 259\n",
        "class Human :\n",
        "  def __init__(self, 이름, 나이, 성별) :\n",
        "    self.이름 = 이름\n",
        "    self.나이 = 나이\n",
        "    self.성별 = 성별\n",
        "\n",
        "    print(\"이름 : \",self.이름, \", 나이 : \",self.나이, \", 성별 : \", self.성별)\n",
        "\n",
        "  def __del__(self) :\n",
        "    print(\"나,\" , self.이름, \"의 죽음을 알리지 말라.\") \n",
        "  \n",
        "areum = Human(\"아름\", 25, \"여자\")\n",
        "print()\n",
        "del areum\n"
      ],
      "metadata": {
        "colab": {
          "base_uri": "https://localhost:8080/"
        },
        "id": "DYe0XorVyA5m",
        "outputId": "20036d02-f809-4b9f-ba69-ef98fbe01b00"
      },
      "execution_count": 26,
      "outputs": [
        {
          "output_type": "stream",
          "name": "stdout",
          "text": [
            "이름 :  아름 , 나이 :  25 , 성별 :  여자\n",
            "\n",
            "나, 아름 의 죽음을 알리지 말라.\n"
          ]
        }
      ]
    },
    {
      "cell_type": "code",
      "source": [
        "# 260\n",
        "class OMG :\n",
        "    def print(self) :\n",
        "        print(\"Oh my god\")\n",
        "\n",
        "myStock = OMG()\n",
        "myStock.print()       # 매써드 print() 의 괄호안에 객체명이 들어갈 수 있도록 self 를 입력해야 함"
      ],
      "metadata": {
        "colab": {
          "base_uri": "https://localhost:8080/"
        },
        "id": "o0mvgw1n5eHT",
        "outputId": "86c0757e-af05-4c06-d3bb-5f7137b95095"
      },
      "execution_count": 43,
      "outputs": [
        {
          "output_type": "stream",
          "name": "stdout",
          "text": [
            "Oh my god\n"
          ]
        }
      ]
    },
    {
      "cell_type": "code",
      "source": [
        "# 261\n",
        "class Stock :             # 클래스 Stock 생성\n",
        "  pass                    # 별도 기능 없음\n"
      ],
      "metadata": {
        "id": "VIS8GGg5671d"
      },
      "execution_count": null,
      "outputs": []
    },
    {
      "cell_type": "code",
      "source": [
        "# 262\n",
        "class Stock :\n",
        "  def __init__(self, 종목명, 종목코드) :\n",
        "    self.종목명 = 종목명\n",
        "    self.종목코드 = 종목코드\n",
        "\n",
        "삼성 = Stock (\"삼성전자\", \"005930\")\n",
        "\n",
        "print(삼성.종목명, 삼성.종목코드)"
      ],
      "metadata": {
        "colab": {
          "base_uri": "https://localhost:8080/"
        },
        "id": "uANYHUw37M7Z",
        "outputId": "08c7d6a6-8553-4f44-f2dd-bbafea6c1298"
      },
      "execution_count": 45,
      "outputs": [
        {
          "output_type": "stream",
          "name": "stdout",
          "text": [
            "삼성전자 005930\n"
          ]
        }
      ]
    },
    {
      "cell_type": "code",
      "source": [
        "# 263\n",
        "class Stock :\n",
        "  def __init__(self, 종목명, 종목코드) :\n",
        "    self.종목명 = 종목명\n",
        "    self.종목코드 = 종목코드\n",
        "    print(a, self.종목명, self.종목코드)\n",
        "\n",
        "  def set_name (self,str) :\n",
        "    self.종목명 = str\n",
        "    print(a, self.종목명)\n",
        "\n",
        "a = Stock(None, None)\n",
        "\n",
        "a.set_name(\"삼성전자\")\n"
      ],
      "metadata": {
        "colab": {
          "base_uri": "https://localhost:8080/"
        },
        "id": "42OIDgkh8rsl",
        "outputId": "857a23af-6ef7-4e34-ed6d-a5b2d0dd18af"
      },
      "execution_count": 49,
      "outputs": [
        {
          "output_type": "stream",
          "name": "stdout",
          "text": [
            "<__main__.Stock object at 0x7faca1686bd0> None None\n",
            "<__main__.Stock object at 0x7faca16bda10> 삼성전자\n"
          ]
        }
      ]
    },
    {
      "cell_type": "code",
      "source": [
        "# 264\n",
        "class Stock :\n",
        "  def __init__(self, 종목명, 종목코드) :\n",
        "    self.종목명 = 종목명\n",
        "    self.종목코드 = 종목코드\n",
        "    print(self.종목명, self.종목코드)\n",
        "\n",
        "  def set_name (self,str) :\n",
        "    self.종목명 = str\n",
        "    print(self.종목명)\n",
        "\n",
        "  def set_code (self,code) :\n",
        "    self.code = code\n",
        "    print(self.code)\n",
        "\n",
        "a = Stock(None, None)\n",
        "\n",
        "a.set_code(\"005930\")"
      ],
      "metadata": {
        "colab": {
          "base_uri": "https://localhost:8080/"
        },
        "id": "fMGwNDXY_XBw",
        "outputId": "f72e4eec-f92f-4040-c2b2-4162a9b0104f"
      },
      "execution_count": 51,
      "outputs": [
        {
          "output_type": "stream",
          "name": "stdout",
          "text": [
            "None None\n",
            "005930\n"
          ]
        }
      ]
    },
    {
      "cell_type": "code",
      "source": [
        "# 265\n",
        "class Stock :\n",
        "  def __init__(self, 종목명, 종목코드) :\n",
        "    self.종목명 = 종목명\n",
        "    self.종목코드 = 종목코드\n",
        "    \n",
        "  def get_name (self) :\n",
        "       print(self.종목명)\n",
        "  def get_code (self) :\n",
        "       print(self.종목코드)\n",
        "\n",
        "\n",
        "삼성 = Stock(\"삼성전자\", \"005930\")\n",
        "삼성.get_name()\n",
        "삼성.get_code()\n"
      ],
      "metadata": {
        "colab": {
          "base_uri": "https://localhost:8080/"
        },
        "id": "uNdZqOpA_1Rf",
        "outputId": "fc4268e0-680a-4ebd-93d4-bbfd3a98039f"
      },
      "execution_count": 59,
      "outputs": [
        {
          "output_type": "stream",
          "name": "stdout",
          "text": [
            "삼성전자\n",
            "005930\n"
          ]
        }
      ]
    },
    {
      "cell_type": "code",
      "source": [
        "# 266\n",
        "class Stock :\n",
        "  def __init__(self, 종목명, 종목코드, PER, PBR, 배당수익률) :\n",
        "    self.종목명 = 종목명\n",
        "    self.종목코드 = 종목코드\n",
        "    self.PER = float(PER)\n",
        "    self.PBR = float(PBR)\n",
        "    self.배당수익률 = float(배당수익률)"
      ],
      "metadata": {
        "id": "WwUEpyacFX0e"
      },
      "execution_count": null,
      "outputs": []
    },
    {
      "cell_type": "code",
      "source": [
        "# 267\n",
        "class Stock :\n",
        "  def __init__(self, 종목명, 종목코드, PER, PBR, 배당수익률) :\n",
        "    self.종목명 = 종목명\n",
        "    self.종목코드 = 종목코드\n",
        "    self.PER = float(PER)\n",
        "    self.PBR = float(PBR)\n",
        "    self.배당수익률 = float(배당수익률)\n",
        "\n",
        "삼성 = Stock(\"삼성전자\", \"005930\", 15.79, 1.33, 2.83)\n",
        "\n"
      ],
      "metadata": {
        "id": "-b3xBu74FzSQ"
      },
      "execution_count": 61,
      "outputs": []
    },
    {
      "cell_type": "code",
      "source": [
        "# 268\n",
        "class Stock :\n",
        "  def __init__(self, 종목명, 종목코드, PER, PBR, 배당수익률) :\n",
        "    self.종목명 = 종목명\n",
        "    self.종목코드 = 종목코드\n",
        "    self.PER = float(PER)\n",
        "    self.PBR = float(PBR)\n",
        "    self.배당수익률 = float(배당수익률)\n",
        "\n",
        "  def set_per (self, PER) :\n",
        "    self.PER = float(PER)\n",
        "\n",
        "  def set_pbr (self, PBR) :\n",
        "    self.PBR = float(PBR)  \n",
        "\n",
        "  def set_dividend (self, 배당수익률) :\n",
        "    self.배당수익률 = float(배당수익률)"
      ],
      "metadata": {
        "id": "LkQk84qUGYmG"
      },
      "execution_count": null,
      "outputs": []
    },
    {
      "cell_type": "code",
      "source": [
        "# 269\n",
        "class Stock :\n",
        "  def __init__(self, 종목명, 종목코드, PER, PBR, 배당수익률) :\n",
        "    self.종목명 = 종목명\n",
        "    self.종목코드 = 종목코드\n",
        "    self.PER = float(PER)\n",
        "    self.PBR = float(PBR)\n",
        "    self.배당수익률 = float(배당수익률)\n",
        "\n",
        "    print(\"초기값: \", self.종목명, self.종목코드, self.PER, self.PBR, self.배당수익률)\n",
        "\n",
        "  def set_per (self, PER) :\n",
        "    self.PER = float(PER)\n",
        "    print(\"변경값: \", self.종목명, self.종목코드, self.PER, self.PBR, self.배당수익률)\n",
        "\n",
        "  def set_pbr (self, PBR) :\n",
        "    self.PBR = float(PBR)  \n",
        "    print(\"변경값: \", self.종목명, self.종목코드, self.PER, self.PBR, self.배당수익률)\n",
        "\n",
        "  def set_dividend (self, 배당수익률) :\n",
        "    self.배당수익률 = float(배당수익률)\n",
        "    print(\"변경값: \", self.종목명, self.종목코드, self.PER, self.PBR, self.배당수익률)\n",
        "\n",
        "삼성 = Stock(\"삼성전자\", \"005930\", 15.79, 1.33, 2.83)\n",
        "삼성.set_per(12.75)\n",
        "print(삼성.PER)\n"
      ],
      "metadata": {
        "colab": {
          "base_uri": "https://localhost:8080/"
        },
        "id": "qVO2pIDqHFEH",
        "outputId": "af61bce2-d048-4a94-8c6c-90b53eaa1d2e"
      },
      "execution_count": 72,
      "outputs": [
        {
          "output_type": "stream",
          "name": "stdout",
          "text": [
            "초기값:  삼성전자 005930 15.79 1.33 2.83\n",
            "변경값:  삼성전자 005930 12.75 1.33 2.83\n",
            "12.75\n"
          ]
        }
      ]
    },
    {
      "cell_type": "code",
      "source": [
        "# 270     --> 모르겠음 !!\n",
        "\n",
        "stock_list = []\n",
        "\n",
        "class Stock :\n",
        "\n",
        "  def __init__(self, 종목명, 종목코드, PER, PBR, 배당수익률) :\n",
        "    self.종목명 = 종목명\n",
        "    self.종목코드 = 종목코드\n",
        "    self.PER = float(PER)\n",
        "    self.PBR = float(PBR)\n",
        "    self.배당수익률 = float(배당수익률)\n",
        "\n",
        "삼성 = Stock(\"삼성전자\", \"005930\", 15.79, 1.33, 2.83)\n",
        "현대차 = Stock(\"현대차\", \"005380\", 8.70, 0.35, 4.27)\n",
        "LG = Stock(\"LG전자\", \"066570\", 317.34, 0.69, 1.37)\n",
        "\n",
        "stock_list.append(삼성)\n",
        "stock_list.append(현대차)\n",
        "stock_list.append(LG)\n",
        "\n",
        "print(stock_list)\n",
        "\n",
        "for i in stock_list :\n",
        "  print(i.종목코드, i.PER)\n"
      ],
      "metadata": {
        "colab": {
          "base_uri": "https://localhost:8080/"
        },
        "id": "J314Ar1WImMf",
        "outputId": "63eb917b-322b-42b4-cb99-4079766318af"
      },
      "execution_count": 74,
      "outputs": [
        {
          "output_type": "stream",
          "name": "stdout",
          "text": [
            "[<__main__.Stock object at 0x7fac9785a250>, <__main__.Stock object at 0x7fac9785a310>, <__main__.Stock object at 0x7fac9785a9d0>]\n",
            "005930 15.79\n",
            "005380 8.7\n",
            "066570 317.34\n"
          ]
        }
      ]
    }
  ]
}